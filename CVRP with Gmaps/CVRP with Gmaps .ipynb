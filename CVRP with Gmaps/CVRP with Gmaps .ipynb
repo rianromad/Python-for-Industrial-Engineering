{
 "cells": [
  {
   "cell_type": "markdown",
   "id": "553156ab",
   "metadata": {},
   "source": [
    "# Capacitated Vehicle Routing Problem with Gmaps\n",
    "Pada sesi ini kita akan menyelesaikan kasus fiktif Capacitated VRP menggunakan bantuan pulp untuk optimasi serta gmaps untuk visualisasi dan routing. Saya menggunakan data lokasi sebuah perusahaan retail sebagai gambaran penerapan. Akan dilakukan pengiriman produk X dari Alfamidi (Depot) ke enam Alfamart. Diasumsikan truk yang akan mengangkut produk X memiliki kapasitas 100 unit dan terdapat perbedaan demand yang jelas antar retailer.\n",
    "\n",
    "\n",
    "Pada model capacitated VRP ini terdapat beberapa asumsi, di antaranya:\n",
    "1. Semua kendaraan yang digunakan memiliki jenis dan kapasitas yang sama \n",
    "2. CVRP tidak mempertimbangkan time window. Terdapat model kusus bernama VRPTW.\n",
    "3. CVRP hanya mempertimbangkan kapasitas pengiriman."
   ]
  },
  {
   "cell_type": "markdown",
   "id": "0229804c",
   "metadata": {},
   "source": [
    "## 1. Mengimpor Library dan Mengumpulkan Data"
   ]
  },
  {
   "cell_type": "code",
   "execution_count": 1,
   "id": "05828ae3",
   "metadata": {},
   "outputs": [],
   "source": [
    "import numpy as np\n",
    "from pulp import *\n",
    "import gmaps\n",
    "import googlemaps\n",
    "import pandas as pd"
   ]
  },
  {
   "cell_type": "code",
   "execution_count": 2,
   "id": "6e910b02",
   "metadata": {},
   "outputs": [],
   "source": [
    "#masukkan api key terlebih dahulu untuk membuat peta dan mengakses jarak antar tempat\n",
    "#jika belum memiliki epi key, silakan mendaftar terlebih dahulu di https://developers.google.com/maps\n",
    "API_KEY = 'Masukkan API Key di sini'\n",
    "gmaps.configure(api_key=API_KEY)\n",
    "googlemaps = googlemaps.Client(key=API_KEY)"
   ]
  },
  {
   "cell_type": "code",
   "execution_count": 86,
   "id": "7ed33b43",
   "metadata": {},
   "outputs": [
    {
     "data": {
      "text/html": [
       "<div>\n",
       "<style scoped>\n",
       "    .dataframe tbody tr th:only-of-type {\n",
       "        vertical-align: middle;\n",
       "    }\n",
       "\n",
       "    .dataframe tbody tr th {\n",
       "        vertical-align: top;\n",
       "    }\n",
       "\n",
       "    .dataframe thead th {\n",
       "        text-align: right;\n",
       "    }\n",
       "</style>\n",
       "<table border=\"1\" class=\"dataframe\">\n",
       "  <thead>\n",
       "    <tr style=\"text-align: right;\">\n",
       "      <th></th>\n",
       "      <th>Lokasi</th>\n",
       "      <th>Demand</th>\n",
       "    </tr>\n",
       "    <tr>\n",
       "      <th>Nama</th>\n",
       "      <th></th>\n",
       "      <th></th>\n",
       "    </tr>\n",
       "  </thead>\n",
       "  <tbody>\n",
       "    <tr>\n",
       "      <th>Depot</th>\n",
       "      <td>(-7.820275519559818, 110.35576478748318)</td>\n",
       "      <td>0</td>\n",
       "    </tr>\n",
       "    <tr>\n",
       "      <th>Alfamart Bugisan</th>\n",
       "      <td>(-7.818459939237757, 110.34828905480705)</td>\n",
       "      <td>40</td>\n",
       "    </tr>\n",
       "    <tr>\n",
       "      <th>Alfamart Ring Road Selatan</th>\n",
       "      <td>(-7.826882740143658, 110.3457904293808)</td>\n",
       "      <td>50</td>\n",
       "    </tr>\n",
       "    <tr>\n",
       "      <th>Alfamart Bibis</th>\n",
       "      <td>(-7.825849387004239, 110.32770847947735)</td>\n",
       "      <td>50</td>\n",
       "    </tr>\n",
       "    <tr>\n",
       "      <th>Alfamart UMY Tamantirto</th>\n",
       "      <td>(-7.814562872952285, 110.32839097560857)</td>\n",
       "      <td>30</td>\n",
       "    </tr>\n",
       "    <tr>\n",
       "      <th>Alfamart Ngebel</th>\n",
       "      <td>(-7.814073787921593, 110.3183264772633)</td>\n",
       "      <td>20</td>\n",
       "    </tr>\n",
       "    <tr>\n",
       "      <th>Alfamart Ring Road Selatan 2</th>\n",
       "      <td>(-7.809770036857429, 110.32472496772033)</td>\n",
       "      <td>10</td>\n",
       "    </tr>\n",
       "  </tbody>\n",
       "</table>\n",
       "</div>"
      ],
      "text/plain": [
       "                                                                Lokasi  Demand\n",
       "Nama                                                                          \n",
       "Depot                         (-7.820275519559818, 110.35576478748318)       0\n",
       "Alfamart Bugisan              (-7.818459939237757, 110.34828905480705)      40\n",
       "Alfamart Ring Road Selatan     (-7.826882740143658, 110.3457904293808)      50\n",
       "Alfamart Bibis                (-7.825849387004239, 110.32770847947735)      50\n",
       "Alfamart UMY Tamantirto       (-7.814562872952285, 110.32839097560857)      30\n",
       "Alfamart Ngebel                (-7.814073787921593, 110.3183264772633)      20\n",
       "Alfamart Ring Road Selatan 2  (-7.809770036857429, 110.32472496772033)      10"
      ]
     },
     "execution_count": 86,
     "metadata": {},
     "output_type": "execute_result"
    }
   ],
   "source": [
    "#data saya ambil manual menggunakan gmaps\n",
    "#data demand bersifat dummy\n",
    "data = {\"Nama\":[\"Depot\",\n",
    "                \"Alfamart Bugisan\",\n",
    "                \"Alfamart Ring Road Selatan\",\n",
    "                \"Alfamart Bibis\",\n",
    "                \"Alfamart UMY Tamantirto\",\n",
    "                \"Alfamart Ngebel\",\n",
    "                \"Alfamart Ring Road Selatan 2\"],\n",
    "        \"Lokasi\":[(-7.820275519559818, 110.35576478748318),\n",
    "                  (-7.818459939237757, 110.34828905480705),\n",
    "                  (-7.826882740143658, 110.3457904293808),\n",
    "                  (-7.825849387004239, 110.32770847947735),\n",
    "                  (-7.814562872952285, 110.32839097560857),\n",
    "                  (-7.814073787921593, 110.3183264772633),\n",
    "                  (-7.809770036857429, 110.32472496772033)],\n",
    "        \"Demand\":[0,40,50,50,30,20,10]}\n",
    "\n",
    "#asumsi kendaraan dapat mengangkut 100 unit produk\n",
    "vehicle_cap = 100\n",
    "alfa = pd.DataFrame(data).set_index(\"Nama\")\n",
    "alfa"
   ]
  },
  {
   "cell_type": "markdown",
   "id": "b231b712",
   "metadata": {},
   "source": [
    "## 2. Visualisasi Peta"
   ]
  },
  {
   "cell_type": "code",
   "execution_count": 87,
   "id": "435c4961",
   "metadata": {},
   "outputs": [
    {
     "data": {
      "application/vnd.jupyter.widget-view+json": {
       "model_id": "b24b875e08a34489b9b892692310e76e",
       "version_major": 2,
       "version_minor": 0
      },
      "text/plain": [
       "Figure(layout=FigureLayout(height='420px'))"
      ]
     },
     "metadata": {},
     "output_type": "display_data"
    }
   ],
   "source": [
    "#melihat lokasi \n",
    "alfa_map = gmaps.figure()\n",
    "\n",
    "#untuk depot saya beri warna biru sebagai pembeda\n",
    "depot = gmaps.symbol_layer([alfa.Lokasi[0]],fill_color=\"blue\",stroke_opacity=0,\n",
    "                           scale=6,info_box_content=\"Depot\",display_info_box=True)\n",
    "\n",
    "#tambahkan marker sebagai penanda retailer\n",
    "markers = gmaps.marker_layer(alfa.Lokasi[1:])\n",
    " \n",
    "alfa_map.add_layer(depot)    \n",
    "alfa_map.add_layer(markers)\n",
    "    \n",
    "alfa_map"
   ]
  },
  {
   "cell_type": "markdown",
   "id": "94baa898",
   "metadata": {},
   "source": [
    "Tampilan output akan seperti gambar di bawah ini:\n",
    "\n",
    "<img src=\"https://user-images.githubusercontent.com/61647791/144628288-870c3c6a-ca83-4d02-a273-48b6cd4866be.png\" />"
   ]
  },
  {
   "cell_type": "markdown",
   "id": "39a3aa93",
   "metadata": {},
   "source": [
    "## 3. Jarak Antar Lokasi\n",
    "Tahap selanjutnya yakni menghitung jarak antar lokasi menggunakan api direction dari gmaps. Jarak yang digunakan merupakan jarak terdekat antar lokasi dengan mode \"driving\". Setiap jarak antar lokasi kemudian dimasukkan ke dalam sebuah matriks persegi dengan ukuran panjang dan lebar sesuai jumlah lokasi termasuk depot.  Berikut adalah kodenya:"
   ]
  },
  {
   "cell_type": "code",
   "execution_count": 88,
   "id": "911b0828",
   "metadata": {},
   "outputs": [],
   "source": [
    "#fungsi untuk membuat matriks jarak dari sebuah kolom lokasi\n",
    "\n",
    "def distance_matrix(loc_column):\n",
    "    #membuat matriks nol berukuran nxn\n",
    "    distance_result = np.zeros((len(loc_column),len(loc_column)))\n",
    "    \n",
    "    for i in range(len(loc_column)):\n",
    "        for j in range(len(loc_column)):\n",
    "            \n",
    "            # menghitung jarak antar lokasi\n",
    "            api_result = googlemaps.directions(loc_column[i],\n",
    "                                               loc_column[j],\n",
    "                                               mode = 'driving')\n",
    "            \n",
    "            # memasukkan hasil perhitungan pada matriks \n",
    "            distance_result[i][j] = api_result[0]['legs'][0]['distance']['value']\n",
    "    \n",
    "    return distance_result"
   ]
  },
  {
   "cell_type": "code",
   "execution_count": 89,
   "id": "3c96fc00",
   "metadata": {},
   "outputs": [
    {
     "data": {
      "text/html": [
       "<div>\n",
       "<style scoped>\n",
       "    .dataframe tbody tr th:only-of-type {\n",
       "        vertical-align: middle;\n",
       "    }\n",
       "\n",
       "    .dataframe tbody tr th {\n",
       "        vertical-align: top;\n",
       "    }\n",
       "\n",
       "    .dataframe thead th {\n",
       "        text-align: right;\n",
       "    }\n",
       "</style>\n",
       "<table border=\"1\" class=\"dataframe\">\n",
       "  <thead>\n",
       "    <tr style=\"text-align: right;\">\n",
       "      <th>Nama</th>\n",
       "      <th>Depot</th>\n",
       "      <th>Alfamart Bugisan</th>\n",
       "      <th>Alfamart Ring Road Selatan</th>\n",
       "      <th>Alfamart Bibis</th>\n",
       "      <th>Alfamart UMY Tamantirto</th>\n",
       "      <th>Alfamart Ngebel</th>\n",
       "      <th>Alfamart Ring Road Selatan 2</th>\n",
       "    </tr>\n",
       "    <tr>\n",
       "      <th>Nama</th>\n",
       "      <th></th>\n",
       "      <th></th>\n",
       "      <th></th>\n",
       "      <th></th>\n",
       "      <th></th>\n",
       "      <th></th>\n",
       "      <th></th>\n",
       "    </tr>\n",
       "  </thead>\n",
       "  <tbody>\n",
       "    <tr>\n",
       "      <th>Depot</th>\n",
       "      <td>0.0</td>\n",
       "      <td>1349.0</td>\n",
       "      <td>1782.0</td>\n",
       "      <td>4264.0</td>\n",
       "      <td>4693.0</td>\n",
       "      <td>5764.0</td>\n",
       "      <td>5823.0</td>\n",
       "    </tr>\n",
       "    <tr>\n",
       "      <th>Alfamart Bugisan</th>\n",
       "      <td>1349.0</td>\n",
       "      <td>0.0</td>\n",
       "      <td>2479.0</td>\n",
       "      <td>3536.0</td>\n",
       "      <td>3002.0</td>\n",
       "      <td>5036.0</td>\n",
       "      <td>4132.0</td>\n",
       "    </tr>\n",
       "    <tr>\n",
       "      <th>Alfamart Ring Road Selatan</th>\n",
       "      <td>2518.0</td>\n",
       "      <td>1217.0</td>\n",
       "      <td>0.0</td>\n",
       "      <td>2482.0</td>\n",
       "      <td>2911.0</td>\n",
       "      <td>3982.0</td>\n",
       "      <td>4041.0</td>\n",
       "    </tr>\n",
       "    <tr>\n",
       "      <th>Alfamart Bibis</th>\n",
       "      <td>4269.0</td>\n",
       "      <td>3552.0</td>\n",
       "      <td>3155.0</td>\n",
       "      <td>0.0</td>\n",
       "      <td>1279.0</td>\n",
       "      <td>2350.0</td>\n",
       "      <td>2409.0</td>\n",
       "    </tr>\n",
       "    <tr>\n",
       "      <th>Alfamart UMY Tamantirto</th>\n",
       "      <td>4667.0</td>\n",
       "      <td>3002.0</td>\n",
       "      <td>4176.0</td>\n",
       "      <td>1280.0</td>\n",
       "      <td>0.0</td>\n",
       "      <td>1689.0</td>\n",
       "      <td>1130.0</td>\n",
       "    </tr>\n",
       "    <tr>\n",
       "      <th>Alfamart Ngebel</th>\n",
       "      <td>6246.0</td>\n",
       "      <td>5529.0</td>\n",
       "      <td>5755.0</td>\n",
       "      <td>2827.0</td>\n",
       "      <td>1695.0</td>\n",
       "      <td>0.0</td>\n",
       "      <td>3291.0</td>\n",
       "    </tr>\n",
       "    <tr>\n",
       "      <th>Alfamart Ring Road Selatan 2</th>\n",
       "      <td>5633.0</td>\n",
       "      <td>4916.0</td>\n",
       "      <td>5142.0</td>\n",
       "      <td>2245.0</td>\n",
       "      <td>1070.0</td>\n",
       "      <td>1732.0</td>\n",
       "      <td>0.0</td>\n",
       "    </tr>\n",
       "  </tbody>\n",
       "</table>\n",
       "</div>"
      ],
      "text/plain": [
       "Nama                           Depot  Alfamart Bugisan  \\\n",
       "Nama                                                     \n",
       "Depot                            0.0            1349.0   \n",
       "Alfamart Bugisan              1349.0               0.0   \n",
       "Alfamart Ring Road Selatan    2518.0            1217.0   \n",
       "Alfamart Bibis                4269.0            3552.0   \n",
       "Alfamart UMY Tamantirto       4667.0            3002.0   \n",
       "Alfamart Ngebel               6246.0            5529.0   \n",
       "Alfamart Ring Road Selatan 2  5633.0            4916.0   \n",
       "\n",
       "Nama                          Alfamart Ring Road Selatan  Alfamart Bibis  \\\n",
       "Nama                                                                       \n",
       "Depot                                             1782.0          4264.0   \n",
       "Alfamart Bugisan                                  2479.0          3536.0   \n",
       "Alfamart Ring Road Selatan                           0.0          2482.0   \n",
       "Alfamart Bibis                                    3155.0             0.0   \n",
       "Alfamart UMY Tamantirto                           4176.0          1280.0   \n",
       "Alfamart Ngebel                                   5755.0          2827.0   \n",
       "Alfamart Ring Road Selatan 2                      5142.0          2245.0   \n",
       "\n",
       "Nama                          Alfamart UMY Tamantirto  Alfamart Ngebel  \\\n",
       "Nama                                                                     \n",
       "Depot                                          4693.0           5764.0   \n",
       "Alfamart Bugisan                               3002.0           5036.0   \n",
       "Alfamart Ring Road Selatan                     2911.0           3982.0   \n",
       "Alfamart Bibis                                 1279.0           2350.0   \n",
       "Alfamart UMY Tamantirto                           0.0           1689.0   \n",
       "Alfamart Ngebel                                1695.0              0.0   \n",
       "Alfamart Ring Road Selatan 2                   1070.0           1732.0   \n",
       "\n",
       "Nama                          Alfamart Ring Road Selatan 2  \n",
       "Nama                                                        \n",
       "Depot                                               5823.0  \n",
       "Alfamart Bugisan                                    4132.0  \n",
       "Alfamart Ring Road Selatan                          4041.0  \n",
       "Alfamart Bibis                                      2409.0  \n",
       "Alfamart UMY Tamantirto                             1130.0  \n",
       "Alfamart Ngebel                                     3291.0  \n",
       "Alfamart Ring Road Selatan 2                           0.0  "
      ]
     },
     "execution_count": 89,
     "metadata": {},
     "output_type": "execute_result"
    }
   ],
   "source": [
    "#jika perlu, matriks jarak dapat dibuat menjadi dataframe supaya lebih mudah dipahami\n",
    "#jarak dalam satuan m\n",
    "\n",
    "data_jarak = pd.DataFrame(distance_matrix(alfa.Lokasi),columns=alfa.index,index=alfa.index)\n",
    "data_jarak"
   ]
  },
  {
   "cell_type": "code",
   "execution_count": null,
   "id": "94549415",
   "metadata": {},
   "outputs": [],
   "source": [
    "#teman-teman juga bisa menyimpan data ini terlebih dahulu\n",
    "data_jarak.to_csv(\"jarak_alfamart.csv\")"
   ]
  },
  {
   "cell_type": "markdown",
   "id": "8e461bdd",
   "metadata": {},
   "source": [
    "## 4. Pembuatan Model\n",
    "Model VRP yang saya saya gunakan berasal dari Paolo Toth dan Daniele Vigo yang bisa dilihat melalui link paper di bawah ini:\n",
    "\n",
    "https://www.sciencedirect.com/science/article/pii/S0166218X01003511"
   ]
  },
  {
   "cell_type": "markdown",
   "id": "579b86f5",
   "metadata": {},
   "source": [
    "Terdapat dua buah variabel keputusan pada model ini, yaitu Xij yang bertipe binary dan menunjukkan apakah produk dikirimkan dari lokasi i ke j serta variabel jumlah rute yang digunakan. Misalkan rute yang diperlukan berjumlah 3 maka perusahaan bisa mengalokasikan 3 kendaraan untuk mengirimkan produk sekaligus, atau mengalokasikan 1 kendaraan untuk melakukan pengiriman sebanyak 3 kali. Berikut adalah model matematis yang digunakan:\n",
    "\n",
    "<img src=\"https://user-images.githubusercontent.com/61647791/144783435-1bd7ccdf-441b-4401-a02b-857d4ccb6c5c.png\" height=800 width=500 />\n"
   ]
  },
  {
   "cell_type": "markdown",
   "id": "4add214d",
   "metadata": {},
   "source": [
    "Paolo Toth dan Daniele Vigo juga memberikan batasan alternatif sebagai pengganti batasan **nomor 5** yang biasa disebut sebagai *generalized subtour elimination constraints (GSEC)*. Batasan ini jauh lebih mudah diterjemahkan ke dalam kode python.\n",
    "\n",
    "<img src=\"https://user-images.githubusercontent.com/61647791/144783942-520c9ca2-49fb-40f5-b565-a90032238bfc.png\" width=500 height=300/>"
   ]
  },
  {
   "cell_type": "code",
   "execution_count": 98,
   "id": "9233a0b7",
   "metadata": {},
   "outputs": [],
   "source": [
    "#inisiasi model\n",
    "model = LpProblem(\"VRP\",LpMinimize)\n",
    "\n",
    "#decision variable\n",
    "x_keys = [(i,j) for i in alfa.index for j in alfa.index]\n",
    "x = LpVariable.dicts(\"x\",x_keys,cat=\"Binary\")\n",
    "\n",
    "n_route = LpVariable(\"n_vehicle\",cat=\"Integer\") "
   ]
  },
  {
   "cell_type": "code",
   "execution_count": 99,
   "id": "423e62c7",
   "metadata": {},
   "outputs": [],
   "source": [
    "#fungsi tujuan: meminimalkan jarak\n",
    "model += lpSum(data_jarak.loc[i,j]*x[i,j] for i,j in x_keys)"
   ]
  },
  {
   "cell_type": "code",
   "execution_count": 100,
   "id": "588b23fb",
   "metadata": {},
   "outputs": [],
   "source": [
    "#constrain 0\n",
    "#pastikan tidak ada arc dari lokasi awal dan tujuan yang sama, ex. alfamart bugisan ke alfamart bugisan\n",
    "for i in alfa.index:\n",
    "    model += x[i,i] == 0"
   ]
  },
  {
   "cell_type": "code",
   "execution_count": 101,
   "id": "1a75b8e9",
   "metadata": {},
   "outputs": [],
   "source": [
    "#constrain 1: indegree constraint\n",
    "#terdapat satu jalur selain dari depot yang masuk ke lokasi j\n",
    "for j in alfa.iloc[1:].index:\n",
    "    model += lpSum(x[i,j] for i in alfa.index) == 1\n",
    "\n",
    "#constrain 2: outdegree constraint\n",
    "#terdapat satu jalur selain dari depot yang keluar dari lokasi i\n",
    "for i in alfa.iloc[1:].index:\n",
    "    model += lpSum(x[i,j] for j in alfa.index) == 1"
   ]
  },
  {
   "cell_type": "code",
   "execution_count": 102,
   "id": "a75a5b0d",
   "metadata": {},
   "outputs": [],
   "source": [
    "#constrain 3: terdapat n jalur yang keluar dari depot\n",
    "model += lpSum(x[\"Depot\",j] for j in alfa.index) == n_route\n",
    "\n",
    "#constrain 4: terdapat n jalur yang masuk ke depot\n",
    "model += lpSum(x[i,\"Depot\"] for i in alfa.index) == n_route"
   ]
  },
  {
   "cell_type": "code",
   "execution_count": 103,
   "id": "01b3330e",
   "metadata": {},
   "outputs": [],
   "source": [
    "#constrain 5: subtour elimination\n",
    "#list untuk menampung subtour\n",
    "import itertools as it\n",
    "\n",
    "subtours = []\n",
    "for i in range(2,len(alfa.index)):\n",
    "    subtours += it.combinations(alfa.index[1:], i)\n",
    "\n",
    "for st in subtours:\n",
    "    demand = np.sum([alfa.Demand[s] for s in st])\n",
    "    model += lpSum(x[i,j] for i,j in it.permutations(st,2)) <= np.max([0,len(st)-np.ceil(demand/vehicle_cap)])"
   ]
  },
  {
   "cell_type": "code",
   "execution_count": 104,
   "id": "3f69c8ab",
   "metadata": {},
   "outputs": [],
   "source": [
    "#fungsi untuk menemukan subtour, dan hasil route\n",
    "\n",
    "def get_plan(r0):\n",
    "    r=copy.copy(r0)\n",
    "    route = []\n",
    "    while len(r) != 0:\n",
    "        plan = [r[0]]\n",
    "        del (r[0])\n",
    "        l = 0\n",
    "        while len(plan) > l:\n",
    "            l = len(plan)\n",
    "            for i, j in enumerate(r):\n",
    "                if plan[-1][1] == j[0]:\n",
    "                    plan.append(j)\n",
    "                    del (r[i])\n",
    "        route.append(plan)\n",
    "    return(route)"
   ]
  },
  {
   "cell_type": "code",
   "execution_count": 105,
   "id": "7de2bd09",
   "metadata": {},
   "outputs": [
    {
     "name": "stdout",
     "output_type": "stream",
     "text": [
      "-----------------\n",
      "1 Optimal 21992.0\n"
     ]
    }
   ],
   "source": [
    "import copy\n",
    "keys = [(i,j) for i in alfa.index for j in alfa.index]\n",
    "status=model.solve()\n",
    "#status=model.solver()\n",
    "print(\"-----------------\")\n",
    "print(status,LpStatus[status],value(model.objective))\n",
    "routes=[(i,j) for i,j in x_keys if value(x[i,j])==1]"
   ]
  },
  {
   "cell_type": "code",
   "execution_count": 106,
   "id": "72c0d9e3",
   "metadata": {},
   "outputs": [
    {
     "data": {
      "text/plain": [
       "[[('Depot', 'Alfamart Bugisan'),\n",
       "  ('Alfamart Bugisan', 'Alfamart UMY Tamantirto'),\n",
       "  ('Alfamart UMY Tamantirto', 'Alfamart Ring Road Selatan 2'),\n",
       "  ('Alfamart Ring Road Selatan 2', 'Alfamart Ngebel'),\n",
       "  ('Alfamart Ngebel', 'Depot'),\n",
       "  ('Depot', 'Alfamart Ring Road Selatan'),\n",
       "  ('Alfamart Ring Road Selatan', 'Alfamart Bibis'),\n",
       "  ('Alfamart Bibis', 'Depot')]]"
      ]
     },
     "execution_count": 106,
     "metadata": {},
     "output_type": "execute_result"
    }
   ],
   "source": [
    "#mengecek rute\n",
    "#terdapat dua buah rute\n",
    "get_plan(routes)"
   ]
  },
  {
   "cell_type": "code",
   "execution_count": 107,
   "id": "89430965",
   "metadata": {},
   "outputs": [
    {
     "data": {
      "text/plain": [
       "[[('Depot', 'Alfamart Bugisan'),\n",
       "  ('Alfamart Bugisan', 'Alfamart UMY Tamantirto'),\n",
       "  ('Alfamart UMY Tamantirto', 'Alfamart Ring Road Selatan 2'),\n",
       "  ('Alfamart Ring Road Selatan 2', 'Alfamart Ngebel'),\n",
       "  ('Alfamart Ngebel', 'Depot')],\n",
       " [('Depot', 'Alfamart Ring Road Selatan'),\n",
       "  ('Alfamart Ring Road Selatan', 'Alfamart Bibis'),\n",
       "  ('Alfamart Bibis', 'Depot')]]"
      ]
     },
     "execution_count": 107,
     "metadata": {},
     "output_type": "execute_result"
    }
   ],
   "source": [
    "#memisahkan rute \n",
    "route_list = [[r1 for r1 in get_plan(routes)[0][:5]],[r2 for r2 in get_plan(routes)[0][5:]]]\n",
    "route_list"
   ]
  },
  {
   "cell_type": "markdown",
   "id": "4f12a0be",
   "metadata": {},
   "source": [
    "## 4. Visualisasi Rute"
   ]
  },
  {
   "cell_type": "code",
   "execution_count": 108,
   "id": "1b717de4",
   "metadata": {},
   "outputs": [
    {
     "data": {
      "application/vnd.jupyter.widget-view+json": {
       "model_id": "62a7c4642dd244e78e6010130cc30fdd",
       "version_major": 2,
       "version_minor": 0
      },
      "text/plain": [
       "Figure(layout=FigureLayout(height='420px'))"
      ]
     },
     "metadata": {},
     "output_type": "display_data"
    }
   ],
   "source": [
    "# visualisasi menggunakan gmaps\n",
    "fig = gmaps.figure()\n",
    "layer = []\n",
    "\n",
    "#setiap rute memiliki warna yang berbeda\n",
    "color_list = [\"red\",\"blue\"]\n",
    "\n",
    "#menggambar rute\n",
    "for route,color in zip(route_list,color_list):\n",
    "    for r in route:\n",
    "        layer.append(gmaps.directions.Directions(alfa.loc[r[0]][\"Lokasi\"],\n",
    "                                                 alfa.loc[r[1]][\"Lokasi\"],\n",
    "                                                 mode=\"car\",stroke_weight=5, stroke_color=color,\n",
    "                                                 show_markers=False))\n",
    "\n",
    "for i in range(len(layer)):\n",
    "    fig.add_layer(layer[i])    \n",
    "    \n",
    "    \n",
    "#menambahkan marker\n",
    "markers = gmaps.marker_layer(alfa.Lokasi, info_box_content=alfa.index)\n",
    "fig.add_layer(markers) \n",
    "\n",
    "fig"
   ]
  },
  {
   "cell_type": "markdown",
   "id": "b6d991ad",
   "metadata": {},
   "source": [
    "Tampilan output akan seperti gambar di bawah ini:\n",
    "\n",
    "<img src=\"https://user-images.githubusercontent.com/61647791/144784928-385aa154-cda4-4241-ac92-16c921e4d20a.png\" />\n",
    "\n",
    "\n",
    "<img src=\"https://user-images.githubusercontent.com/61647791/144784983-59f705aa-5927-44c0-b179-61c1b617f57b.png\" />\n"
   ]
  },
  {
   "cell_type": "code",
   "execution_count": 44,
   "id": "273b8a14",
   "metadata": {},
   "outputs": [],
   "source": [
    "#apabila ingin menyimpan peta\n",
    "from ipywidgets.embed import embed_minimal_html\n",
    "\n",
    "embed_minimal_html('alfa.html', views=[fig])"
   ]
  },
  {
   "cell_type": "markdown",
   "id": "27f99ae0",
   "metadata": {},
   "source": [
    "\n",
    "## Kesimpulan:"
   ]
  },
  {
   "cell_type": "markdown",
   "id": "f49c0f6e",
   "metadata": {},
   "source": [
    "1. Berdasarkan hasil optimasi diperoleh total jarak yang ditempuh sebesar 21.992 km dengan dua rute/jalur. Perusahaan dapat mengalokasikan dua buah kendaraan untuk melakukan pengiriman dalam satu kali jalan atau mengalokasikan satu kendaraan untuk melakukan pengiriman sebanyak 2 kali.\n",
    "2. Rute 1 merupakan pengiriman dari Depot -> Alfamart Bugisan -> Alfamart UMY Tamantirto -> Alfamart Ring Road Selatan 2 -> Alfamart Ngebel kemudian kembali ke Depot. Pada peta rute ini berwarna biru.\n",
    "3. Rute 2 merupakan pengiriman dari Depot -> Alfamart Ring Road Selatan -> Alfamart Bibis kemudian kembali ke Depot. Pada peta rute ini berwarna merah.\n",
    "4. Model CVRP ini hanya mempertimbangkan kapasitas produk yang dapat dikirimkan oleh kendaraan. Selain itu kendaaran diasumsikan homogen, dalam arti memiliki jenis serta kapasitas produk yang sama. Masih terdapat model VRP lainnya seperti pada bagan berikut:\n",
    "\n",
    "<img src=\"https://www.researchgate.net/profile/Semih-Yalcindag/publication/267508322/figure/fig1/AS:295585207865357@1447484413863/Relationship-between-the-TSP-VRP-and-variants.png\" />\n"
   ]
  }
 ],
 "metadata": {
  "kernelspec": {
   "display_name": "Python 3 (ipykernel)",
   "language": "python",
   "name": "python3"
  },
  "language_info": {
   "codemirror_mode": {
    "name": "ipython",
    "version": 3
   },
   "file_extension": ".py",
   "mimetype": "text/x-python",
   "name": "python",
   "nbconvert_exporter": "python",
   "pygments_lexer": "ipython3",
   "version": "3.9.7"
  }
 },
 "nbformat": 4,
 "nbformat_minor": 5
}
