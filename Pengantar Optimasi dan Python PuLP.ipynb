{
 "cells": [
  {
   "cell_type": "markdown",
   "metadata": {},
   "source": [
    "# Pengantar Optimasi\n",
    "''Sumber materi yang lebih lengkap ada pada buku Sarker and Newton - Optimization Modelling dan buku riset operasi lainnya''"
   ]
  },
  {
   "cell_type": "markdown",
   "metadata": {},
   "source": [
    "Secara garis besar otimasi adalah suatu proses untuk menemukan nilai yang paling tidak mendekati optimal dari serangkaian model matematika. Nilai optimal yang dimaksud dapat berupa nilai maksimum maupun minimum. Penerapan optimasi di kehidupan sehari-hari cukup luas, salah satunya yaitu pada bidang Teknik Industri. Pada bidang ini optimasi digunakan untuk menyelesaikan beberapa permasalahan di antaranya:\n",
    "\n",
    "1. Production and Job Scheduling\n",
    "2. Facility Allocation\n",
    "3. Travelling Salesman Problem\n",
    "4. Vehicle Routing Problem\n",
    "5. Transportation Problem\n",
    "6. Assignment Problem\n",
    "\n",
    "Dst.."
   ]
  },
  {
   "cell_type": "markdown",
   "metadata": {},
   "source": [
    "### Terdapat tiga komponen utama dalam model matematika, di antaranya:\n",
    "#### 1. Decision Variable\n",
    "\n",
    "Variabel keputusan adalah variabel yang merepresentasikan nilai yang akan kita cari melalui proses optimasi. Diharapkan kombinasi dari variabel tersebut menghasilkan nilai yang seoptimal mungkin. Terdapat beberapa tipe variabel keputusan, di antaranya:\n",
    "\n",
    "- Binary: variabel yang nilainya berupa 1 atau 0 yang merepresentasikan dua hal yang berlawanan misalkan iya atau tidak\n",
    "- Integer: variabel yang nilainya berupa bilangan bulat\n",
    "- Continous: variabel yang nilainya berupa bilangan pecahan/desimal\n",
    "     \n",
    "\n",
    "#### 2. Fungsi Tujuan atau Objective Function\n",
    "\n",
    "Gabungan dari variabel keputusan akan menghasilkan fungsi tujuan yang mengarah pada nilai optimal, dapat berupa maksimal atau minimal. Contoh fungsi tujuan maksimal adalah memaksimalkan profit atau sales, sedangkan fungsi tujuan minimal yaitu meminimalkan biaya, jarak, dan lain-lain.\n",
    "\n",
    "\n",
    "#### 3. Batasan atau Constrain\n",
    "\n",
    "Dalam kehidupan sehari-hari kita tidak bisa terlepas dari sebuah keterbatasan, misalnya keterbatasan biaya, persediaan, syarat-syarat tertentu dan lain-lain. Pada batasan atau constrain memiliki operator pembanding seperti ==, >=, <=, >, dan <."
   ]
  },
  {
   "cell_type": "markdown",
   "metadata": {},
   "source": [
    "# PuLP Python\n",
    "\n",
    "PuLP adalah pustaka yang ditulis dengan bahasa python untuk menyelesaikan permasalahan Linear Programming. Saat ini banyak software untuk menyelesaikan permasalahan Linear Programming seperti Lindo, Microsoft Excel (Solver), ORSTAT dan masih banyak lagi. Penggunaan python ditambah dengan library PuLP adalah alternatif lain selain software di atas. Supaya dapat menggunakan PuLP, yang kita perlukan yaitu software python serta library PuLP. Anda dapat mencobanya dengan menggunakan IDLE python atau Jupyter Notebook. Dokumentasi pulp: https://www.coin-or.org/PuLP/pulp.html"
   ]
  },
  {
   "cell_type": "markdown",
   "metadata": {},
   "source": [
    "### 1. Mengimpor Library"
   ]
  },
  {
   "cell_type": "code",
   "execution_count": 25,
   "metadata": {},
   "outputs": [],
   "source": [
    "#Mengimpor pulp -> gunakan tanda * supaya dapat mengambil semua method, atribut, dan fungsi dari pulp\n",
    "from pulp import *"
   ]
  },
  {
   "cell_type": "markdown",
   "metadata": {},
   "source": [
    "Biasanya dalam menyelesaikan permasalahan optimasi linear programming dengan pulp, kita juga membutuhkan bantuan library lain seperti pandas dan numpy. Setelah mengimpor library, kita bisa menginisiasi model pulp terlebih dahulu."
   ]
  },
  {
   "cell_type": "markdown",
   "metadata": {},
   "source": [
    "### 2. Menginisiasi Model\n",
    "Pada library pulp kita dapat menginisiasi model terlebih dahulu kemudian menambahkan variabel, begitupun sebaliknya. Akan tetapi kita tidak bisa membuat constrain maupun fungsi tujuan terlebih dahulu karena harus menginisiasi model. Berikut adalah urutan melakukan optimasi menggunakan pulp.\n",
    "\n",
    "**inisiasi model -> menambahkan variabel -> menambahkan fungsi tujuan dan constrain -> selesaikan -> cek hasil**\n",
    "\n",
    "atau\n",
    "\n",
    "**menambahkan variabel -> menginisiasi model -> menambahkan fungsi tujuan dan constrain -> selesaikan -> cek hasil**\n"
   ]
  },
  {
   "cell_type": "code",
   "execution_count": 26,
   "metadata": {},
   "outputs": [],
   "source": [
    "#Inisiasi model\n",
    "model = LpProblem(\"Nama_model\", LpMinimize)"
   ]
  },
  {
   "cell_type": "markdown",
   "metadata": {},
   "source": [
    "Saat menginisiasi model atau permasalahan menggunakan pulp, parameter pertama berupa nama model. Jangan menggunakan spasi ketika memberikan nama model, gantilah dengan tanda underscore(_). Parameter kedua yakni berupa jenis permasalahannya. Gunakan **LpMinimize** untuk kasus minimasi dan **LpMaximize** untuk kasus maksimasi. "
   ]
  },
  {
   "cell_type": "markdown",
   "metadata": {},
   "source": [
    "### 3. Menambahkan Variabel\n",
    "\n",
    "Setelah menginisiasi model atau permasalahan kita bisa menambahkan beberapa variabel yang akan dicari. Terdapat dua cara dalam membuat variabel menggunakan pulp, yaitu:\n",
    "\n",
    "1. Untuk variabel yang jumlahnya sedikit dapat menggunakan **LpVariable**\n",
    "2. Untuk variabel yang sangat banyak dapat menggunakan **LpVariable.dicts** yang diakes dengan menggunakan indexing"
   ]
  },
  {
   "cell_type": "code",
   "execution_count": 27,
   "metadata": {},
   "outputs": [],
   "source": [
    "#misalkan kita hanya membuat 2 variabel bertipe Integer\n",
    "x1 = LpVariable('x1', lowBound=0, upBound=None, cat='Integer')\n",
    "x2 = LpVariable('x2', lowBound=0, upBound=None, cat='Integer')"
   ]
  },
  {
   "cell_type": "code",
   "execution_count": 28,
   "metadata": {},
   "outputs": [],
   "source": [
    "#misalkan kita ingin membuat 100 variabel bertipe integer\n",
    "x = LpVariable.dicts('x', indexs=[i for i in range(0,100)], lowBound=0, upBound=None, cat='Integer')\n",
    "\n",
    "#silakan cek jumlah variabelnya\n",
    "#print(x)"
   ]
  },
  {
   "cell_type": "markdown",
   "metadata": {},
   "source": [
    "Terdapat beberapa parameter dalam membuat variabel, yakni:\n",
    "\n",
    "- name = nama variabel\n",
    "- indexs = jumlah variable yang dibutuhkan, biasa menggunakan bantuan list comprehension\n",
    "- lowBound = batas bawah variabel, jika semua variabel >=0 maka batas bawahnya 0\n",
    "- upBound = batas atas variabel, jika tidak ada tidak perlu dimasukkan (None)\n",
    "- cat = jenis variabel, ada tiga kategori yaitu \"Continous\"(pecahan), \"Integer\"(bulat), \"Binary\"(1/0)"
   ]
  },
  {
   "cell_type": "markdown",
   "metadata": {},
   "source": [
    "### 4. Menambahkan Fungsi Tujuan dan Constrain\n",
    "\n",
    "Untuk menambahkan fungsi tujuan dan constrain, kita menggunakan objek \"model\" yang telah kita definisikan di awal ditambah dengan operator increment (+=) dan operator pembanding (untuk constrain). Operator increment mengisyaratkan seolah-olah kita \"meng-update\" model dengan tambahan constrain dan fungsi tujuan. Misalkan di bawah ini adalah fungsi tujuan dan constrain yang akan kita masukan.\n",
    "\n",
    "\n",
    "max 500x1 + 100x2\n",
    "\n",
    "subject to\n",
    "\n",
    "    x1 + x2 <=50\n",
    "    \n",
    "    2x1 + 5x2 <=30"
   ]
  },
  {
   "cell_type": "code",
   "execution_count": 29,
   "metadata": {},
   "outputs": [],
   "source": [
    "#menambahkan fungsi tujuan\n",
    "model += 500*x1 + 100*x2\n",
    "\n",
    "#menambahkan constrain/batasan\n",
    "model += x1 + x2 <= 50\n",
    "model += 2*x1 + 5*x2 <=30"
   ]
  },
  {
   "cell_type": "markdown",
   "metadata": {},
   "source": [
    "Jika constrain maupun fungsi tujuan memiliki kalimat matematika yang panjang serta memiliki pola yang iteratif, kita bisa menggunakan **lpSum**. lpSum bertindak sebagai pengganti dari simbol sigma/sum pada kalimat matematika. Misalkan terdapat fungsi tujuan sebagai berikut:\n",
    "\n",
    "<img src=\"https://raw.githubusercontent.com/rianromad/Image-Storage/main/f1.PNG\"/>\n",
    "\n",
    "Kita akan mencoba membuat fungsi tujuannya versi pulp"
   ]
  },
  {
   "cell_type": "code",
   "execution_count": 30,
   "metadata": {},
   "outputs": [],
   "source": [
    "#menambahkan fungsi tujuan dengan lpSum\n",
    "\n",
    "#saya membuat data cost dummy sebanyak 100 buah menggunakan numpy\n",
    "import numpy as np\n",
    "cost = np.random.randint(10,80,100)\n",
    "\n",
    "model += lpSum([cost[i]*x[i]] for i in x.keys()) #untuk lebih jelasnya coba print x dan cost"
   ]
  },
  {
   "cell_type": "markdown",
   "metadata": {},
   "source": [
    "### 5 Menyelesaikan Model"
   ]
  },
  {
   "cell_type": "markdown",
   "metadata": {},
   "source": [
    "Untuk menyelesaikan model, kita cukup mengetikkan **model.solve()** dengan output berupa bilangan bulat (status) dengan ketentuan sebagai berikut:\n",
    "\n",
    "   1 = Optimal (ini yang kita inginkan)\n",
    "   \n",
    "   2 = Not Solved\n",
    "   \n",
    "   3 = Infeasible\n",
    "   \n",
    "   4 = Unbounded\n",
    "   \n",
    "   5 = Undefined\n"
   ]
  },
  {
   "cell_type": "markdown",
   "metadata": {},
   "source": [
    "### 6. Mengecek Nilai Variabel dan Fungsi Tujuan yang Optimal\n",
    "\n",
    "1. Mengecek nilai fungsi tujuan: cukup mengetikkan **model.objective.value()**\n",
    "\n",
    "2. Mengecek nilai variabel: kita bisa melakukan iterasi dan setiap variable ditambahkan method **.varValue**"
   ]
  },
  {
   "cell_type": "markdown",
   "metadata": {},
   "source": [
    "# Contoh Soal\n",
    "\n",
    "Pada sesi ini kita akan mencoba menyelesaikan model matematika sederhana sebagai berikut:\n",
    "\n",
    "<img src=\"https://cdn-images-1.medium.com/max/800/1*so27xxK-0UR3dcVfV5Mnug.png\" />\n",
    "\n",
    "\n",
    "*sumber: Operations Research: Applications and Algorithms, Wayne L. Winston*"
   ]
  },
  {
   "cell_type": "code",
   "execution_count": 31,
   "metadata": {},
   "outputs": [],
   "source": [
    "#import library\n",
    "from pulp import *"
   ]
  },
  {
   "cell_type": "code",
   "execution_count": 32,
   "metadata": {},
   "outputs": [],
   "source": [
    "#inisiasi model\n",
    "model = LpProblem(\"Simple_model\", LpMinimize)"
   ]
  },
  {
   "cell_type": "code",
   "execution_count": 33,
   "metadata": {},
   "outputs": [],
   "source": [
    "#membuat variabel\n",
    "x = LpVariable.dicts(\"x\",[i for i in range(1,5)], lowBound=0, cat=\"Continous\") #tidak ada keterangan integer sehingga saya menggunakan continous"
   ]
  },
  {
   "cell_type": "code",
   "execution_count": 34,
   "metadata": {},
   "outputs": [],
   "source": [
    "#fungsi tujuan\n",
    "model += 50*x[1] + 20*x[2] + 30*x[3] + 80*x[4]"
   ]
  },
  {
   "cell_type": "code",
   "execution_count": 36,
   "metadata": {},
   "outputs": [],
   "source": [
    "#constrain\n",
    "model += 400*x[1] + 200*x[2] + 150*x[3] + 500*x[4] >= 500\n",
    "model += 3*x[1]   + 3*x[2]                         >= 6\n",
    "model += 2*x[1]   + 2*x[2]   + 4*x[3]   + 4*x[4]   >= 10\n",
    "model += 2*x[1]   + 4*x[2]   + x[3]     + 5*x[4]   >= 8"
   ]
  },
  {
   "cell_type": "code",
   "execution_count": 37,
   "metadata": {},
   "outputs": [
    {
     "data": {
      "text/plain": [
       "1"
      ]
     },
     "execution_count": 37,
     "metadata": {},
     "output_type": "execute_result"
    }
   ],
   "source": [
    "#selesaikan model (1 = optimal)\n",
    "model.solve()"
   ]
  },
  {
   "cell_type": "code",
   "execution_count": 42,
   "metadata": {},
   "outputs": [
    {
     "name": "stdout",
     "output_type": "stream",
     "text": [
      "Nilai dari x_1 = 0.0\n",
      "Nilai dari x_2 = 2.0\n",
      "Nilai dari x_3 = 1.5\n",
      "Nilai dari x_4 = 0.0\n"
     ]
    }
   ],
   "source": [
    "#cek nilai variabel\n",
    "for i in x.keys():\n",
    "    print(f\"Nilai dari {x[i]} = {x[i].varValue}\")"
   ]
  },
  {
   "cell_type": "markdown",
   "metadata": {},
   "source": [
    "# Penutup"
   ]
  },
  {
   "cell_type": "markdown",
   "metadata": {},
   "source": [
    "Demikian tutorial singkat mengenai penggunaan pulp untuk menyelesaikan optimasi linear programming. Pastikan rekan-rekan sudah memahami bahasa pemrograman python terlebih dahulu supaya mudah dalam menggunakannya. Library pulp bisa menjadi alternatif software linear programming yang gratis."
   ]
  }
 ],
 "metadata": {
  "kernelspec": {
   "display_name": "Python 3",
   "language": "python",
   "name": "python3"
  },
  "language_info": {
   "codemirror_mode": {
    "name": "ipython",
    "version": 3
   },
   "file_extension": ".py",
   "mimetype": "text/x-python",
   "name": "python",
   "nbconvert_exporter": "python",
   "pygments_lexer": "ipython3",
   "version": "3.8.3"
  }
 },
 "nbformat": 4,
 "nbformat_minor": 4
}
