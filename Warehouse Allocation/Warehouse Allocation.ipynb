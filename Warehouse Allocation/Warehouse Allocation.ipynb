{
 "cells": [
  {
   "cell_type": "markdown",
   "metadata": {},
   "source": [
    "# Warehouse Allocation\n",
    "Pada sesi ini kita akan menggunakan library python pulp untuk menyelesaikan permasalahan alokasi gudang. Tujuan dari permasalahan ini yaitu menentukan gudang di kota mana saja yang akan dibuka supaya dapat meminimalkan jarak distribusi dari gudang ke customer. Materi ini bersumber dari kursus udemy **Supply Chain Design and Planning with Excel & Python - Haytham Omar.** Pada permasalahan kita tidak menggunakan data kapasitas gudang maupun biaya pembuatan/pembukaan gudang. Oleh karena itu, biaya yang diperlukan untuk membuka gudang diasumsikan sama."
   ]
  },
  {
   "cell_type": "markdown",
   "metadata": {},
   "source": [
    "### 1. Mengimpor Library"
   ]
  },
  {
   "cell_type": "code",
   "execution_count": 1,
   "metadata": {},
   "outputs": [],
   "source": [
    "import numpy as np\n",
    "from pulp import *\n",
    "import pandas as pd"
   ]
  },
  {
   "cell_type": "markdown",
   "metadata": {},
   "source": [
    "### 2. Mengimpor Data\n",
    "Data yang akan kita gunakan yakni data jarak distribusi dari gudang menuju customer (warehouse_city.xlsx) serta data demand masing-masing customer."
   ]
  },
  {
   "cell_type": "code",
   "execution_count": 2,
   "metadata": {},
   "outputs": [
    {
     "data": {
      "text/html": [
       "<div>\n",
       "<style scoped>\n",
       "    .dataframe tbody tr th:only-of-type {\n",
       "        vertical-align: middle;\n",
       "    }\n",
       "\n",
       "    .dataframe tbody tr th {\n",
       "        vertical-align: top;\n",
       "    }\n",
       "\n",
       "    .dataframe thead th {\n",
       "        text-align: right;\n",
       "    }\n",
       "</style>\n",
       "<table border=\"1\" class=\"dataframe\">\n",
       "  <thead>\n",
       "    <tr style=\"text-align: right;\">\n",
       "      <th></th>\n",
       "      <th>city 1</th>\n",
       "      <th>city 2</th>\n",
       "      <th>city 3</th>\n",
       "      <th>city 4</th>\n",
       "      <th>city 5</th>\n",
       "      <th>city 6</th>\n",
       "      <th>city 7</th>\n",
       "    </tr>\n",
       "    <tr>\n",
       "      <th>Warehouse</th>\n",
       "      <th></th>\n",
       "      <th></th>\n",
       "      <th></th>\n",
       "      <th></th>\n",
       "      <th></th>\n",
       "      <th></th>\n",
       "      <th></th>\n",
       "    </tr>\n",
       "  </thead>\n",
       "  <tbody>\n",
       "    <tr>\n",
       "      <th>city 1</th>\n",
       "      <td>0</td>\n",
       "      <td>2304</td>\n",
       "      <td>2528</td>\n",
       "      <td>950</td>\n",
       "      <td>906</td>\n",
       "      <td>947</td>\n",
       "      <td>1475</td>\n",
       "    </tr>\n",
       "    <tr>\n",
       "      <th>city 2</th>\n",
       "      <td>2304</td>\n",
       "      <td>0</td>\n",
       "      <td>2829</td>\n",
       "      <td>1776</td>\n",
       "      <td>2310</td>\n",
       "      <td>1475</td>\n",
       "      <td>2192</td>\n",
       "    </tr>\n",
       "    <tr>\n",
       "      <th>city 3</th>\n",
       "      <td>2528</td>\n",
       "      <td>2829</td>\n",
       "      <td>0</td>\n",
       "      <td>3123</td>\n",
       "      <td>1965</td>\n",
       "      <td>2134</td>\n",
       "      <td>1187</td>\n",
       "    </tr>\n",
       "    <tr>\n",
       "      <th>city 4</th>\n",
       "      <td>950</td>\n",
       "      <td>1776</td>\n",
       "      <td>3123</td>\n",
       "      <td>0</td>\n",
       "      <td>1699</td>\n",
       "      <td>1149</td>\n",
       "      <td>1926</td>\n",
       "    </tr>\n",
       "    <tr>\n",
       "      <th>city 5</th>\n",
       "      <td>906</td>\n",
       "      <td>2310</td>\n",
       "      <td>1965</td>\n",
       "      <td>1699</td>\n",
       "      <td>0</td>\n",
       "      <td>842</td>\n",
       "      <td>915</td>\n",
       "    </tr>\n",
       "    <tr>\n",
       "      <th>city 6</th>\n",
       "      <td>947</td>\n",
       "      <td>1475</td>\n",
       "      <td>2134</td>\n",
       "      <td>1149</td>\n",
       "      <td>842</td>\n",
       "      <td>0</td>\n",
       "      <td>922</td>\n",
       "    </tr>\n",
       "    <tr>\n",
       "      <th>city 7</th>\n",
       "      <td>1475</td>\n",
       "      <td>2192</td>\n",
       "      <td>1187</td>\n",
       "      <td>1926</td>\n",
       "      <td>915</td>\n",
       "      <td>922</td>\n",
       "      <td>0</td>\n",
       "    </tr>\n",
       "  </tbody>\n",
       "</table>\n",
       "</div>"
      ],
      "text/plain": [
       "           city 1  city 2  city 3  city 4  city 5  city 6  city 7\n",
       "Warehouse                                                        \n",
       "city 1          0    2304    2528     950     906     947    1475\n",
       "city 2       2304       0    2829    1776    2310    1475    2192\n",
       "city 3       2528    2829       0    3123    1965    2134    1187\n",
       "city 4        950    1776    3123       0    1699    1149    1926\n",
       "city 5        906    2310    1965    1699       0     842     915\n",
       "city 6        947    1475    2134    1149     842       0     922\n",
       "city 7       1475    2192    1187    1926     915     922       0"
      ]
     },
     "execution_count": 2,
     "metadata": {},
     "output_type": "execute_result"
    }
   ],
   "source": [
    "#kumpulkan data\n",
    "dist = pd.read_excel('warehouse_city.xlsx').set_index('Warehouse')\n",
    "demand = [10000,20000,33000,9000,60000,2500,35000] #demand masing-masing customer\n",
    "\n",
    "#melihat tabel dist\n",
    "dist"
   ]
  },
  {
   "cell_type": "markdown",
   "metadata": {},
   "source": [
    "### 3. Membuat Variabel\n",
    "Selanjutnya kita akan membuat parameter dan variabel yang dibutuhkan.\n",
    "\n",
    "**Parameter:**\n",
    "- warehouse: kumpulan gudang yang tersedia\n",
    "- customer: kumpulan pelanggan\n",
    "\n",
    "**Variabel:**\n",
    "- flows: variabel bertipe binary yang menunjukkan apakah akan dilakukan distribusi dari gudang menuju customer\n",
    "- open_w: variable bertipe binary yang menunjukkan apakah suatu gudang akan dibuka atau tidak"
   ]
  },
  {
   "cell_type": "code",
   "execution_count": 3,
   "metadata": {},
   "outputs": [],
   "source": [
    "#membuat parameter\n",
    "warehouse = dist.index\n",
    "customer = dist.columns\n",
    "\n",
    "#membuat key -> untuk membuat variabel flow\n",
    "keys = [(w,c) for w in warehouse for c in customer]\n",
    "\n",
    "#transformasi data jarak dan demand supaya lebih mudah diakses pulp\n",
    "dist_dict = {(w,c):dist.loc[w,c] for w in warehouse for c in customer}\n",
    "demand_dict = dict(zip(customer,demand))\n",
    "\n",
    "#inisiasi variabel\n",
    "flows = LpVariable.dicts('flows', keys, cat='Binary')\n",
    "open_w = LpVariable.dicts('open_w', warehouse, cat='Binary')"
   ]
  },
  {
   "cell_type": "code",
   "execution_count": 5,
   "metadata": {},
   "outputs": [
    {
     "data": {
      "text/plain": [
       "{'city 1': 10000,\n",
       " 'city 2': 20000,\n",
       " 'city 3': 33000,\n",
       " 'city 4': 9000,\n",
       " 'city 5': 60000,\n",
       " 'city 6': 2500,\n",
       " 'city 7': 35000}"
      ]
     },
     "execution_count": 5,
     "metadata": {},
     "output_type": "execute_result"
    }
   ],
   "source": [
    "demand_dict"
   ]
  },
  {
   "cell_type": "code",
   "execution_count": 11,
   "metadata": {},
   "outputs": [
    {
     "data": {
      "text/plain": [
       "{('city 1', 'city 1'): 0,\n",
       " ('city 1', 'city 2'): 2304,\n",
       " ('city 1', 'city 3'): 2528,\n",
       " ('city 1', 'city 4'): 950,\n",
       " ('city 1', 'city 5'): 906,\n",
       " ('city 1', 'city 6'): 947,\n",
       " ('city 1', 'city 7'): 1475,\n",
       " ('city 2', 'city 1'): 2304,\n",
       " ('city 2', 'city 2'): 0,\n",
       " ('city 2', 'city 3'): 2829,\n",
       " ('city 2', 'city 4'): 1776,\n",
       " ('city 2', 'city 5'): 2310,\n",
       " ('city 2', 'city 6'): 1475,\n",
       " ('city 2', 'city 7'): 2192,\n",
       " ('city 3', 'city 1'): 2528,\n",
       " ('city 3', 'city 2'): 2829,\n",
       " ('city 3', 'city 3'): 0,\n",
       " ('city 3', 'city 4'): 3123,\n",
       " ('city 3', 'city 5'): 1965,\n",
       " ('city 3', 'city 6'): 2134,\n",
       " ('city 3', 'city 7'): 1187,\n",
       " ('city 4', 'city 1'): 950,\n",
       " ('city 4', 'city 2'): 1776,\n",
       " ('city 4', 'city 3'): 3123,\n",
       " ('city 4', 'city 4'): 0,\n",
       " ('city 4', 'city 5'): 1699,\n",
       " ('city 4', 'city 6'): 1149,\n",
       " ('city 4', 'city 7'): 1926,\n",
       " ('city 5', 'city 1'): 906,\n",
       " ('city 5', 'city 2'): 2310,\n",
       " ('city 5', 'city 3'): 1965,\n",
       " ('city 5', 'city 4'): 1699,\n",
       " ('city 5', 'city 5'): 0,\n",
       " ('city 5', 'city 6'): 842,\n",
       " ('city 5', 'city 7'): 915,\n",
       " ('city 6', 'city 1'): 947,\n",
       " ('city 6', 'city 2'): 1475,\n",
       " ('city 6', 'city 3'): 2134,\n",
       " ('city 6', 'city 4'): 1149,\n",
       " ('city 6', 'city 5'): 842,\n",
       " ('city 6', 'city 6'): 0,\n",
       " ('city 6', 'city 7'): 922,\n",
       " ('city 7', 'city 1'): 1475,\n",
       " ('city 7', 'city 2'): 2192,\n",
       " ('city 7', 'city 3'): 1187,\n",
       " ('city 7', 'city 4'): 1926,\n",
       " ('city 7', 'city 5'): 915,\n",
       " ('city 7', 'city 6'): 922,\n",
       " ('city 7', 'city 7'): 0}"
      ]
     },
     "execution_count": 11,
     "metadata": {},
     "output_type": "execute_result"
    }
   ],
   "source": [
    "dist_dict"
   ]
  },
  {
   "cell_type": "markdown",
   "metadata": {},
   "source": [
    "### 4. Menginisiasi Model"
   ]
  },
  {
   "cell_type": "code",
   "execution_count": 12,
   "metadata": {},
   "outputs": [],
   "source": [
    "#inisiasi model\n",
    "model = LpProblem('Warehouse_Allocation', LpMinimize)"
   ]
  },
  {
   "cell_type": "markdown",
   "metadata": {},
   "source": [
    "### 5. Menambahkan Fungsi Tujuan dan Constrain\n",
    "\n",
    "Fungsi tujuan dari model ini adalah meminimalkan total jarak distribusi dari masing-masing gudang menuju masing-masing customer. Total jarak dihitung berdasarkan perkalian dari demand customer c dengan jarak antara gudang w ke customer c.\n",
    "\n",
    "Adapun batasan dari model ini yaitu:\n",
    "1. Pastikan setiap customer mendapatkan pasokan dari salah satu gudang\n",
    "2. Asumsi jumlah gudang yang akan dibuka sebanyak 3 unit\n",
    "3. Pastikan jika gudang di kota i akan dibuka, maka unit juga akan dikirimkan pada customer di kota i"
   ]
  },
  {
   "cell_type": "code",
   "execution_count": 14,
   "metadata": {},
   "outputs": [],
   "source": [
    "#Fungsi tujuan (meminimalkan effort transportasi unit dari warehouse ke customer)\n",
    "model += lpSum([demand_dict[c]*flows[(w,c)]*dist_dict[(w,c)] for w in warehouse for c in customer])"
   ]
  },
  {
   "cell_type": "code",
   "execution_count": 15,
   "metadata": {},
   "outputs": [],
   "source": [
    "#Constrain\n",
    "\n",
    "#Pastikan setiap customer mendapatkan pasokan dari salah satu gudang\n",
    "for c in customer:\n",
    "    model += lpSum(flows[(w,c)] for w in warehouse)==1\n",
    "\n",
    "#Jumlah gudang yang akan dibuka ada 3\n",
    "model += lpSum(open_w[w] for w in warehouse) == 3\n",
    "\n",
    "#Pastikan jika gudang ke i akan dibuka, maka unit juga akan dikirimkan pada customer di kota i\n",
    "for w in warehouse:\n",
    "    for c in customer:\n",
    "        model += open_w[w] >= flows[(w,c)]"
   ]
  },
  {
   "cell_type": "markdown",
   "metadata": {},
   "source": [
    "### 6. Menyelesaikan Model dan Mengecek Hasil Optimasi\n",
    "Selain mengecek jarak yang ditempuh, kita juga bisa mengecek gudang mana yang akan dibuka serta bagaimana alokasi gudang tersebut ke masing-masing customer"
   ]
  },
  {
   "cell_type": "code",
   "execution_count": 20,
   "metadata": {},
   "outputs": [
    {
     "data": {
      "text/plain": [
       "1"
      ]
     },
     "execution_count": 20,
     "metadata": {},
     "output_type": "execute_result"
    }
   ],
   "source": [
    "#Selesaikan model -> jika outputnya 1 artinya model telah optimal\n",
    "model.solve()"
   ]
  },
  {
   "cell_type": "code",
   "execution_count": 21,
   "metadata": {},
   "outputs": [
    {
     "data": {
      "text/plain": [
       "58481000"
      ]
     },
     "execution_count": 21,
     "metadata": {},
     "output_type": "execute_result"
    }
   ],
   "source": [
    "#cek jarak\n",
    "model.objective.value()"
   ]
  },
  {
   "cell_type": "code",
   "execution_count": 22,
   "metadata": {},
   "outputs": [
    {
     "data": {
      "text/html": [
       "<div>\n",
       "<style scoped>\n",
       "    .dataframe tbody tr th:only-of-type {\n",
       "        vertical-align: middle;\n",
       "    }\n",
       "\n",
       "    .dataframe tbody tr th {\n",
       "        vertical-align: top;\n",
       "    }\n",
       "\n",
       "    .dataframe thead th {\n",
       "        text-align: right;\n",
       "    }\n",
       "</style>\n",
       "<table border=\"1\" class=\"dataframe\">\n",
       "  <thead>\n",
       "    <tr style=\"text-align: right;\">\n",
       "      <th></th>\n",
       "      <th>Status</th>\n",
       "    </tr>\n",
       "    <tr>\n",
       "      <th>Warehouse</th>\n",
       "      <th></th>\n",
       "    </tr>\n",
       "  </thead>\n",
       "  <tbody>\n",
       "    <tr>\n",
       "      <th>city 1</th>\n",
       "      <td>Not Open</td>\n",
       "    </tr>\n",
       "    <tr>\n",
       "      <th>city 2</th>\n",
       "      <td>Open</td>\n",
       "    </tr>\n",
       "    <tr>\n",
       "      <th>city 3</th>\n",
       "      <td>Open</td>\n",
       "    </tr>\n",
       "    <tr>\n",
       "      <th>city 4</th>\n",
       "      <td>Not Open</td>\n",
       "    </tr>\n",
       "    <tr>\n",
       "      <th>city 5</th>\n",
       "      <td>Open</td>\n",
       "    </tr>\n",
       "    <tr>\n",
       "      <th>city 6</th>\n",
       "      <td>Not Open</td>\n",
       "    </tr>\n",
       "    <tr>\n",
       "      <th>city 7</th>\n",
       "      <td>Not Open</td>\n",
       "    </tr>\n",
       "  </tbody>\n",
       "</table>\n",
       "</div>"
      ],
      "text/plain": [
       "             Status\n",
       "Warehouse          \n",
       "city 1     Not Open\n",
       "city 2         Open\n",
       "city 3         Open\n",
       "city 4     Not Open\n",
       "city 5         Open\n",
       "city 6     Not Open\n",
       "city 7     Not Open"
      ]
     },
     "execution_count": 22,
     "metadata": {},
     "output_type": "execute_result"
    }
   ],
   "source": [
    "#Gudang mana yang akan dibuka?\n",
    "open_or_not = []\n",
    "\n",
    "for w in warehouse:\n",
    "    if open_w[w].varValue == 1:\n",
    "        status = 'Open'\n",
    "        open_or_not.append(status)\n",
    "    else:\n",
    "        status = 'Not Open'\n",
    "        open_or_not.append(status)\n",
    "        \n",
    "warehouse_status = pd.DataFrame({'Warehouse':warehouse,\n",
    "                                 'Status':open_or_not}).set_index('Warehouse')\n",
    "\n",
    "warehouse_status"
   ]
  },
  {
   "cell_type": "code",
   "execution_count": 23,
   "metadata": {},
   "outputs": [
    {
     "data": {
      "text/html": [
       "<div>\n",
       "<style scoped>\n",
       "    .dataframe tbody tr th:only-of-type {\n",
       "        vertical-align: middle;\n",
       "    }\n",
       "\n",
       "    .dataframe tbody tr th {\n",
       "        vertical-align: top;\n",
       "    }\n",
       "\n",
       "    .dataframe thead th {\n",
       "        text-align: right;\n",
       "    }\n",
       "</style>\n",
       "<table border=\"1\" class=\"dataframe\">\n",
       "  <thead>\n",
       "    <tr style=\"text-align: right;\">\n",
       "      <th></th>\n",
       "      <th>city 1</th>\n",
       "      <th>city 2</th>\n",
       "      <th>city 3</th>\n",
       "      <th>city 4</th>\n",
       "      <th>city 5</th>\n",
       "      <th>city 6</th>\n",
       "      <th>city 7</th>\n",
       "    </tr>\n",
       "    <tr>\n",
       "      <th>Warehouse</th>\n",
       "      <th></th>\n",
       "      <th></th>\n",
       "      <th></th>\n",
       "      <th></th>\n",
       "      <th></th>\n",
       "      <th></th>\n",
       "      <th></th>\n",
       "    </tr>\n",
       "  </thead>\n",
       "  <tbody>\n",
       "    <tr>\n",
       "      <th>city 1</th>\n",
       "      <td>0</td>\n",
       "      <td>0</td>\n",
       "      <td>0</td>\n",
       "      <td>0</td>\n",
       "      <td>0</td>\n",
       "      <td>0</td>\n",
       "      <td>0</td>\n",
       "    </tr>\n",
       "    <tr>\n",
       "      <th>city 2</th>\n",
       "      <td>0</td>\n",
       "      <td>1</td>\n",
       "      <td>0</td>\n",
       "      <td>0</td>\n",
       "      <td>0</td>\n",
       "      <td>0</td>\n",
       "      <td>0</td>\n",
       "    </tr>\n",
       "    <tr>\n",
       "      <th>city 3</th>\n",
       "      <td>0</td>\n",
       "      <td>0</td>\n",
       "      <td>1</td>\n",
       "      <td>0</td>\n",
       "      <td>0</td>\n",
       "      <td>0</td>\n",
       "      <td>0</td>\n",
       "    </tr>\n",
       "    <tr>\n",
       "      <th>city 4</th>\n",
       "      <td>0</td>\n",
       "      <td>0</td>\n",
       "      <td>0</td>\n",
       "      <td>0</td>\n",
       "      <td>0</td>\n",
       "      <td>0</td>\n",
       "      <td>0</td>\n",
       "    </tr>\n",
       "    <tr>\n",
       "      <th>city 5</th>\n",
       "      <td>1</td>\n",
       "      <td>0</td>\n",
       "      <td>0</td>\n",
       "      <td>1</td>\n",
       "      <td>1</td>\n",
       "      <td>1</td>\n",
       "      <td>1</td>\n",
       "    </tr>\n",
       "    <tr>\n",
       "      <th>city 6</th>\n",
       "      <td>0</td>\n",
       "      <td>0</td>\n",
       "      <td>0</td>\n",
       "      <td>0</td>\n",
       "      <td>0</td>\n",
       "      <td>0</td>\n",
       "      <td>0</td>\n",
       "    </tr>\n",
       "    <tr>\n",
       "      <th>city 7</th>\n",
       "      <td>0</td>\n",
       "      <td>0</td>\n",
       "      <td>0</td>\n",
       "      <td>0</td>\n",
       "      <td>0</td>\n",
       "      <td>0</td>\n",
       "      <td>0</td>\n",
       "    </tr>\n",
       "  </tbody>\n",
       "</table>\n",
       "</div>"
      ],
      "text/plain": [
       "           city 1  city 2  city 3  city 4  city 5  city 6  city 7\n",
       "Warehouse                                                        \n",
       "city 1          0       0       0       0       0       0       0\n",
       "city 2          0       1       0       0       0       0       0\n",
       "city 3          0       0       1       0       0       0       0\n",
       "city 4          0       0       0       0       0       0       0\n",
       "city 5          1       0       0       1       1       1       1\n",
       "city 6          0       0       0       0       0       0       0\n",
       "city 7          0       0       0       0       0       0       0"
      ]
     },
     "execution_count": 23,
     "metadata": {},
     "output_type": "execute_result"
    }
   ],
   "source": [
    "#Bagaimanakah alokasi gudang ke customer?\n",
    "f = []\n",
    "\n",
    "for w in warehouse:\n",
    "    for c in customer:\n",
    "        f.append(flows[(w,c)].varValue)\n",
    "        \n",
    "f_grouped = [f[i:i+7] for i in range(0,len(f),7)]\n",
    "distribution = pd.DataFrame(f_grouped, columns=customer, index=warehouse)\n",
    "distribution\n",
    "\n",
    "#1 artinya dilakukan, 0 artinya tidak"
   ]
  },
  {
   "cell_type": "markdown",
   "metadata": {},
   "source": [
    "Berdasarkan hasil optimasi di atas gudang yang akan dibuka yakni gudang pada kota 2, 3, dan 5. Gudang pada kota 5 memasok produk paling banyak. Kita juga bisa melakukan simulasi jumlah gudang yang dibuka terhadap total jarak yang ditempuh."
   ]
  },
  {
   "cell_type": "code",
   "execution_count": 26,
   "metadata": {},
   "outputs": [],
   "source": [
    "def warehouse_simulation(n):\n",
    "    model = LpProblem('Warehouse_Simulatiom', LpMinimize)\n",
    "    #Fungsi tujuan (meminimalkan effort transportasi unit dari warehouse ke customer)\n",
    "    model += lpSum([demand_dict[c]*flows[(w,c)]*dist_dict[(w,c)] for w in warehouse for c in customer])\n",
    "    \n",
    "    #Constrain\n",
    "\n",
    "    #Pastikan setiap customer mendapatkan pasokan dari salah satu gudang\n",
    "    for c in customer:\n",
    "        model += lpSum(flows[(w,c)] for w in warehouse)==1\n",
    "\n",
    "    #Jumlah gudang yang akan dibuat ada 3\n",
    "    model += lpSum(open_w[w] for w in warehouse) == n\n",
    "\n",
    "    #Pastikan jika gudang ke i akan dibuka, maka unit juga akan dikirimkan pada customer di kota i\n",
    "    for w in warehouse:\n",
    "        for c in customer:\n",
    "            model += open_w[w] >= flows[(w,c)]\n",
    "             \n",
    "    #Selesaikan model -> jika outputnya 1 artinya model telah optimal\n",
    "    model.solve()\n",
    "    return model.objective.value() "
   ]
  },
  {
   "cell_type": "code",
   "execution_count": 27,
   "metadata": {},
   "outputs": [
    {
     "name": "stdout",
     "output_type": "stream",
     "text": [
      "Jumlah gudang:1 dengan total jarak 169526000\n",
      "Jumlah gudang:2 dengan total jarak 104681000\n",
      "Jumlah gudang:3 dengan total jarak 58481000\n",
      "Jumlah gudang:4 dengan total jarak 26456000\n",
      "Jumlah gudang:5 dengan total jarak 10655000\n",
      "Jumlah gudang:6 dengan total jarak 2105000\n",
      "Jumlah gudang:7 dengan total jarak 0\n"
     ]
    }
   ],
   "source": [
    "for n in range(1,8):\n",
    "    print(f\"Jumlah gudang:{n} dengan total jarak {warehouse_simulation(n)}\")"
   ]
  },
  {
   "cell_type": "markdown",
   "metadata": {},
   "source": [
    "# Penutup\n",
    "\n",
    "Oke, ternyata semakin banyak gudang yang dibuka maka total jarak yang dibutuhkan akan semakin berkurang. Oleh karena itu keputusan mengenai berapakah gudang yang akan dibuka juga tergantung pada budget yang tersedia. Demikian tutorial singkat menyelesaikan permasalahan alokasi gudang, apabila terdapat kekurangan saya mohon maaf. Sekian dan terima kasih, selamat mencoba :)"
   ]
  }
 ],
 "metadata": {
  "kernelspec": {
   "display_name": "Python 3",
   "language": "python",
   "name": "python3"
  },
  "language_info": {
   "codemirror_mode": {
    "name": "ipython",
    "version": 3
   },
   "file_extension": ".py",
   "mimetype": "text/x-python",
   "name": "python",
   "nbconvert_exporter": "python",
   "pygments_lexer": "ipython3",
   "version": "3.8.3"
  }
 },
 "nbformat": 4,
 "nbformat_minor": 4
}
