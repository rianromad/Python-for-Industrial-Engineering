{
 "cells": [
  {
   "cell_type": "markdown",
   "metadata": {},
   "source": [
    "# Generalized Assignment Problem\n",
    "Pada sesi ini kita akan menggunakan library pulp untuk menyelesaikan Generalized Assignment Problem. GAP memiliki tujuan meminimalkan biaya atau memaksimalkan keuntungan dengan cara menugaskan n tugas pada m server yang memiliki kapasitas terbatas serta **setiap tugas hanya boleh dikerjakan oleh satu server**. Untuk lebih lengkapnya ada di buku **Sarker and Newton - Optimization Modelling, A Practical Approach**\n",
    "\n",
    "**Berikut adalah parameter yang digunakan:**\n",
    "\n",
    "- n = jumlah tugas/pekerjaan\n",
    "- m = jumlah server/pekerja\n",
    "- Cij = biaya untuk menugaskan pekerjaan i ke server j\n",
    "- bj = kapasitas/sumber daya yang tersedia pada server j\n",
    "- aij = jumlah sumber daya yang diperlukan untuk melakukan pekerjaan i oleh server j\n",
    "\n",
    "Sedangkan variabel yang digunakan yakni **Xij** yang bertipe binary (1 = dilakukan, 0 = tidak dilakukan)\n",
    "\n",
    "**Berikut adalah fungsi tujuan beserta constrain:**\n",
    "<img src=\"https://user-images.githubusercontent.com/61647791/128858690-a3d696fb-7b84-42c1-bdc6-15a07fe0291f.PNG\" />\n",
    "*Sumber: Sarker and Newton - Optimization Modelling, A Practical Approach*\n",
    "\n",
    "\n",
    "**Batasan yang harus dipenuhi yakni:**\n",
    "1. Setiap tugas/pekerjaan hanya boleh dikerjakan oleh satu server\n",
    "2. Jumlah sumber daya yang digunakan vendor pada beberapa pekerjaan harus kurang dari atau sama dengan kapasitasnya\n",
    "\n",
    "**Ilustrasi Permasalahan:**\n",
    "\n",
    "Sebuah instansi akan mengadakan acara perayaan dengan menyediakan 9 jenis makanan (data menu). Instansi tersebut memiliki data nama-nama vendor (vendor), biaya pemesanan makanan (data costs) serta kapasitas jumlah karyawan pada masing-masing vendor dan menu (resources). Bagaimanakah alokasi vendor tersebut supaya biaya yang dikeluarkan instansi bisa seminimal mungkin.\n",
    "\n",
    "*Data yang digunakan bersumber dari mata kuliah yang saya pelajari, Matematika Optimasi dengan Bpk \n",
    "Setyo Tri Windras Mara*. Pada mata kuliah tersebut saya menyelesaikan permasalahan ini menggunakan library python Gurobi. Namun kali ini saya akan menyelesaikannya menggunakan library PuLP."
   ]
  },
  {
   "cell_type": "markdown",
   "metadata": {},
   "source": [
    "### 1. Mengimpor Library"
   ]
  },
  {
   "cell_type": "code",
   "execution_count": 1,
   "metadata": {},
   "outputs": [],
   "source": [
    "from pulp import *\n",
    "import pandas as pd\n",
    "import numpy as np"
   ]
  },
  {
   "cell_type": "markdown",
   "metadata": {},
   "source": [
    "### 2. Mengimpor Data\n",
    "Data yang digunakan memiliki format .xlsx dengan 4 sheet. Saya menggunakan tambahan parameter **header** dan **usecols** untuk merapikan tabel tersebut. Saya juga menyamakan indeks untuk kemudahan akses pada tahap selanjutnya. Dapat dilihat bentuk masing-masing tabel yang akan digunakan. "
   ]
  },
  {
   "cell_type": "code",
   "execution_count": 5,
   "metadata": {},
   "outputs": [],
   "source": [
    "#load data\n",
    "menu = pd.read_excel(\"Generalized Assignment Problem.xlsx\", sheet_name=\"Menu\", header=0).set_index('Menu')\n",
    "vendor = pd.read_excel(\"Generalized Assignment Problem.xlsx\", sheet_name=\"Vendor\", header=0).set_index('Vendor')\n",
    "costs = pd.read_excel(\"Generalized Assignment Problem.xlsx\", sheet_name=\"Biaya\", header=1,usecols=[2,3,4,5,6])\n",
    "resources = pd.read_excel(\"Generalized Assignment Problem.xlsx\", sheet_name=\"Resources\", header=1,usecols=[2,3,4,5,6])\n",
    "\n",
    "#menyamakan index\n",
    "costs['menu'] = menu.index\n",
    "costs.set_index('menu', inplace=True)\n",
    "\n",
    "resources['menu'] = menu.index\n",
    "resources.set_index('menu', inplace=True)"
   ]
  },
  {
   "cell_type": "markdown",
   "metadata": {},
   "source": [
    "#### a. Menu\n",
    "Tabel menu hanya terdiri dari indeks menu beserta nama menu"
   ]
  },
  {
   "cell_type": "code",
   "execution_count": 6,
   "metadata": {},
   "outputs": [
    {
     "data": {
      "text/html": [
       "<div>\n",
       "<style scoped>\n",
       "    .dataframe tbody tr th:only-of-type {\n",
       "        vertical-align: middle;\n",
       "    }\n",
       "\n",
       "    .dataframe tbody tr th {\n",
       "        vertical-align: top;\n",
       "    }\n",
       "\n",
       "    .dataframe thead th {\n",
       "        text-align: right;\n",
       "    }\n",
       "</style>\n",
       "<table border=\"1\" class=\"dataframe\">\n",
       "  <thead>\n",
       "    <tr style=\"text-align: right;\">\n",
       "      <th></th>\n",
       "      <th>Nama Menu</th>\n",
       "    </tr>\n",
       "    <tr>\n",
       "      <th>Menu</th>\n",
       "      <th></th>\n",
       "    </tr>\n",
       "  </thead>\n",
       "  <tbody>\n",
       "    <tr>\n",
       "      <th>1</th>\n",
       "      <td>Bakso</td>\n",
       "    </tr>\n",
       "    <tr>\n",
       "      <th>2</th>\n",
       "      <td>Soto</td>\n",
       "    </tr>\n",
       "    <tr>\n",
       "      <th>3</th>\n",
       "      <td>Nasi Sayur</td>\n",
       "    </tr>\n",
       "    <tr>\n",
       "      <th>4</th>\n",
       "      <td>Empal Gentong</td>\n",
       "    </tr>\n",
       "    <tr>\n",
       "      <th>5</th>\n",
       "      <td>Zuppa Soup</td>\n",
       "    </tr>\n",
       "    <tr>\n",
       "      <th>6</th>\n",
       "      <td>Kambing Guling</td>\n",
       "    </tr>\n",
       "    <tr>\n",
       "      <th>7</th>\n",
       "      <td>Selat Solo</td>\n",
       "    </tr>\n",
       "    <tr>\n",
       "      <th>8</th>\n",
       "      <td>Snack</td>\n",
       "    </tr>\n",
       "    <tr>\n",
       "      <th>9</th>\n",
       "      <td>Bebek Peking</td>\n",
       "    </tr>\n",
       "  </tbody>\n",
       "</table>\n",
       "</div>"
      ],
      "text/plain": [
       "           Nama Menu\n",
       "Menu                \n",
       "1              Bakso\n",
       "2               Soto\n",
       "3         Nasi Sayur\n",
       "4      Empal Gentong\n",
       "5         Zuppa Soup\n",
       "6     Kambing Guling\n",
       "7         Selat Solo\n",
       "8              Snack\n",
       "9       Bebek Peking"
      ]
     },
     "execution_count": 6,
     "metadata": {},
     "output_type": "execute_result"
    }
   ],
   "source": [
    "menu"
   ]
  },
  {
   "cell_type": "markdown",
   "metadata": {},
   "source": [
    "#### b. Vendor\n",
    "Tabel vendor berisi indeks vendor, nama vendor dan jumlah karyawan yang dimiliki."
   ]
  },
  {
   "cell_type": "code",
   "execution_count": 7,
   "metadata": {},
   "outputs": [
    {
     "data": {
      "text/html": [
       "<div>\n",
       "<style scoped>\n",
       "    .dataframe tbody tr th:only-of-type {\n",
       "        vertical-align: middle;\n",
       "    }\n",
       "\n",
       "    .dataframe tbody tr th {\n",
       "        vertical-align: top;\n",
       "    }\n",
       "\n",
       "    .dataframe thead th {\n",
       "        text-align: right;\n",
       "    }\n",
       "</style>\n",
       "<table border=\"1\" class=\"dataframe\">\n",
       "  <thead>\n",
       "    <tr style=\"text-align: right;\">\n",
       "      <th></th>\n",
       "      <th>Nama Vendor</th>\n",
       "      <th>Jumlah Karyawan</th>\n",
       "    </tr>\n",
       "    <tr>\n",
       "      <th>Vendor</th>\n",
       "      <th></th>\n",
       "      <th></th>\n",
       "    </tr>\n",
       "  </thead>\n",
       "  <tbody>\n",
       "    <tr>\n",
       "      <th>1</th>\n",
       "      <td>Sami Asih Group</td>\n",
       "      <td>20</td>\n",
       "    </tr>\n",
       "    <tr>\n",
       "      <th>2</th>\n",
       "      <td>Sumber Vitamin</td>\n",
       "      <td>30</td>\n",
       "    </tr>\n",
       "    <tr>\n",
       "      <th>3</th>\n",
       "      <td>Katineung</td>\n",
       "      <td>20</td>\n",
       "    </tr>\n",
       "    <tr>\n",
       "      <th>4</th>\n",
       "      <td>Murni</td>\n",
       "      <td>15</td>\n",
       "    </tr>\n",
       "    <tr>\n",
       "      <th>5</th>\n",
       "      <td>Sangkuriang</td>\n",
       "      <td>15</td>\n",
       "    </tr>\n",
       "  </tbody>\n",
       "</table>\n",
       "</div>"
      ],
      "text/plain": [
       "            Nama Vendor  Jumlah Karyawan\n",
       "Vendor                                  \n",
       "1       Sami Asih Group               20\n",
       "2        Sumber Vitamin               30\n",
       "3             Katineung               20\n",
       "4                 Murni               15\n",
       "5           Sangkuriang               15"
      ]
     },
     "execution_count": 7,
     "metadata": {},
     "output_type": "execute_result"
    }
   ],
   "source": [
    "vendor"
   ]
  },
  {
   "cell_type": "markdown",
   "metadata": {},
   "source": [
    "#### c. Costs\n",
    "Tabel costs berisi biaya yang diperlukan pada masing-masing menu beserta vendornya"
   ]
  },
  {
   "cell_type": "code",
   "execution_count": 96,
   "metadata": {},
   "outputs": [
    {
     "data": {
      "text/html": [
       "<div>\n",
       "<style scoped>\n",
       "    .dataframe tbody tr th:only-of-type {\n",
       "        vertical-align: middle;\n",
       "    }\n",
       "\n",
       "    .dataframe tbody tr th {\n",
       "        vertical-align: top;\n",
       "    }\n",
       "\n",
       "    .dataframe thead th {\n",
       "        text-align: right;\n",
       "    }\n",
       "</style>\n",
       "<table border=\"1\" class=\"dataframe\">\n",
       "  <thead>\n",
       "    <tr style=\"text-align: right;\">\n",
       "      <th></th>\n",
       "      <th>1</th>\n",
       "      <th>2</th>\n",
       "      <th>3</th>\n",
       "      <th>4</th>\n",
       "      <th>5</th>\n",
       "    </tr>\n",
       "    <tr>\n",
       "      <th>menu</th>\n",
       "      <th></th>\n",
       "      <th></th>\n",
       "      <th></th>\n",
       "      <th></th>\n",
       "      <th></th>\n",
       "    </tr>\n",
       "  </thead>\n",
       "  <tbody>\n",
       "    <tr>\n",
       "      <th>1</th>\n",
       "      <td>197</td>\n",
       "      <td>114</td>\n",
       "      <td>173</td>\n",
       "      <td>175</td>\n",
       "      <td>137</td>\n",
       "    </tr>\n",
       "    <tr>\n",
       "      <th>2</th>\n",
       "      <td>184</td>\n",
       "      <td>108</td>\n",
       "      <td>148</td>\n",
       "      <td>188</td>\n",
       "      <td>147</td>\n",
       "    </tr>\n",
       "    <tr>\n",
       "      <th>3</th>\n",
       "      <td>151</td>\n",
       "      <td>156</td>\n",
       "      <td>122</td>\n",
       "      <td>124</td>\n",
       "      <td>118</td>\n",
       "    </tr>\n",
       "    <tr>\n",
       "      <th>4</th>\n",
       "      <td>200</td>\n",
       "      <td>109</td>\n",
       "      <td>111</td>\n",
       "      <td>132</td>\n",
       "      <td>157</td>\n",
       "    </tr>\n",
       "    <tr>\n",
       "      <th>5</th>\n",
       "      <td>110</td>\n",
       "      <td>130</td>\n",
       "      <td>142</td>\n",
       "      <td>129</td>\n",
       "      <td>182</td>\n",
       "    </tr>\n",
       "    <tr>\n",
       "      <th>6</th>\n",
       "      <td>171</td>\n",
       "      <td>159</td>\n",
       "      <td>200</td>\n",
       "      <td>171</td>\n",
       "      <td>125</td>\n",
       "    </tr>\n",
       "    <tr>\n",
       "      <th>7</th>\n",
       "      <td>114</td>\n",
       "      <td>200</td>\n",
       "      <td>112</td>\n",
       "      <td>185</td>\n",
       "      <td>138</td>\n",
       "    </tr>\n",
       "    <tr>\n",
       "      <th>8</th>\n",
       "      <td>150</td>\n",
       "      <td>165</td>\n",
       "      <td>156</td>\n",
       "      <td>136</td>\n",
       "      <td>100</td>\n",
       "    </tr>\n",
       "    <tr>\n",
       "      <th>9</th>\n",
       "      <td>184</td>\n",
       "      <td>129</td>\n",
       "      <td>193</td>\n",
       "      <td>199</td>\n",
       "      <td>148</td>\n",
       "    </tr>\n",
       "  </tbody>\n",
       "</table>\n",
       "</div>"
      ],
      "text/plain": [
       "        1    2    3    4    5\n",
       "menu                         \n",
       "1     197  114  173  175  137\n",
       "2     184  108  148  188  147\n",
       "3     151  156  122  124  118\n",
       "4     200  109  111  132  157\n",
       "5     110  130  142  129  182\n",
       "6     171  159  200  171  125\n",
       "7     114  200  112  185  138\n",
       "8     150  165  156  136  100\n",
       "9     184  129  193  199  148"
      ]
     },
     "execution_count": 96,
     "metadata": {},
     "output_type": "execute_result"
    }
   ],
   "source": [
    "costs"
   ]
  },
  {
   "cell_type": "markdown",
   "metadata": {},
   "source": [
    "#### d. Resources\n",
    "Tabel ini berisi jumlah karyawan yang dibutuhkan pada masing-masing vendor dan menu"
   ]
  },
  {
   "cell_type": "code",
   "execution_count": 97,
   "metadata": {},
   "outputs": [
    {
     "data": {
      "text/html": [
       "<div>\n",
       "<style scoped>\n",
       "    .dataframe tbody tr th:only-of-type {\n",
       "        vertical-align: middle;\n",
       "    }\n",
       "\n",
       "    .dataframe tbody tr th {\n",
       "        vertical-align: top;\n",
       "    }\n",
       "\n",
       "    .dataframe thead th {\n",
       "        text-align: right;\n",
       "    }\n",
       "</style>\n",
       "<table border=\"1\" class=\"dataframe\">\n",
       "  <thead>\n",
       "    <tr style=\"text-align: right;\">\n",
       "      <th></th>\n",
       "      <th>1</th>\n",
       "      <th>2</th>\n",
       "      <th>3</th>\n",
       "      <th>4</th>\n",
       "      <th>5</th>\n",
       "    </tr>\n",
       "    <tr>\n",
       "      <th>menu</th>\n",
       "      <th></th>\n",
       "      <th></th>\n",
       "      <th></th>\n",
       "      <th></th>\n",
       "      <th></th>\n",
       "    </tr>\n",
       "  </thead>\n",
       "  <tbody>\n",
       "    <tr>\n",
       "      <th>1</th>\n",
       "      <td>5</td>\n",
       "      <td>5</td>\n",
       "      <td>2</td>\n",
       "      <td>5</td>\n",
       "      <td>2</td>\n",
       "    </tr>\n",
       "    <tr>\n",
       "      <th>2</th>\n",
       "      <td>2</td>\n",
       "      <td>4</td>\n",
       "      <td>5</td>\n",
       "      <td>1</td>\n",
       "      <td>5</td>\n",
       "    </tr>\n",
       "    <tr>\n",
       "      <th>3</th>\n",
       "      <td>5</td>\n",
       "      <td>1</td>\n",
       "      <td>4</td>\n",
       "      <td>4</td>\n",
       "      <td>1</td>\n",
       "    </tr>\n",
       "    <tr>\n",
       "      <th>4</th>\n",
       "      <td>5</td>\n",
       "      <td>3</td>\n",
       "      <td>4</td>\n",
       "      <td>1</td>\n",
       "      <td>4</td>\n",
       "    </tr>\n",
       "    <tr>\n",
       "      <th>5</th>\n",
       "      <td>5</td>\n",
       "      <td>5</td>\n",
       "      <td>2</td>\n",
       "      <td>3</td>\n",
       "      <td>4</td>\n",
       "    </tr>\n",
       "    <tr>\n",
       "      <th>6</th>\n",
       "      <td>3</td>\n",
       "      <td>4</td>\n",
       "      <td>4</td>\n",
       "      <td>3</td>\n",
       "      <td>2</td>\n",
       "    </tr>\n",
       "    <tr>\n",
       "      <th>7</th>\n",
       "      <td>4</td>\n",
       "      <td>5</td>\n",
       "      <td>2</td>\n",
       "      <td>2</td>\n",
       "      <td>3</td>\n",
       "    </tr>\n",
       "    <tr>\n",
       "      <th>8</th>\n",
       "      <td>2</td>\n",
       "      <td>5</td>\n",
       "      <td>4</td>\n",
       "      <td>3</td>\n",
       "      <td>2</td>\n",
       "    </tr>\n",
       "    <tr>\n",
       "      <th>9</th>\n",
       "      <td>3</td>\n",
       "      <td>4</td>\n",
       "      <td>4</td>\n",
       "      <td>5</td>\n",
       "      <td>3</td>\n",
       "    </tr>\n",
       "  </tbody>\n",
       "</table>\n",
       "</div>"
      ],
      "text/plain": [
       "      1  2  3  4  5\n",
       "menu               \n",
       "1     5  5  2  5  2\n",
       "2     2  4  5  1  5\n",
       "3     5  1  4  4  1\n",
       "4     5  3  4  1  4\n",
       "5     5  5  2  3  4\n",
       "6     3  4  4  3  2\n",
       "7     4  5  2  2  3\n",
       "8     2  5  4  3  2\n",
       "9     3  4  4  5  3"
      ]
     },
     "execution_count": 97,
     "metadata": {},
     "output_type": "execute_result"
    }
   ],
   "source": [
    "resources"
   ]
  },
  {
   "cell_type": "markdown",
   "metadata": {},
   "source": [
    "### 3. Menentukan Variabel\n",
    "Di samping membuat variabel yang digunakan, saya juga membuat beberapa parameter untuk kemudahan akses data"
   ]
  },
  {
   "cell_type": "code",
   "execution_count": 25,
   "metadata": {},
   "outputs": [],
   "source": [
    "#membuat parameter\n",
    "list_vendor = vendor.index\n",
    "list_menu = menu.index\n",
    "keys = [(i,j) for i in list_menu for j in list_vendor]\n",
    "\n",
    "#variable\n",
    "x = LpVariable.dicts(\"x\", keys, 0, None, 'Binary')"
   ]
  },
  {
   "cell_type": "markdown",
   "metadata": {},
   "source": [
    "### 4. Menginisiasi Model\n",
    "Permasalahan ini memiliki tujuan meminimalkan biaya sehingga kita menggunakan **LpMinimize**"
   ]
  },
  {
   "cell_type": "code",
   "execution_count": 40,
   "metadata": {},
   "outputs": [],
   "source": [
    "model = LpProblem('Choosing_Vendor', LpMinimize)"
   ]
  },
  {
   "cell_type": "markdown",
   "metadata": {},
   "source": [
    "### 5. Menambahkan Fungsi Tujuan dan Constrain"
   ]
  },
  {
   "cell_type": "code",
   "execution_count": 41,
   "metadata": {},
   "outputs": [],
   "source": [
    "#fungsi tujuan memimalkan biaya Cij ke Xij\n",
    "model += lpSum([costs.loc[i,j]*x[i,j] for i in list_menu for j in list_vendor])"
   ]
  },
  {
   "cell_type": "code",
   "execution_count": 42,
   "metadata": {},
   "outputs": [],
   "source": [
    "#constrain\n",
    "\n",
    "#setiap pekerjaan hanya boleh dilakukan oleh satu vendor\n",
    "for i in list_menu:\n",
    "    model += lpSum([x[i,j] for j in list_vendor]) == 1\n",
    "    \n",
    "#jumlah karyawan yang digunakan vendor pada beberapa pekerjaan harus kurang dari atau sama dengan kapasitas karyawan di vendor   \n",
    "for j in list_vendor:\n",
    "    model += lpSum([resources.loc[i,j]*x[i,j] for i in list_menu] ) <= vendor.loc[j,'Jumlah Karyawan']"
   ]
  },
  {
   "cell_type": "markdown",
   "metadata": {},
   "source": [
    "### 6. Menyelesaikan Model serta Mengecek Hasil Optimasi"
   ]
  },
  {
   "cell_type": "code",
   "execution_count": 43,
   "metadata": {},
   "outputs": [
    {
     "data": {
      "text/plain": [
       "1"
      ]
     },
     "execution_count": 43,
     "metadata": {},
     "output_type": "execute_result"
    }
   ],
   "source": [
    "#apabila status model sama dengan 1 artinya model sudah optimal\n",
    "model.solve()"
   ]
  },
  {
   "cell_type": "code",
   "execution_count": 45,
   "metadata": {},
   "outputs": [
    {
     "data": {
      "text/plain": [
       "1025"
      ]
     },
     "execution_count": 45,
     "metadata": {},
     "output_type": "execute_result"
    }
   ],
   "source": [
    "#cek biaya yang harus dikeluarkan instansi\n",
    "model.objective.value()"
   ]
  },
  {
   "cell_type": "code",
   "execution_count": 46,
   "metadata": {},
   "outputs": [],
   "source": [
    "#membuat list yang berisikan solusi \n",
    "solutions = []\n",
    "for i,j in x.keys():\n",
    "    if (x[i,j].varValue) == 1:\n",
    "        solutions.append(x[i,j])"
   ]
  },
  {
   "cell_type": "code",
   "execution_count": 47,
   "metadata": {},
   "outputs": [
    {
     "data": {
      "text/plain": [
       "[x_(1,_2),\n",
       " x_(2,_2),\n",
       " x_(3,_5),\n",
       " x_(4,_2),\n",
       " x_(5,_1),\n",
       " x_(6,_5),\n",
       " x_(7,_3),\n",
       " x_(8,_5),\n",
       " x_(9,_2)]"
      ]
     },
     "execution_count": 47,
     "metadata": {},
     "output_type": "execute_result"
    }
   ],
   "source": [
    "solutions"
   ]
  },
  {
   "cell_type": "markdown",
   "metadata": {},
   "source": [
    "Dari list solusi di atas angka di depan menunjukkan indeks menu kemudian diikuti indeks vendor. Terlihat bahwa bentuknya masih kurang bagus sehingga perlu dilakukan sedikit modifikasi untuk mengakses angkanya saja."
   ]
  },
  {
   "cell_type": "code",
   "execution_count": 48,
   "metadata": {},
   "outputs": [
    {
     "data": {
      "text/plain": [
       "[2, 2, 5, 2, 1, 5, 3, 5, 2]"
      ]
     },
     "execution_count": 48,
     "metadata": {},
     "output_type": "execute_result"
    }
   ],
   "source": [
    "vendor_sol = [int(str(solutions[j])[6]) for j in range(0,9)]\n",
    "vendor_sol"
   ]
  },
  {
   "cell_type": "markdown",
   "metadata": {},
   "source": [
    "Saya juga membuat dictionary pada menu dan vendor untuk membuat tabel yang mudah dipahami "
   ]
  },
  {
   "cell_type": "code",
   "execution_count": 35,
   "metadata": {},
   "outputs": [
    {
     "data": {
      "text/plain": [
       "{1: 'Bakso',\n",
       " 2: 'Soto',\n",
       " 3: 'Nasi Sayur',\n",
       " 4: 'Empal Gentong',\n",
       " 5: 'Zuppa Soup',\n",
       " 6: 'Kambing Guling',\n",
       " 7: 'Selat Solo',\n",
       " 8: 'Snack',\n",
       " 9: 'Bebek Peking'}"
      ]
     },
     "execution_count": 35,
     "metadata": {},
     "output_type": "execute_result"
    }
   ],
   "source": [
    "dict_menu = {i:j for (i,j) in zip(menu.index, list(menu['Nama Menu']))}\n",
    "dict_menu"
   ]
  },
  {
   "cell_type": "code",
   "execution_count": 36,
   "metadata": {},
   "outputs": [
    {
     "data": {
      "text/plain": [
       "{1: 'Sami Asih Group',\n",
       " 2: 'Sumber Vitamin',\n",
       " 3: 'Katineung',\n",
       " 4: 'Murni',\n",
       " 5: 'Sangkuriang'}"
      ]
     },
     "execution_count": 36,
     "metadata": {},
     "output_type": "execute_result"
    }
   ],
   "source": [
    "dict_vendor = {i:j for (i,j) in zip(vendor.index, list(vendor['Nama Vendor']))}\n",
    "dict_vendor"
   ]
  },
  {
   "cell_type": "code",
   "execution_count": 49,
   "metadata": {},
   "outputs": [
    {
     "data": {
      "text/html": [
       "<div>\n",
       "<style scoped>\n",
       "    .dataframe tbody tr th:only-of-type {\n",
       "        vertical-align: middle;\n",
       "    }\n",
       "\n",
       "    .dataframe tbody tr th {\n",
       "        vertical-align: top;\n",
       "    }\n",
       "\n",
       "    .dataframe thead th {\n",
       "        text-align: right;\n",
       "    }\n",
       "</style>\n",
       "<table border=\"1\" class=\"dataframe\">\n",
       "  <thead>\n",
       "    <tr style=\"text-align: right;\">\n",
       "      <th></th>\n",
       "      <th>Menu</th>\n",
       "      <th>Vendor</th>\n",
       "    </tr>\n",
       "  </thead>\n",
       "  <tbody>\n",
       "    <tr>\n",
       "      <th>0</th>\n",
       "      <td>1</td>\n",
       "      <td>2</td>\n",
       "    </tr>\n",
       "    <tr>\n",
       "      <th>1</th>\n",
       "      <td>2</td>\n",
       "      <td>2</td>\n",
       "    </tr>\n",
       "    <tr>\n",
       "      <th>2</th>\n",
       "      <td>3</td>\n",
       "      <td>5</td>\n",
       "    </tr>\n",
       "    <tr>\n",
       "      <th>3</th>\n",
       "      <td>4</td>\n",
       "      <td>2</td>\n",
       "    </tr>\n",
       "    <tr>\n",
       "      <th>4</th>\n",
       "      <td>5</td>\n",
       "      <td>1</td>\n",
       "    </tr>\n",
       "    <tr>\n",
       "      <th>5</th>\n",
       "      <td>6</td>\n",
       "      <td>5</td>\n",
       "    </tr>\n",
       "    <tr>\n",
       "      <th>6</th>\n",
       "      <td>7</td>\n",
       "      <td>3</td>\n",
       "    </tr>\n",
       "    <tr>\n",
       "      <th>7</th>\n",
       "      <td>8</td>\n",
       "      <td>5</td>\n",
       "    </tr>\n",
       "    <tr>\n",
       "      <th>8</th>\n",
       "      <td>9</td>\n",
       "      <td>2</td>\n",
       "    </tr>\n",
       "  </tbody>\n",
       "</table>\n",
       "</div>"
      ],
      "text/plain": [
       "   Menu  Vendor\n",
       "0     1       2\n",
       "1     2       2\n",
       "2     3       5\n",
       "3     4       2\n",
       "4     5       1\n",
       "5     6       5\n",
       "6     7       3\n",
       "7     8       5\n",
       "8     9       2"
      ]
     },
     "execution_count": 49,
     "metadata": {},
     "output_type": "execute_result"
    }
   ],
   "source": [
    "#membuat tabel -> sebelum diubah\n",
    "df_sol = pd.DataFrame({'Menu': list_menu,\n",
    "                       'Vendor':vendor_sol})\n",
    "\n",
    "df_sol"
   ]
  },
  {
   "cell_type": "markdown",
   "metadata": {},
   "source": [
    "Tabel di atas masih berupa angka saja sehingga kurang bermakna. Oleh karena itu saya melakukan koversi angka tersebut menggunakan dictionary yang sudah saya buat di atas."
   ]
  },
  {
   "cell_type": "code",
   "execution_count": 51,
   "metadata": {},
   "outputs": [
    {
     "data": {
      "text/html": [
       "<div>\n",
       "<style scoped>\n",
       "    .dataframe tbody tr th:only-of-type {\n",
       "        vertical-align: middle;\n",
       "    }\n",
       "\n",
       "    .dataframe tbody tr th {\n",
       "        vertical-align: top;\n",
       "    }\n",
       "\n",
       "    .dataframe thead th {\n",
       "        text-align: right;\n",
       "    }\n",
       "</style>\n",
       "<table border=\"1\" class=\"dataframe\">\n",
       "  <thead>\n",
       "    <tr style=\"text-align: right;\">\n",
       "      <th></th>\n",
       "      <th>Menu</th>\n",
       "      <th>Vendor</th>\n",
       "    </tr>\n",
       "  </thead>\n",
       "  <tbody>\n",
       "    <tr>\n",
       "      <th>0</th>\n",
       "      <td>Bakso</td>\n",
       "      <td>Sumber Vitamin</td>\n",
       "    </tr>\n",
       "    <tr>\n",
       "      <th>1</th>\n",
       "      <td>Soto</td>\n",
       "      <td>Sumber Vitamin</td>\n",
       "    </tr>\n",
       "    <tr>\n",
       "      <th>2</th>\n",
       "      <td>Nasi Sayur</td>\n",
       "      <td>Sangkuriang</td>\n",
       "    </tr>\n",
       "    <tr>\n",
       "      <th>3</th>\n",
       "      <td>Empal Gentong</td>\n",
       "      <td>Sumber Vitamin</td>\n",
       "    </tr>\n",
       "    <tr>\n",
       "      <th>4</th>\n",
       "      <td>Zuppa Soup</td>\n",
       "      <td>Sami Asih Group</td>\n",
       "    </tr>\n",
       "    <tr>\n",
       "      <th>5</th>\n",
       "      <td>Kambing Guling</td>\n",
       "      <td>Sangkuriang</td>\n",
       "    </tr>\n",
       "    <tr>\n",
       "      <th>6</th>\n",
       "      <td>Selat Solo</td>\n",
       "      <td>Katineung</td>\n",
       "    </tr>\n",
       "    <tr>\n",
       "      <th>7</th>\n",
       "      <td>Snack</td>\n",
       "      <td>Sangkuriang</td>\n",
       "    </tr>\n",
       "    <tr>\n",
       "      <th>8</th>\n",
       "      <td>Bebek Peking</td>\n",
       "      <td>Sumber Vitamin</td>\n",
       "    </tr>\n",
       "  </tbody>\n",
       "</table>\n",
       "</div>"
      ],
      "text/plain": [
       "             Menu           Vendor\n",
       "0           Bakso   Sumber Vitamin\n",
       "1            Soto   Sumber Vitamin\n",
       "2      Nasi Sayur      Sangkuriang\n",
       "3   Empal Gentong   Sumber Vitamin\n",
       "4      Zuppa Soup  Sami Asih Group\n",
       "5  Kambing Guling      Sangkuriang\n",
       "6      Selat Solo        Katineung\n",
       "7           Snack      Sangkuriang\n",
       "8    Bebek Peking   Sumber Vitamin"
      ]
     },
     "execution_count": 51,
     "metadata": {},
     "output_type": "execute_result"
    }
   ],
   "source": [
    "df_sol['Menu'] = df_sol[\"Menu\"].replace(dict_menu)\n",
    "df_sol['Vendor'] = df_sol[\"Vendor\"].replace(dict_vendor)\n",
    "\n",
    "df_sol"
   ]
  },
  {
   "cell_type": "markdown",
   "metadata": {},
   "source": [
    "Tabel di atas sudah lebih mudah dipahami sehingga bisa langsung kita save/export dalam bentuk file excel."
   ]
  },
  {
   "cell_type": "code",
   "execution_count": 38,
   "metadata": {},
   "outputs": [],
   "source": [
    "df_sol.to_excel(\"Choosing_Vendor.xlsx\")"
   ]
  },
  {
   "cell_type": "markdown",
   "metadata": {},
   "source": [
    "Kita juga dapat melakukan groupby pada vendor untuk melihat vendor mana yang paling banyak dipilih oleh instansi. Dari hasil groupby vendor Sumber Vitamin paling banyak dipilih/diandalkan untuk pemesanan dan pelayanan makanan."
   ]
  },
  {
   "cell_type": "code",
   "execution_count": 132,
   "metadata": {},
   "outputs": [
    {
     "data": {
      "text/html": [
       "<div>\n",
       "<style scoped>\n",
       "    .dataframe tbody tr th:only-of-type {\n",
       "        vertical-align: middle;\n",
       "    }\n",
       "\n",
       "    .dataframe tbody tr th {\n",
       "        vertical-align: top;\n",
       "    }\n",
       "\n",
       "    .dataframe thead th {\n",
       "        text-align: right;\n",
       "    }\n",
       "</style>\n",
       "<table border=\"1\" class=\"dataframe\">\n",
       "  <thead>\n",
       "    <tr style=\"text-align: right;\">\n",
       "      <th></th>\n",
       "      <th>Menu</th>\n",
       "    </tr>\n",
       "    <tr>\n",
       "      <th>Vendor</th>\n",
       "      <th></th>\n",
       "    </tr>\n",
       "  </thead>\n",
       "  <tbody>\n",
       "    <tr>\n",
       "      <th>Katineung</th>\n",
       "      <td>1</td>\n",
       "    </tr>\n",
       "    <tr>\n",
       "      <th>Sami Asih Group</th>\n",
       "      <td>1</td>\n",
       "    </tr>\n",
       "    <tr>\n",
       "      <th>Sangkuriang</th>\n",
       "      <td>3</td>\n",
       "    </tr>\n",
       "    <tr>\n",
       "      <th>Sumber Vitamin</th>\n",
       "      <td>4</td>\n",
       "    </tr>\n",
       "  </tbody>\n",
       "</table>\n",
       "</div>"
      ],
      "text/plain": [
       "                 Menu\n",
       "Vendor               \n",
       "Katineung           1\n",
       "Sami Asih Group     1\n",
       "Sangkuriang         3\n",
       "Sumber Vitamin      4"
      ]
     },
     "execution_count": 132,
     "metadata": {},
     "output_type": "execute_result"
    }
   ],
   "source": [
    "df_sol.groupby('Vendor').count()"
   ]
  },
  {
   "cell_type": "markdown",
   "metadata": {},
   "source": [
    "### Penutup\n",
    "Demikian tutorial singkat menyelesaikan permasalahan GAP menggunakan pulp. Mohon maaf jika terdapat kekurangan, sekian dan terima kasih. Selamat mencoba :)"
   ]
  }
 ],
 "metadata": {
  "kernelspec": {
   "display_name": "Python 3",
   "language": "python",
   "name": "python3"
  },
  "language_info": {
   "codemirror_mode": {
    "name": "ipython",
    "version": 3
   },
   "file_extension": ".py",
   "mimetype": "text/x-python",
   "name": "python",
   "nbconvert_exporter": "python",
   "pygments_lexer": "ipython3",
   "version": "3.8.3"
  }
 },
 "nbformat": 4,
 "nbformat_minor": 4
}
