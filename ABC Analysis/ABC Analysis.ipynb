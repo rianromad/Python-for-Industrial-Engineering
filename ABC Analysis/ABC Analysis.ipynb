{
 "cells": [
  {
   "cell_type": "markdown",
   "metadata": {},
   "source": [
    "# ABC Analysis\n",
    "Menurut (Heizer, Render & Munson, n.d.) analisis ABC adalah metode untuk mengelompokkan berbagai jenis produk menjadi tiga bagian (A, B, dan C) berdasarkan *annual dollar volume* yang merupakan perkalian antara permintaan per tahun dengan harga per unit. Berikut adalah penjelasan tiap kelompok dalam analisis ABC:\n",
    "\n",
    "**1. Kelas A**\n",
    "\n",
    "Kelas ini memiliki annual dollar volume paling tinggi dengan persentase jumlah jenis produk sebanyak 15% dari keseluruhan produk. Kelas ini memiliki akumulasi annual dollar volume sebanyak 70-80% dari keseluruhan produk.\n",
    "    \n",
    "    \n",
    "**2. Kelas B**\n",
    "\n",
    "Kelas ini memiliki annual dollar volume dengan kategori sedang dengan persentase jumlah jenis produk sebanyak 30% dari keseluruhan produk. Kelas ini memiliki akumulasi annual dollar volume sebanyak 15 - 25% dari keseluruhan produk.\n",
    "\n",
    "\n",
    "**3. Kelas C**\n",
    "\n",
    "Kelas ini memiliki annual dollar volume dengan kategori rendah dengan persentase jumlah jenis produk sebanyak 55% dari keseluruhan produk. Kelas ini memiliki akumulasi annual dollar volume sebanyak 5% dari keseluruhan produk.\n",
    "\n",
    "<img src="https://user-images.githubusercontent.com/61647791/128857660-f26245cf-20d5-44e4-94e8-60a3f156b343.PNG" />\n",
    "\n",
    "*sumber: Operations Management Sustainability and Supply Chain Management (12th Edition) by Jay Heizer, Barry Render, Chuck Munson*\n",
    "\n",
    "Pada sesi ini kita akan belajar mengelompokkan produk menggunakan analisis ABC. Data yang digunakan besumber dari kursus di Udemy dengan judul **RA: Data Science and Supply Chain analytics. A-Z with Python. Haytham Omar, Consultant-Supply chain**  "
   ]
  },
  {
   "cell_type": "code",
   "execution_count": 1,
   "metadata": {},
   "outputs": [],
   "source": [
    "#mengimpor library\n",
    "import pandas as pd\n",
    "import numpy as np"
   ]
  },
  {
   "cell_type": "markdown",
   "metadata": {},
   "source": [
    "Berikut adalah data produk yang dijual di sebuah toko retail dengan rata-rata permintaan dan revenue per tahun. Kolom total_revenue ini bisa kita analogikan sebagai *annual dollar volume*. "
   ]
  },
  {
   "cell_type": "code",
   "execution_count": 3,
   "metadata": {},
   "outputs": [
    {
     "data": {
      "text/html": [
       "<div>\n",
       "<style scoped>\n",
       "    .dataframe tbody tr th:only-of-type {\n",
       "        vertical-align: middle;\n",
       "    }\n",
       "\n",
       "    .dataframe tbody tr th {\n",
       "        vertical-align: top;\n",
       "    }\n",
       "\n",
       "    .dataframe thead th {\n",
       "        text-align: right;\n",
       "    }\n",
       "</style>\n",
       "<table border=\"1\" class=\"dataframe\">\n",
       "  <thead>\n",
       "    <tr style=\"text-align: right;\">\n",
       "      <th></th>\n",
       "      <th>Description</th>\n",
       "      <th>total_sales</th>\n",
       "      <th>total_revenue</th>\n",
       "    </tr>\n",
       "  </thead>\n",
       "  <tbody>\n",
       "    <tr>\n",
       "      <th>0</th>\n",
       "      <td>DOORMAT UNION JACK GUNS AND ROSES</td>\n",
       "      <td>167</td>\n",
       "      <td>1071.25</td>\n",
       "    </tr>\n",
       "    <tr>\n",
       "      <th>1</th>\n",
       "      <td>3 STRIPEY MICE FELTCRAFT</td>\n",
       "      <td>662</td>\n",
       "      <td>1241.10</td>\n",
       "    </tr>\n",
       "    <tr>\n",
       "      <th>2</th>\n",
       "      <td>4 PURPLE FLOCK DINNER CANDLES</td>\n",
       "      <td>324</td>\n",
       "      <td>495.16</td>\n",
       "    </tr>\n",
       "    <tr>\n",
       "      <th>3</th>\n",
       "      <td>50'S CHRISTMAS GIFT BAG LARGE</td>\n",
       "      <td>1885</td>\n",
       "      <td>2272.25</td>\n",
       "    </tr>\n",
       "    <tr>\n",
       "      <th>4</th>\n",
       "      <td>ANIMAL STICKERS</td>\n",
       "      <td>385</td>\n",
       "      <td>80.85</td>\n",
       "    </tr>\n",
       "  </tbody>\n",
       "</table>\n",
       "</div>"
      ],
      "text/plain": [
       "                           Description  total_sales  total_revenue\n",
       "0    DOORMAT UNION JACK GUNS AND ROSES          167        1071.25\n",
       "1             3 STRIPEY MICE FELTCRAFT          662        1241.10\n",
       "2        4 PURPLE FLOCK DINNER CANDLES          324         495.16\n",
       "3        50'S CHRISTMAS GIFT BAG LARGE         1885        2272.25\n",
       "4                      ANIMAL STICKERS          385          80.85"
      ]
     },
     "execution_count": 3,
     "metadata": {},
     "output_type": "execute_result"
    }
   ],
   "source": [
    "retail = pd.read_csv(\"retail.csv\").drop(\"Unnamed: 0\", axis=1)\n",
    "retail.head()"
   ]
  },
  {
   "cell_type": "markdown",
   "metadata": {},
   "source": [
    "### 1. Menghitung Persentase Kumulatif dari Annual Dollar Volume (Total Revenue)\n",
    "Sebelum menghitung persentase kumulatif, kita urutkan data terlebih dahulu berdasarkan total_revenue dari besar ke kecil."
   ]
  },
  {
   "cell_type": "code",
   "execution_count": 4,
   "metadata": {},
   "outputs": [],
   "source": [
    "#pastikan tidak ada nama produk yang sama\n",
    "retail.drop_duplicates(inplace=True)\n",
    "\n",
    "#urutkan berdasarkan total_revenue\n",
    "retail.sort_values(\"total_revenue\", ascending=False, inplace=True)"
   ]
  },
  {
   "cell_type": "code",
   "execution_count": 6,
   "metadata": {},
   "outputs": [
    {
     "data": {
      "text/html": [
       "<div>\n",
       "<style scoped>\n",
       "    .dataframe tbody tr th:only-of-type {\n",
       "        vertical-align: middle;\n",
       "    }\n",
       "\n",
       "    .dataframe tbody tr th {\n",
       "        vertical-align: top;\n",
       "    }\n",
       "\n",
       "    .dataframe thead th {\n",
       "        text-align: right;\n",
       "    }\n",
       "</style>\n",
       "<table border=\"1\" class=\"dataframe\">\n",
       "  <thead>\n",
       "    <tr style=\"text-align: right;\">\n",
       "      <th></th>\n",
       "      <th>Description</th>\n",
       "      <th>total_sales</th>\n",
       "      <th>total_revenue</th>\n",
       "      <th>percentage_revenue</th>\n",
       "      <th>percentage_cum_revenue</th>\n",
       "    </tr>\n",
       "  </thead>\n",
       "  <tbody>\n",
       "    <tr>\n",
       "      <th>3769</th>\n",
       "      <td>REGENCY CAKESTAND 3 TIER</td>\n",
       "      <td>24139</td>\n",
       "      <td>277656.25</td>\n",
       "      <td>1.598040</td>\n",
       "      <td>1.598040</td>\n",
       "    </tr>\n",
       "    <tr>\n",
       "      <th>5047</th>\n",
       "      <td>WHITE HANGING HEART T-LIGHT HOLDER</td>\n",
       "      <td>91757</td>\n",
       "      <td>247048.01</td>\n",
       "      <td>1.421875</td>\n",
       "      <td>3.019915</td>\n",
       "    </tr>\n",
       "    <tr>\n",
       "      <th>3129</th>\n",
       "      <td>PAPER CRAFT , LITTLE BIRDIE</td>\n",
       "      <td>80995</td>\n",
       "      <td>168469.60</td>\n",
       "      <td>0.969620</td>\n",
       "      <td>3.989535</td>\n",
       "    </tr>\n",
       "    <tr>\n",
       "      <th>2860</th>\n",
       "      <td>Manual</td>\n",
       "      <td>9391</td>\n",
       "      <td>151777.67</td>\n",
       "      <td>0.873550</td>\n",
       "      <td>4.863085</td>\n",
       "    </tr>\n",
       "    <tr>\n",
       "      <th>2392</th>\n",
       "      <td>JUMBO BAG RED RETROSPOT</td>\n",
       "      <td>74224</td>\n",
       "      <td>134307.44</td>\n",
       "      <td>0.773001</td>\n",
       "      <td>5.636086</td>\n",
       "    </tr>\n",
       "  </tbody>\n",
       "</table>\n",
       "</div>"
      ],
      "text/plain": [
       "                             Description  total_sales  total_revenue  \\\n",
       "3769            REGENCY CAKESTAND 3 TIER        24139      277656.25   \n",
       "5047  WHITE HANGING HEART T-LIGHT HOLDER        91757      247048.01   \n",
       "3129         PAPER CRAFT , LITTLE BIRDIE        80995      168469.60   \n",
       "2860                              Manual         9391      151777.67   \n",
       "2392             JUMBO BAG RED RETROSPOT        74224      134307.44   \n",
       "\n",
       "      percentage_revenue  percentage_cum_revenue  \n",
       "3769            1.598040                1.598040  \n",
       "5047            1.421875                3.019915  \n",
       "3129            0.969620                3.989535  \n",
       "2860            0.873550                4.863085  \n",
       "2392            0.773001                5.636086  "
      ]
     },
     "execution_count": 6,
     "metadata": {},
     "output_type": "execute_result"
    }
   ],
   "source": [
    "#hitung persentase total revenue\n",
    "retail[\"percentage_revenue\"] = retail[\"total_revenue\"]/np.sum(retail[\"total_revenue\"]) * 100\n",
    "\n",
    "#hitung persentase kumulatif menggunakan .cumsum()\n",
    "retail[\"percentage_cum_revenue\"] = retail[\"percentage_revenue\"].cumsum()\n",
    "\n",
    "retail.head()"
   ]
  },
  {
   "cell_type": "markdown",
   "metadata": {},
   "source": [
    "### 2. Melakukan Pengelompokkan\n",
    "Selanjutnya kita akan melakukan pengelompokkan berdasarkan kriteria yang telah disebutkan di atas. Saya membuat fungsi untuk mengelompokkan produk menjadi tiga bagian:\n",
    "- Kelas A dengan persentase kumulatif dari 0 sampai 80%\n",
    "- Kelas B dengan persentase kumulatif dari 80 sampai 95%\n",
    "- Kelas C dengan persentase kumulatif dari 95 sampai 100%"
   ]
  },
  {
   "cell_type": "code",
   "execution_count": 9,
   "metadata": {},
   "outputs": [],
   "source": [
    "def abc(x):\n",
    "    if 0<x<=80:\n",
    "        cat=\"A\"\n",
    "        \n",
    "    elif 80<x<=95:\n",
    "        cat=\"B\"\n",
    "        \n",
    "    else:\n",
    "        cat=\"C\"\n",
    "        \n",
    "    return cat"
   ]
  },
  {
   "cell_type": "code",
   "execution_count": 10,
   "metadata": {},
   "outputs": [
    {
     "data": {
      "text/html": [
       "<div>\n",
       "<style scoped>\n",
       "    .dataframe tbody tr th:only-of-type {\n",
       "        vertical-align: middle;\n",
       "    }\n",
       "\n",
       "    .dataframe tbody tr th {\n",
       "        vertical-align: top;\n",
       "    }\n",
       "\n",
       "    .dataframe thead th {\n",
       "        text-align: right;\n",
       "    }\n",
       "</style>\n",
       "<table border=\"1\" class=\"dataframe\">\n",
       "  <thead>\n",
       "    <tr style=\"text-align: right;\">\n",
       "      <th></th>\n",
       "      <th>Description</th>\n",
       "      <th>total_sales</th>\n",
       "      <th>total_revenue</th>\n",
       "      <th>percentage_revenue</th>\n",
       "      <th>percentage_cum_revenue</th>\n",
       "      <th>category</th>\n",
       "    </tr>\n",
       "  </thead>\n",
       "  <tbody>\n",
       "    <tr>\n",
       "      <th>3769</th>\n",
       "      <td>REGENCY CAKESTAND 3 TIER</td>\n",
       "      <td>24139</td>\n",
       "      <td>277656.25</td>\n",
       "      <td>1.598040</td>\n",
       "      <td>1.598040</td>\n",
       "      <td>A</td>\n",
       "    </tr>\n",
       "    <tr>\n",
       "      <th>5047</th>\n",
       "      <td>WHITE HANGING HEART T-LIGHT HOLDER</td>\n",
       "      <td>91757</td>\n",
       "      <td>247048.01</td>\n",
       "      <td>1.421875</td>\n",
       "      <td>3.019915</td>\n",
       "      <td>A</td>\n",
       "    </tr>\n",
       "    <tr>\n",
       "      <th>3129</th>\n",
       "      <td>PAPER CRAFT , LITTLE BIRDIE</td>\n",
       "      <td>80995</td>\n",
       "      <td>168469.60</td>\n",
       "      <td>0.969620</td>\n",
       "      <td>3.989535</td>\n",
       "      <td>A</td>\n",
       "    </tr>\n",
       "    <tr>\n",
       "      <th>2860</th>\n",
       "      <td>Manual</td>\n",
       "      <td>9391</td>\n",
       "      <td>151777.67</td>\n",
       "      <td>0.873550</td>\n",
       "      <td>4.863085</td>\n",
       "      <td>A</td>\n",
       "    </tr>\n",
       "    <tr>\n",
       "      <th>2392</th>\n",
       "      <td>JUMBO BAG RED RETROSPOT</td>\n",
       "      <td>74224</td>\n",
       "      <td>134307.44</td>\n",
       "      <td>0.773001</td>\n",
       "      <td>5.636086</td>\n",
       "      <td>A</td>\n",
       "    </tr>\n",
       "  </tbody>\n",
       "</table>\n",
       "</div>"
      ],
      "text/plain": [
       "                             Description  total_sales  total_revenue  \\\n",
       "3769            REGENCY CAKESTAND 3 TIER        24139      277656.25   \n",
       "5047  WHITE HANGING HEART T-LIGHT HOLDER        91757      247048.01   \n",
       "3129         PAPER CRAFT , LITTLE BIRDIE        80995      168469.60   \n",
       "2860                              Manual         9391      151777.67   \n",
       "2392             JUMBO BAG RED RETROSPOT        74224      134307.44   \n",
       "\n",
       "      percentage_revenue  percentage_cum_revenue category  \n",
       "3769            1.598040                1.598040        A  \n",
       "5047            1.421875                3.019915        A  \n",
       "3129            0.969620                3.989535        A  \n",
       "2860            0.873550                4.863085        A  \n",
       "2392            0.773001                5.636086        A  "
      ]
     },
     "execution_count": 10,
     "metadata": {},
     "output_type": "execute_result"
    }
   ],
   "source": [
    "#kita aplikasikan fungsi di atas pada kolom percentage_cum_revenue dengan menggunakan .map()\n",
    "#membuat kolom baru bernama category\n",
    "retail[\"category\"] = retail[\"percentage_cum_revenue\"].map(abc)\n",
    "\n",
    "retail.head()"
   ]
  },
  {
   "cell_type": "markdown",
   "metadata": {},
   "source": [
    "Kita juga bisa melihat berapa jumlah jenis produk yang berada pada masing-masing kategori"
   ]
  },
  {
   "cell_type": "code",
   "execution_count": 15,
   "metadata": {},
   "outputs": [
    {
     "data": {
      "text/plain": [
       "C    2784\n",
       "B    1362\n",
       "A    1137\n",
       "Name: category, dtype: int64"
      ]
     },
     "execution_count": 15,
     "metadata": {},
     "output_type": "execute_result"
    }
   ],
   "source": [
    "retail[\"category\"].value_counts()"
   ]
  },
  {
   "cell_type": "code",
   "execution_count": 13,
   "metadata": {},
   "outputs": [
    {
     "data": {
      "text/plain": [
       "C    52.697331\n",
       "B    25.780806\n",
       "A    21.521863\n",
       "Name: category, dtype: float64"
      ]
     },
     "execution_count": 13,
     "metadata": {},
     "output_type": "execute_result"
    }
   ],
   "source": [
    "retail[\"category\"].value_counts()/retail[\"category\"].value_counts().sum() * 100"
   ]
  },
  {
   "cell_type": "markdown",
   "metadata": {},
   "source": [
    "Kita juga memvisualisasikan hasil tersebut dengan bantuan library matplotlib dan seaborn"
   ]
  },
  {
   "cell_type": "code",
   "execution_count": 21,
   "metadata": {},
   "outputs": [
    {
     "data": {
      "image/png": "iVBORw0KGgoAAAANSUhEUgAAAYsAAAEWCAYAAACXGLsWAAAABHNCSVQICAgIfAhkiAAAAAlwSFlzAAALEgAACxIB0t1+/AAAADh0RVh0U29mdHdhcmUAbWF0cGxvdGxpYiB2ZXJzaW9uMy4yLjIsIGh0dHA6Ly9tYXRwbG90bGliLm9yZy+WH4yJAAAcQElEQVR4nO3de7xVdZ3/8ddbvCbijaMiF3EMU9TJRiTNLqSToqMjNmmQCpMWZtpMjTO/UaeSLvxsGtOf94bSEEuRn5ekRiulvF/woCQCkuQVQUBNAUsF+swf63tscdznfPeBs/c+h/N+Ph77sff+rttn7bP3fq/1XWuvo4jAzMysPZs0ugAzM+v6HBZmZpblsDAzsyyHhZmZZTkszMwsy2FhZmZZDotuQtL3JX2tk+Y1SNIqSb3S87skfa4z5t3WMuqpI+tTi3VfX5JulzSu0XWsj858f24sGvkZqAWHRRcg6VlJf5K0UtJrkh6Q9AVJ7/x9IuILEfGtKuf1t+2NExHPR0TviFjbGfWvzzJK67xK0lJJP5LUu1b1dIZU89uS+rZqny0pJA3ekPlHxJERcc2GzKMtKRRD0vtbtf80tY/YkPlX+/7sKEmDU32bpueSdKmkJyX178i09VaPz1k9OSy6jmMiYhtgN+A7wL8DV3X2Qhr1wWnDMRHRG/gb4EDgq61H6GL1AjwDjGl5Imk/YKvGldMhvwPGtjyRtCNwELC8YRV1gCQB/w2MAD4WES82tqK2dcH37QZzWHQxEfF6REwHPg2Mk7QvgKTJkr6dHveV9PO0F/KqpHslbSLpWmAQ8LO0xf5/SltXp0p6Hvh1G1tce0iaKel1SbdK2iEta4SkReUay3svkoZLapa0Iu0hXJjaq96qSx/624GWdQ1JZ0h6CngqtX1e0sK0vtMl7Vqq5xNpS/N1SZcBKg2bIOnHpedt1iWpn6THJf1rO+VeS+kLFxgHTGk1n7+T9Fh6TV6QNKE0bEtJP5b0Svr7PSJp5zTsnS4xSf8o6T5JF0j6g6RnJB1Zms/uku5Je6N3Srq8vJ5t+Anwaf2lW2QMcAvwdmm+wyU9mGpbIukySZunYZJ0kaRl6bV+vI335whJiySdlcZdIumzpWXsKOln6fV5RNK3Jd2Xqb0XMBkYBoyIiKW51xq4J92/lj4PB6dpTpE0P72uv5S0W6m2wyUtSOt3haS7S3+TTSR9VdJzab2mSNo2Dav2c9ZtOSy6qIiYCSwCPlJh8FlpWBOwM3BuMUmcDDxP2mKPiO+WpvkYsDdwRBuLHAucAuwKrAEuqbLUi4GLI6IPsAcwrcrp3iFpIHAU8FipeRTwQWCopEOB84ETgH7Ac8DUNG1f4CaKvZK+wO+BQ9ajhsHA3cBlEXFBO6M+BPSRtHf60v000PpL+g2K13M74O+A0yWNSsPGAdsCA4EdgS8Af2pjWR8EFlCs13eBqyS1BOF1wMw0jwnAyVWs5mJgHnB4ej6WVkEHrAW+kpZ5MHAY8MU07HDgo8Cead0+DbzSxrJ2oVjP/sCpwOWStk/DLqd4jXaheD2qOU7zE2Av4NCIKC+zvdf6o+l+u/R5eDANOxf4JMXn517genjnvXQjcA7F67oA+FBpWf+Ybh8H/groDVzWqs7c56zbclh0bYuBHSq0r6b40twtIlZHxL2Rv8jXhIh4IyLa+mK6NiKeiIg3gK8BJ6i6A3OrgfdK6hsRqyLioSqmafFTSa8B91F8Uf/f0rDzI+LVVO+JwNUR8WhEvEXxYT44fcEfBcyLiBsjYjXw/4CXOlADwFDgLuC8iJhUxfgtexefAJ4E1ukOiYi7ImJORPw5Ih6n+DL6WBq8muKL6L0RsTYiZkXEijaW81xE/CD1eV9D8TffWdIgim67r0fE2xFxHzC9ynWdAoyV9D6KL9EHW9U+KyIeiog1EfEsRbdPufZtKL60FRHzI2JJG8tZDXwzvT9vA1YB70vvqX+geK3/GBHz0rrlHA5Mi4jXWtXb3mtdyWkU7635EbGG4j23f9q7OAqYGxE3p2GXsO576UTgwoh4OiJWUbwPR7fac8h9zroth0XX1h94tUL7fwELgV9JelrS2VXM64UODH8O2Ixi6zLnVIotzSdTl8LRVUzTYlREbBcRu0XEF1t9wMr17JpqAiB9UF+heH12LY+bQjO3rq2dSPGFf2OV418LfIZiK7P1ljmSPijpN5KWS3qdYu+hb2naXwJTJS2W9F1Jm7WxnHe+qCLij+lhb4p1frXUBqV1VnFm0qp0O7fVPG8GDgW+lGppXfueKro4X5K0guLLtG+q4dcUW9KXA0slTZLUp43aX0lfuC3+mGpvAjZl3b9RNX+vo4HzJJ3Sqt72XutKdgMuTt1sr1F8vkTb76VyF+w678P0eFOKvfuOrEu35LDooiQdSPEGfldfbkSsjIizIuKvgGOAf5F0WMvgNmaZ2/MYWHo8iGLL8GWK3fz3lOrqRfGBb6nlqYgYA+wE/Cdwo6StM8uqRrnexRQf8pYatqbYOn8RWFKuPXXTlNdlnfopuj5am0CxrtdVszcVEc9RHOg+iuLLt7XrKLb0B0bEtsD3ScdR0pb2NyJiKEUXx9GsewykGkuAHSSV1+uddU5nJvVOt/LeWkvo3A6cToWwAK6k2FsakroWz22pPU1/SUQcAOxDsZHwbx2sfTlFN+eASrW34wGK9/rFkj5Tam/ztabye/4F4LS0kdJy2yoiHqB4Xd+pK72XynWu8z6k+JysAZaW2jbay3g7LLoYSX3S1vlU4McRMafCOEdLem96M6+g6GduOT1vKUV/akedJGlo+gL6JnBj6v74HbBlOpC4GcWxgS1KtZwkqSki/gy0dBF09qmC1wGflbS/pC0otnYfTt0k/wPsI+mTqTvgn1g3EGYDH1Vxzvu2FF0Hra0Gjge2Bq5V6ZTldpxK0X/+RoVh21Bs+b8paTjFXggAkj4uab8USivSsjv0eqWwagYmSNo8Hbg9pgOzOJfibKJn26h9BbBK0l4UodJS+4FpS34zihB+cz1qX0sRsBMkvScto6qwjIi7KY41TJL0qVK9FV9rimD6M+t+Hr4PnCNpn7RO20o6Pg37H2A/SaPSe+kM1n0vXQ98RcXJBb0p3oc3tNqD2mg5LLqOn0laSbHl8x/AhcBn2xh3CHAnRT/wg8AVEXFXGnY+8NW0m93eWT2tXUtxtslLwJYUX7pExOsUBzh/SLEl/wbr7pqPBOZKWkVxsHt0RLzZgeVmRcQMiuMoN1Fs/e0BjE7DXqb4ov8ORdfUEOD+0rR3ADcAjwOzgJ+3sYy3Kb6IdgKuzgVGRPw+IprbGPxF4Jvp7/l11j3ovwtFd9cKYD7FsZrcWUyVnEhxAPoV4NsU6/hWNRNGxOJ0nKOSf6X4wl0J/CDNt0Wf1PYHii6YV4D2TgZoy5kUB79fonjfXd+B2u+gOLA+WdIxtPNap72oicD96fNwUETcQrEHPDV1sz0BHJnGb3kvfTet21CKUG6p7epU7z0Ue5ZvUnTn9QjKHxc1s65O0g3AkxFxXqNr6ShJ/wnsEhFd6tfraYNhEXBiRPym0fU0mvcszLqh1CW0h4pz/0cCxwI/bXRd1ZC0l6S/VmE4RZfeLY2uC0DSEZK2S92dLcdrOnKG30Zro/ixiFkPtAtF3/+OFFu/p0fEY+1P0mVsQ9H1tCuwDPgecGtDK/qLgymOkW1O8ZuUURvjabDrw91QZmaW5W4oMzPL2mi7ofr27RuDBw9udBlmZt3KrFmzXo6IptbtG21YDB48mObmts5sNDOzSiQ9V6nd3VBmZpblsDAzsyyHhZmZZTkszMwsy2FhZmZZDgszM8tyWJiZWZbDwszMshwWZmaWtdH+gtvMur5DLj2k0SVs9O7/0v35kargPQszM8tyWJiZWZbDwszMshwWZmaW5bAwM7Msh4WZmWU5LMzMLMthYWZmWQ4LMzPLcliYmVmWw8LMzLIcFmZmluWwMDOzLIeFmZllOSzMzCzLYWFmZlkOCzMzy6pZWEgaKOk3kuZLmivpn1P7BEkvSpqdbkeVpjlH0kJJCyQdUWo/QNKcNOwSSapV3WZm9m61/Leqa4CzIuJRSdsAsyTdkYZdFBEXlEeWNBQYDewD7ArcKWnPiFgLXAmMBx4CbgNGArfXsHYzMyup2Z5FRCyJiEfT45XAfKB/O5McC0yNiLci4hlgITBcUj+gT0Q8GBEBTAFG1apuMzN7t7ocs5A0GPgA8HBqOlPS45KulrR9ausPvFCabFFq658et26vtJzxkpolNS9fvrwT18DMrGereVhI6g3cBHw5IlZQdCntAewPLAG+1zJqhcmjnfZ3N0ZMiohhETGsqalpg2s3M7NCTcNC0mYUQfGTiLgZICKWRsTaiPgz8ANgeBp9ETCwNPkAYHFqH1Ch3czM6qSWZ0MJuAqYHxEXltr7lUY7DngiPZ4OjJa0haTdgSHAzIhYAqyUdFCa51jg1lrVbWZm71bLs6EOAU4G5kiandrOBcZI2p+iK+lZ4DSAiJgraRowj+JMqjPSmVAApwOTga0ozoLymVBmZnVUs7CIiPuofLzhtnammQhMrNDeDOzbedWZmVlH+BfcZmaW5bAwM7Msh4WZmWU5LMzMLMthYWZmWQ4LMzPLcliYmVmWw8LMzLIcFmZmluWwMDOzLIeFmZllOSzMzCzLYWFmZlkOCzMzy3JYmJlZlsPCzMyyHBZmZpblsDAzsyyHhZmZZTkszMwsy2FhZmZZDgszM8tyWJiZWZbDwszMshwWZmaW5bAwM7Msh4WZmWU5LMzMLKtmYSFpoKTfSJovaa6kf07tO0i6Q9JT6X770jTnSFooaYGkI0rtB0iak4ZdIkm1qtvMzN6tlnsWa4CzImJv4CDgDElDgbOBGRExBJiRnpOGjQb2AUYCV0jqleZ1JTAeGJJuI2tYt5mZtVKzsIiIJRHxaHq8EpgP9AeOBa5Jo10DjEqPjwWmRsRbEfEMsBAYLqkf0CciHoyIAKaUpjEzszqoyzELSYOBDwAPAztHxBIoAgXYKY3WH3ihNNmi1NY/PW7dXmk54yU1S2pevnx5Z66CmVmPVvOwkNQbuAn4ckSsaG/UCm3RTvu7GyMmRcSwiBjW1NTU8WLNzKyimoaFpM0oguInEXFzal6aupZI98tS+yJgYGnyAcDi1D6gQruZmdVJLc+GEnAVMD8iLiwNmg6MS4/HAbeW2kdL2kLS7hQHsmemrqqVkg5K8xxbmsbMzOpg0xrO+xDgZGCOpNmp7VzgO8A0SacCzwPHA0TEXEnTgHkUZ1KdERFr03SnA5OBrYDb083MzOqkZmEREfdR+XgDwGFtTDMRmFihvRnYt/OqMzOzjvAvuM3MLMthYWZmWQ4LMzPLcliYmVmWw8LMzLIcFmZmluWwMDOzLIeFmZllOSzMzCzLYWFmZlkOCzMzy3JYmJlZlsPCzMyyHBZmZpblsDAzsyyHhZmZZTkszMwsy2FhZmZZDgszM8tyWJiZWZbDwszMshwWZmaW5bAwM7OsqsJC0oxq2szMbOO0aXsDJW0JvAfoK2l7QGlQH2DXGtdmZmZdRLthAZwGfJkiGGbxl7BYAVxew7rMzKwLaTcsIuJi4GJJX4qIS+tUk5mZdTG5PQsAIuJSSR8CBpeniYgpNarLzMy6kGoPcF8LXAB8GDgw3YZlprla0jJJT5TaJkh6UdLsdDuqNOwcSQslLZB0RKn9AElz0rBLJKn1sszMrLaq2rOgCIahEREdmPdk4DKg9d7HRRFxQblB0lBgNLAPxfGROyXtGRFrgSuB8cBDwG3ASOD2DtRhZmYbqNrfWTwB7NKRGUfEPcCrVY5+LDA1It6KiGeAhcBwSf2APhHxYAqqKcCojtRhZmYbrto9i77APEkzgbdaGiPi79djmWdKGgs0A2dFxB+A/hR7Di0WpbbV6XHr9ookjafYC2HQoEHrUZqZmVVSbVhM6KTlXQl8C4h0/z3gFP5ySm5ZtNNeUURMAiYBDBs2rCNdZmZm1o5qz4a6uzMWFhFLWx5L+gHw8/R0ETCwNOoAYHFqH1Ch3czM6qjas6FWSlqRbm9KWitpRUcXlo5BtDiO4lgIwHRgtKQtJO0ODAFmRsQSYKWkg9JZUGOBWzu6XDMz2zDV7llsU34uaRQwvL1pJF0PjKC4VMgi4DxghKT9KbqSnqX4hTgRMVfSNGAesAY4I50JBXA6xZlVW1GcBeUzoczM6qzaYxbriIifSjo7M86YCs1XtTP+RGBihfZmYN8OF2lmZp2mqrCQ9MnS000ofnfhA8hmZj1EtXsWx5Qer6HoQjq206sxM7MuqdpjFp+tdSFmZtZ1VXs21ABJt6RrPS2VdJOkAfkpzcxsY1BtN9SPgOuA49Pzk1LbJ2pRlFm1nv/mfo0uoUcY9PU5jS7BGqzaa0M1RcSPImJNuk0GmmpYl5mZdSHVhsXLkk6S1CvdTgJeqWVhZmbWdVQbFqcAJwAvAUuATwE+6G1m1kNUe8ziW8C4dIVYJO1A8c+QTqlVYWZm1nVUu2fx1y1BARARrwIfqE1JZmbW1VQbFptI2r7lSdqzWK9LhZiZWfdT7Rf+94AHJN1IcZmPE6hwHSczM9s4VfsL7imSmoFDKf4h0ScjYl5NKzMzsy6j6q6kFA4OCDOzHqjaYxZmZtaDOSzMzCzLYWFmZlkOCzMzy3JYmJlZlsPCzMyyHBZmZpblS3YAB/zblEaXsNGb9V9jG12CmW0A71mYmVmWw8LMzLIcFmZmluWwMDOzLIeFmZllOSzMzCyrZmEh6WpJyyQ9UWrbQdIdkp5K9+X/vneOpIWSFkg6otR+gKQ5adglklSrms3MrLJa7llMBka2ajsbmBERQ4AZ6TmShgKjgX3SNFdI6pWmuRIYDwxJt9bzNDOzGqtZWETEPcCrrZqPBa5Jj68BRpXap0bEWxHxDLAQGC6pH9AnIh6MiACmlKYxM7M6qfcxi50jYglAut8ptfcHXiiNtyi19U+PW7dXJGm8pGZJzcuXL+/Uws3MerKucoC70nGIaKe9ooiYFBHDImJYU1NTpxVnZtbT1TsslqauJdL9stS+CBhYGm8AsDi1D6jQbmZmdVTvsJgOjEuPxwG3ltpHS9pC0u4UB7Jnpq6qlZIOSmdBjS1NY2ZmdVKzq85Kuh4YAfSVtAg4D/gOME3SqcDzwPEAETFX0jRgHrAGOCMi1qZZnU5xZtVWwO3pZmZmdVSzsIiIMW0MOqyN8ScCEyu0NwP7dmJpZmbWQV3lALeZmXVhDgszM8tyWJiZWZbDwszMshwWZmaW5bAwM7Msh4WZmWU5LMzMLMthYWZmWQ4LMzPLcliYmVmWw8LMzLIcFmZmluWwMDOzLIeFmZllOSzMzCzLYWFmZlkOCzMzy3JYmJlZlsPCzMyyHBZmZpblsDAzsyyHhZmZZTkszMwsy2FhZmZZDgszM8tyWJiZWZbDwszMshoSFpKelTRH0mxJzaltB0l3SHoq3W9fGv8cSQslLZB0RCNqNjPryRq5Z/HxiNg/Ioal52cDMyJiCDAjPUfSUGA0sA8wErhCUq9GFGxm1lN1pW6oY4Fr0uNrgFGl9qkR8VZEPAMsBIY3oD4zsx6rUWERwK8kzZI0PrXtHBFLANL9Tqm9P/BCadpFqc3MzOpk0wYt95CIWCxpJ+AOSU+2M64qtEXFEYvgGQ8waNCgDa/SzMyABu1ZRMTidL8MuIWiW2mppH4A6X5ZGn0RMLA0+QBgcRvznRQRwyJiWFNTU63KNzPrceoeFpK2lrRNy2PgcOAJYDowLo02Drg1PZ4OjJa0haTdgSHAzPpWbWbWszWiG2pn4BZJLcu/LiJ+IekRYJqkU4HngeMBImKupGnAPGANcEZErG1A3WZmPVbdwyIingbeX6H9FeCwNqaZCEyscWlmZtaGrnTqrJmZdVEOCzMzy3JYmJlZlsPCzMyyHBZmZpblsDAzsyyHhZmZZTkszMwsy2FhZmZZDgszM8tyWJiZWZbDwszMshwWZmaW5bAwM7Msh4WZmWU5LMzMLMthYWZmWQ4LMzPLcliYmVmWw8LMzLIcFmZmluWwMDOzLIeFmZllOSzMzCzLYWFmZlkOCzMzy3JYmJlZlsPCzMyyHBZmZpbVbcJC0khJCyQtlHR2o+sxM+tJukVYSOoFXA4cCQwFxkga2tiqzMx6jm4RFsBwYGFEPB0RbwNTgWMbXJOZWY+hiGh0DVmSPgWMjIjPpecnAx+MiDNbjTceGJ+evg9YUNdC66sv8HKji7D14r9d97ax//12i4im1o2bNqKS9aAKbe9KuYiYBEyqfTmNJ6k5IoY1ug7rOP/turee+vfrLt1Qi4CBpecDgMUNqsXMrMfpLmHxCDBE0u6SNgdGA9MbXJOZWY/RLbqhImKNpDOBXwK9gKsjYm6Dy2q0HtHdtpHy365765F/v25xgNvMzBqru3RDmZlZAzkszMwsy2HRzUg6TlJI2qvRtVjHSForabak30p6VNKHGl2TVU/SLpKmSvq9pHmSbpO0Z6PrqheHRfczBriP4oww617+FBH7R8T7gXOA8xtdkFVHkoBbgLsiYo+IGAqcC+zc2Mrqx2HRjUjqDRwCnIrDorvrA/yh0UVY1T4OrI6I77c0RMTsiLi3gTXVVbc4ddbeMQr4RUT8TtKrkv4mIh5tdFFWta0kzQa2BPoBhza4HqvevsCsRhfRSN6z6F7GUFxEkXQ/poG1WMe1dEPtBYwEpqTuDbMuz7+z6CYk7Uhx2ZNlFNfF6pXudwv/EbsFSasionfp+VJgv4hY1sCyrAqSDgPOi4iPNrqWRvGeRffxKWBKROwWEYMjYiDwDPDhBtdl6yGdzdYLeKXRtVhVfg1sIenzLQ2SDpT0sQbWVFcOi+5jDMXZGGU3AZ9pQC22frZKp87OBm4AxkXE2kYXZXlp7/044BPp1Nm5wAR60AVN3Q1lZmZZ3rMwM7Msh4WZmWU5LMzMLMthYWZmWQ4LMzPLcliYdRJJI3wlWdtYOSzMOs8IoKZhoYI/t1Z3ftOZZUgaK+nx9H8orpV0jKSHJT0m6U5JO0saDHwB+Er64d1HJDVJuknSI+l2SJpfk6Q70v+0+G9Jz0nqm4b9i6Qn0u3LqW2wpPmSrgAeBb4m6aJSfZ+XdGG9XxfrWfyjPLN2SNoHuBk4JCJelrQDxTW5XouIkPQ5YO+IOEvSBGBVRFyQpr0OuCIi7pM0CPhlROwt6TLgxYg4X9JI4HagCdgNmAwcBAh4GDiJ4lLmTwMfioiHJG0NPA7sFRGrJT0AnBYRc+r0slgP5EuUm7XvUODGiHgZICJelbQfcIOkfsDmFNfoquRvgaGlC8v2kbQNxfW8jkvz+4Wklv9r8WHgloh4A0DSzcBHgOnAcxHxUJrmDUm/Bo6WNB/YzEFhteawMGufKPYkyi4FLoyI6ZJGUFwjqJJNgIMj4k/rzLDty5K3d7nyN1o9/yHFf2p7EvhRO9OZdQofszBr3wzghHSJeFI31LbAi2n4uNK4K4FtSs9/BZzZ8kTS/unhfcAJqe1wYPvUfg8wStJ7UlfTcUDF/8QWEQ8DAykuJHn9+q6cWbUcFmbtiIi5wETgbkm/BS6k2JP4/5LuBV4ujf4z4LiWA9zAPwHD0sHxeRQHwAG+ARwu6VHgSGAJsDL918PJwEyK4xU/jIjH2ilvGnB/RPjfs1rN+QC3WZ1J2gJYGxFrJB0MXBkR++emqzCfnwMXRcSMTi/SrBUfszCrv0HAtPR7ibeBz2fGX4ek7Sj2Pn7roLB68Z6FmZll+ZiFmZllOSzMzCzLYWFmZlkOCzMzy3JYmJlZ1v8CTeao1+PPRcYAAAAASUVORK5CYII=\n",
      "text/plain": [
       "<Figure size 432x288 with 1 Axes>"
      ]
     },
     "metadata": {
      "needs_background": "light"
     },
     "output_type": "display_data"
    }
   ],
   "source": [
    "import seaborn as sns\n",
    "import matplotlib.pyplot as plt\n",
    "\n",
    "sns.countplot(retail[\"category\"])\n",
    "plt.title(\"Distribusi Produk Masing-Masing Kategori\")\n",
    "plt.show()"
   ]
  },
  {
   "cell_type": "code",
   "execution_count": 19,
   "metadata": {},
   "outputs": [
    {
     "data": {
      "image/png": "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\n",
      "text/plain": [
       "<Figure size 432x288 with 1 Axes>"
      ]
     },
     "metadata": {
      "needs_background": "light"
     },
     "output_type": "display_data"
    }
   ],
   "source": [
    "sns.barplot(x=\"category\",y=\"total_revenue\",data=retail)\n",
    "plt.title(\"Akumulasi Revenue Masing-Masing Kategori\")\n",
    "plt.show()"
   ]
  },
  {
   "cell_type": "markdown",
   "metadata": {},
   "source": [
    "Dari grafik di atas kategori A memberikan sumbangan revenue paling besar meskipun jumlah jenis produknya paling sedikit. Oleh karena itu kategori A bisa lebih diprioritaskan dibandingkan kategori lainnya."
   ]
  }
 ],
 "metadata": {
  "kernelspec": {
   "display_name": "Python 3",
   "language": "python",
   "name": "python3"
  },
  "language_info": {
   "codemirror_mode": {
    "name": "ipython",
    "version": 3
   },
   "file_extension": ".py",
   "mimetype": "text/x-python",
   "name": "python",
   "nbconvert_exporter": "python",
   "pygments_lexer": "ipython3",
   "version": "3.8.3"
  }
 },
 "nbformat": 4,
 "nbformat_minor": 4
}
