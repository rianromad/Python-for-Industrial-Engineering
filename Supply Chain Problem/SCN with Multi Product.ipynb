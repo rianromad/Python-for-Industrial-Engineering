{
 "cells": [
  {
   "cell_type": "markdown",
   "id": "8ed347f6",
   "metadata": {},
   "source": [
    "# SCN with Multi Product\n",
    "\n",
    "Pada sesi ini kita akan menyelesaikan salah satu kasus rantai pasok di mana terdapat dua buah produk yang harus dikirimkan. Data yang saya gunakan bersumber dari praktikum rantai pasok yang saya dapatkan di semester 5. Saya akan mencoba menyelesaikannya menggunakan PuLP.\n",
    "\n",
    "**Permasalahan:**\n",
    "\n",
    "Sebuah perusahaan memproduksi dua jenis produk yakni kursi (A) dan meja (B) di tiga pabrik. Produk B memiliki ukuran **dua kali lebih besar** daripada produk A. Produk dapat dikirim langsung dari pabrik menuju retailer atau melalui gudang (gudang bersifat cross docking). Berikut adalah gambar konfigurasi jaringan rantai pasok perusahaan tersebut:\n",
    "\n",
    "\n",
    "<img src=\"https://user-images.githubusercontent.com/61647791/147574241-87712480-b24f-437d-8b48-66bd3f8eae4c.png\" />\n",
    "\n",
    "\n",
    "Biaya yang digunakan untuk mengirimkan kedua produk di setiap pabrik diasumsikan sama sehingga akan saling berkompetisi dalam memanfaatkan kapasitas transportasi yang tersedia. Setiap pabrik memiliki kapasitas produksi yang berbeda, begitupun dengan permintaan di masing-masing retailer."
   ]
  },
  {
   "cell_type": "markdown",
   "id": "440dfad6",
   "metadata": {},
   "source": [
    "## 1. Mengimpor Library dan Data"
   ]
  },
  {
   "cell_type": "code",
   "execution_count": 1,
   "id": "68110dc4",
   "metadata": {},
   "outputs": [],
   "source": [
    "import numpy as np\n",
    "import pandas as pd\n",
    "from pulp import *"
   ]
  },
  {
   "cell_type": "markdown",
   "id": "2baedbe5",
   "metadata": {},
   "source": [
    "#### Costs\n",
    "Tabel ini berisikan biaya transportasi produk A maupun B per unit dari lokasi i ke j."
   ]
  },
  {
   "cell_type": "code",
   "execution_count": 2,
   "id": "3ef9b86f",
   "metadata": {},
   "outputs": [
    {
     "data": {
      "text/html": [
       "<div>\n",
       "<style scoped>\n",
       "    .dataframe tbody tr th:only-of-type {\n",
       "        vertical-align: middle;\n",
       "    }\n",
       "\n",
       "    .dataframe tbody tr th {\n",
       "        vertical-align: top;\n",
       "    }\n",
       "\n",
       "    .dataframe thead th {\n",
       "        text-align: right;\n",
       "    }\n",
       "</style>\n",
       "<table border=\"1\" class=\"dataframe\">\n",
       "  <thead>\n",
       "    <tr style=\"text-align: right;\">\n",
       "      <th></th>\n",
       "      <th>Plant 1</th>\n",
       "      <th>Plant 2</th>\n",
       "      <th>Plant 3</th>\n",
       "      <th>Warehouse 1</th>\n",
       "      <th>Warehouse 2</th>\n",
       "      <th>Retailer 1</th>\n",
       "      <th>Retailer 2</th>\n",
       "    </tr>\n",
       "    <tr>\n",
       "      <th>From/To</th>\n",
       "      <th></th>\n",
       "      <th></th>\n",
       "      <th></th>\n",
       "      <th></th>\n",
       "      <th></th>\n",
       "      <th></th>\n",
       "      <th></th>\n",
       "    </tr>\n",
       "  </thead>\n",
       "  <tbody>\n",
       "    <tr>\n",
       "      <th>Plant 1</th>\n",
       "      <td>NaN</td>\n",
       "      <td>5.0</td>\n",
       "      <td>3.0</td>\n",
       "      <td>5.0</td>\n",
       "      <td>5.0</td>\n",
       "      <td>20.0</td>\n",
       "      <td>20.0</td>\n",
       "    </tr>\n",
       "    <tr>\n",
       "      <th>Plant 2</th>\n",
       "      <td>9.0</td>\n",
       "      <td>NaN</td>\n",
       "      <td>9.0</td>\n",
       "      <td>1.0</td>\n",
       "      <td>1.0</td>\n",
       "      <td>8.0</td>\n",
       "      <td>15.0</td>\n",
       "    </tr>\n",
       "    <tr>\n",
       "      <th>Plant 3</th>\n",
       "      <td>0.4</td>\n",
       "      <td>8.0</td>\n",
       "      <td>NaN</td>\n",
       "      <td>1.0</td>\n",
       "      <td>0.5</td>\n",
       "      <td>10.0</td>\n",
       "      <td>12.0</td>\n",
       "    </tr>\n",
       "    <tr>\n",
       "      <th>Warehouse 1</th>\n",
       "      <td>NaN</td>\n",
       "      <td>NaN</td>\n",
       "      <td>NaN</td>\n",
       "      <td>NaN</td>\n",
       "      <td>1.2</td>\n",
       "      <td>2.0</td>\n",
       "      <td>12.0</td>\n",
       "    </tr>\n",
       "    <tr>\n",
       "      <th>Warehouse 2</th>\n",
       "      <td>NaN</td>\n",
       "      <td>NaN</td>\n",
       "      <td>NaN</td>\n",
       "      <td>0.8</td>\n",
       "      <td>NaN</td>\n",
       "      <td>2.0</td>\n",
       "      <td>12.0</td>\n",
       "    </tr>\n",
       "    <tr>\n",
       "      <th>Retailer 1</th>\n",
       "      <td>NaN</td>\n",
       "      <td>NaN</td>\n",
       "      <td>NaN</td>\n",
       "      <td>NaN</td>\n",
       "      <td>NaN</td>\n",
       "      <td>NaN</td>\n",
       "      <td>1.0</td>\n",
       "    </tr>\n",
       "    <tr>\n",
       "      <th>Retailer 2</th>\n",
       "      <td>NaN</td>\n",
       "      <td>NaN</td>\n",
       "      <td>NaN</td>\n",
       "      <td>NaN</td>\n",
       "      <td>NaN</td>\n",
       "      <td>7.0</td>\n",
       "      <td>NaN</td>\n",
       "    </tr>\n",
       "  </tbody>\n",
       "</table>\n",
       "</div>"
      ],
      "text/plain": [
       "             Plant 1  Plant 2  Plant 3  Warehouse 1  Warehouse 2  Retailer 1  \\\n",
       "From/To                                                                        \n",
       "Plant 1          NaN      5.0      3.0          5.0          5.0        20.0   \n",
       "Plant 2          9.0      NaN      9.0          1.0          1.0         8.0   \n",
       "Plant 3          0.4      8.0      NaN          1.0          0.5        10.0   \n",
       "Warehouse 1      NaN      NaN      NaN          NaN          1.2         2.0   \n",
       "Warehouse 2      NaN      NaN      NaN          0.8          NaN         2.0   \n",
       "Retailer 1       NaN      NaN      NaN          NaN          NaN         NaN   \n",
       "Retailer 2       NaN      NaN      NaN          NaN          NaN         7.0   \n",
       "\n",
       "             Retailer 2  \n",
       "From/To                  \n",
       "Plant 1            20.0  \n",
       "Plant 2            15.0  \n",
       "Plant 3            12.0  \n",
       "Warehouse 1        12.0  \n",
       "Warehouse 2        12.0  \n",
       "Retailer 1          1.0  \n",
       "Retailer 2          NaN  "
      ]
     },
     "execution_count": 2,
     "metadata": {},
     "output_type": "execute_result"
    }
   ],
   "source": [
    "cost = pd.read_excel(\"SCN with Multi Product.xlsx\",sheet_name=\"Cost\").set_index(\"From/To\")\n",
    "cost"
   ]
  },
  {
   "cell_type": "markdown",
   "id": "0b89a369",
   "metadata": {},
   "source": [
    "#### Capacity\n",
    "Tabel ini berisikan kapasitas produksi pada produk A dan B di setiap pabrik."
   ]
  },
  {
   "cell_type": "code",
   "execution_count": 3,
   "id": "c72fd328",
   "metadata": {},
   "outputs": [
    {
     "data": {
      "text/html": [
       "<div>\n",
       "<style scoped>\n",
       "    .dataframe tbody tr th:only-of-type {\n",
       "        vertical-align: middle;\n",
       "    }\n",
       "\n",
       "    .dataframe tbody tr th {\n",
       "        vertical-align: top;\n",
       "    }\n",
       "\n",
       "    .dataframe thead th {\n",
       "        text-align: right;\n",
       "    }\n",
       "</style>\n",
       "<table border=\"1\" class=\"dataframe\">\n",
       "  <thead>\n",
       "    <tr style=\"text-align: right;\">\n",
       "      <th></th>\n",
       "      <th>Product A</th>\n",
       "      <th>Product B</th>\n",
       "    </tr>\n",
       "    <tr>\n",
       "      <th>Plant</th>\n",
       "      <th></th>\n",
       "      <th></th>\n",
       "    </tr>\n",
       "  </thead>\n",
       "  <tbody>\n",
       "    <tr>\n",
       "      <th>Plant 1</th>\n",
       "      <td>100</td>\n",
       "      <td>100</td>\n",
       "    </tr>\n",
       "    <tr>\n",
       "      <th>Plant 2</th>\n",
       "      <td>150</td>\n",
       "      <td>150</td>\n",
       "    </tr>\n",
       "    <tr>\n",
       "      <th>Plant 3</th>\n",
       "      <td>50</td>\n",
       "      <td>50</td>\n",
       "    </tr>\n",
       "  </tbody>\n",
       "</table>\n",
       "</div>"
      ],
      "text/plain": [
       "         Product A  Product B\n",
       "Plant                        \n",
       "Plant 1        100        100\n",
       "Plant 2        150        150\n",
       "Plant 3         50         50"
      ]
     },
     "execution_count": 3,
     "metadata": {},
     "output_type": "execute_result"
    }
   ],
   "source": [
    "capacity = pd.read_excel(\"SCN with Multi Product.xlsx\",sheet_name=\"Plant Capacity\").set_index(\"Plant\")\n",
    "capacity"
   ]
  },
  {
   "cell_type": "markdown",
   "id": "808e329f",
   "metadata": {},
   "source": [
    "#### Demand\n",
    "Tabel ini berisikan permintaan produk A maupun B pada masing-masing retailer."
   ]
  },
  {
   "cell_type": "code",
   "execution_count": 4,
   "id": "e808e44d",
   "metadata": {},
   "outputs": [
    {
     "data": {
      "text/html": [
       "<div>\n",
       "<style scoped>\n",
       "    .dataframe tbody tr th:only-of-type {\n",
       "        vertical-align: middle;\n",
       "    }\n",
       "\n",
       "    .dataframe tbody tr th {\n",
       "        vertical-align: top;\n",
       "    }\n",
       "\n",
       "    .dataframe thead th {\n",
       "        text-align: right;\n",
       "    }\n",
       "</style>\n",
       "<table border=\"1\" class=\"dataframe\">\n",
       "  <thead>\n",
       "    <tr style=\"text-align: right;\">\n",
       "      <th></th>\n",
       "      <th>Product A</th>\n",
       "      <th>Product B</th>\n",
       "    </tr>\n",
       "    <tr>\n",
       "      <th>Retailer</th>\n",
       "      <th></th>\n",
       "      <th></th>\n",
       "    </tr>\n",
       "  </thead>\n",
       "  <tbody>\n",
       "    <tr>\n",
       "      <th>Retailer 1</th>\n",
       "      <td>200</td>\n",
       "      <td>200</td>\n",
       "    </tr>\n",
       "    <tr>\n",
       "      <th>Retailer 2</th>\n",
       "      <td>90</td>\n",
       "      <td>90</td>\n",
       "    </tr>\n",
       "  </tbody>\n",
       "</table>\n",
       "</div>"
      ],
      "text/plain": [
       "            Product A  Product B\n",
       "Retailer                        \n",
       "Retailer 1        200        200\n",
       "Retailer 2         90         90"
      ]
     },
     "execution_count": 4,
     "metadata": {},
     "output_type": "execute_result"
    }
   ],
   "source": [
    "demand = pd.read_excel(\"SCN with Multi Product.xlsx\",sheet_name=\"Demand\").set_index(\"Retailer\")\n",
    "demand"
   ]
  },
  {
   "cell_type": "markdown",
   "id": "e93b52be",
   "metadata": {},
   "source": [
    "#### Weight\n",
    "Dictionary ini menunjukkan perbandingan ukuran produk A dan B."
   ]
  },
  {
   "cell_type": "code",
   "execution_count": 5,
   "id": "f5b1bf0e",
   "metadata": {},
   "outputs": [],
   "source": [
    "weight = {\"Product A\":1,\n",
    "          \"Product B\":2}"
   ]
  },
  {
   "cell_type": "markdown",
   "id": "5eb9f238",
   "metadata": {},
   "source": [
    "## 2. Inisiasi Model\n",
    "Tujuan dari permasalahan ini adalah meminimalkan total biaya transportasi sehingga kita akan menggunakan LpMinimize."
   ]
  },
  {
   "cell_type": "code",
   "execution_count": 6,
   "id": "3c999143",
   "metadata": {},
   "outputs": [],
   "source": [
    "model = LpProblem(\"SCN_with_multiproduct\", LpMinimize)"
   ]
  },
  {
   "cell_type": "markdown",
   "id": "b870e48a",
   "metadata": {},
   "source": [
    "## 3. Menambahkan Variabel\n",
    "\n",
    "\n",
    "Variabel keputusan yang ada di model ini yaitu Xcij yang menunjukkan jumlah produk A atau B yang dikirimkan dari lokasi i ke j. Variabel ini memiliki tipe integer lebih dari sama dengan nol dan kurang dari sama dengan kapasitas transportasi.\n",
    "\n",
    "<img src=\"https://user-images.githubusercontent.com/61647791/147671446-e30cd497-d9de-4656-8b4a-3de447c514e5.png\" />\n",
    "\n",
    "\n",
    "\n",
    "### <font color='red'>Hati-hati!</font>\n",
    "Kita harus melakukan filter pada variable Xcij terlebih dahulu untuk kemudahan akses pada fungsi tujuan dan constrain dengan beberapa ketentuan sebagai berikut:\n",
    "1. Tidak ada pengiriman dari i ke j di mana i = j\n",
    "2. Tidak ada pengiriman produk dari gudang ke pabrik\n",
    "3. Tidak ada pengiriman produk dari retailer ke pabrik\n",
    "4. Tidak ada pengiriman produk dari retailer ke gudang\n",
    "\n",
    "Pada tabel biaya ditunjukkan dengan adanya null value atau NaN."
   ]
  },
  {
   "cell_type": "code",
   "execution_count": 7,
   "id": "ca20dd40",
   "metadata": {},
   "outputs": [
    {
     "data": {
      "text/plain": [
       "[('Product A', 'Plant 1', 'Plant 2'),\n",
       " ('Product A', 'Plant 1', 'Plant 3'),\n",
       " ('Product A', 'Plant 1', 'Warehouse 1'),\n",
       " ('Product A', 'Plant 1', 'Warehouse 2'),\n",
       " ('Product A', 'Plant 1', 'Retailer 1'),\n",
       " ('Product A', 'Plant 1', 'Retailer 2'),\n",
       " ('Product A', 'Plant 2', 'Plant 1'),\n",
       " ('Product A', 'Plant 2', 'Plant 3'),\n",
       " ('Product A', 'Plant 2', 'Warehouse 1'),\n",
       " ('Product A', 'Plant 2', 'Warehouse 2'),\n",
       " ('Product A', 'Plant 2', 'Retailer 1'),\n",
       " ('Product A', 'Plant 2', 'Retailer 2'),\n",
       " ('Product A', 'Plant 3', 'Plant 1'),\n",
       " ('Product A', 'Plant 3', 'Plant 2'),\n",
       " ('Product A', 'Plant 3', 'Warehouse 1'),\n",
       " ('Product A', 'Plant 3', 'Warehouse 2'),\n",
       " ('Product A', 'Plant 3', 'Retailer 1'),\n",
       " ('Product A', 'Plant 3', 'Retailer 2'),\n",
       " ('Product A', 'Warehouse 1', 'Warehouse 2'),\n",
       " ('Product A', 'Warehouse 1', 'Retailer 1'),\n",
       " ('Product A', 'Warehouse 1', 'Retailer 2'),\n",
       " ('Product A', 'Warehouse 2', 'Warehouse 1'),\n",
       " ('Product A', 'Warehouse 2', 'Retailer 1'),\n",
       " ('Product A', 'Warehouse 2', 'Retailer 2'),\n",
       " ('Product A', 'Retailer 1', 'Retailer 2'),\n",
       " ('Product A', 'Retailer 2', 'Retailer 1'),\n",
       " ('Product B', 'Plant 1', 'Plant 2'),\n",
       " ('Product B', 'Plant 1', 'Plant 3'),\n",
       " ('Product B', 'Plant 1', 'Warehouse 1'),\n",
       " ('Product B', 'Plant 1', 'Warehouse 2'),\n",
       " ('Product B', 'Plant 1', 'Retailer 1'),\n",
       " ('Product B', 'Plant 1', 'Retailer 2'),\n",
       " ('Product B', 'Plant 2', 'Plant 1'),\n",
       " ('Product B', 'Plant 2', 'Plant 3'),\n",
       " ('Product B', 'Plant 2', 'Warehouse 1'),\n",
       " ('Product B', 'Plant 2', 'Warehouse 2'),\n",
       " ('Product B', 'Plant 2', 'Retailer 1'),\n",
       " ('Product B', 'Plant 2', 'Retailer 2'),\n",
       " ('Product B', 'Plant 3', 'Plant 1'),\n",
       " ('Product B', 'Plant 3', 'Plant 2'),\n",
       " ('Product B', 'Plant 3', 'Warehouse 1'),\n",
       " ('Product B', 'Plant 3', 'Warehouse 2'),\n",
       " ('Product B', 'Plant 3', 'Retailer 1'),\n",
       " ('Product B', 'Plant 3', 'Retailer 2'),\n",
       " ('Product B', 'Warehouse 1', 'Warehouse 2'),\n",
       " ('Product B', 'Warehouse 1', 'Retailer 1'),\n",
       " ('Product B', 'Warehouse 1', 'Retailer 2'),\n",
       " ('Product B', 'Warehouse 2', 'Warehouse 1'),\n",
       " ('Product B', 'Warehouse 2', 'Retailer 1'),\n",
       " ('Product B', 'Warehouse 2', 'Retailer 2'),\n",
       " ('Product B', 'Retailer 1', 'Retailer 2'),\n",
       " ('Product B', 'Retailer 2', 'Retailer 1')]"
      ]
     },
     "execution_count": 7,
     "metadata": {},
     "output_type": "execute_result"
    }
   ],
   "source": [
    "plant = [p for p in cost.index if p[:5]==\"Plant\"]\n",
    "warehouse = [w for w in cost.index if w[:9]==\"Warehouse\"]\n",
    "retailer = [r for r in cost.index if r[:8]==\"Retailer\"]\n",
    "\n",
    "wh_to_p = [(i,j) for i in warehouse for j in plant]\n",
    "r_to_p = [(i,j) for i in retailer for j in plant]\n",
    "r_to_wh = [(i,j) for i in retailer for j in warehouse]\n",
    "\n",
    "nan_keys = wh_to_p + r_to_p + r_to_wh\n",
    "\n",
    "product = [\"Product A\", \"Product B\"]\n",
    "\n",
    "keys = [(c,i,j) for c in product for i in cost.index for j in cost.index if i!=j and (i,j) not in nan_keys]\n",
    "keys"
   ]
  },
  {
   "cell_type": "code",
   "execution_count": 8,
   "id": "1432868f",
   "metadata": {},
   "outputs": [],
   "source": [
    "#Decision Variable\n",
    "#Truk hanya dapat mengangkut sebanyak 300 unit\n",
    "x = LpVariable.dicts(\"x\", keys, lowBound=0, upBound=300, cat=\"Integer\")"
   ]
  },
  {
   "cell_type": "markdown",
   "id": "9ee771d4",
   "metadata": {},
   "source": [
    "## 4. Menambahkan Fungsi Tujuan dan Constrain\n",
    "Berikut adalah fungsi tujuan dari permasalahan ini: \n",
    "\n",
    "\n",
    "<img src=\"https://user-images.githubusercontent.com/61647791/147672112-61706693-90bb-4c80-8e73-1dfdc4f5184e.png\" />"
   ]
  },
  {
   "cell_type": "code",
   "execution_count": 9,
   "id": "2dab444d",
   "metadata": {},
   "outputs": [],
   "source": [
    "#Objective Function\n",
    "model += lpSum(weight[c]*x[c,i,j]*cost.loc[i,j] for (c,i,j) in keys)"
   ]
  },
  {
   "cell_type": "markdown",
   "id": "1b7c47da",
   "metadata": {},
   "source": [
    "#### Constrain 1: Production Capacity Constrain\n",
    "Selisih masing-masing produk yang keluar dan masuk sebuah pabrik harus kurang dari atau sama dengan kapasitasnya. Produk yang masuk ke pabrik bisa berasal dari pabrik lainnya. Produk dari pabrik dapat dikirimkan ke pabrik lain, gudang maupun langsung menuju retailer. \n",
    "\n",
    "<img src=\"https://user-images.githubusercontent.com/61647791/147672623-1a84c392-8d44-4935-b555-e2c8f2ebcbb2.png\" />"
   ]
  },
  {
   "cell_type": "code",
   "execution_count": 10,
   "id": "9e36e061",
   "metadata": {},
   "outputs": [],
   "source": [
    "#Production Capacity Constrain\n",
    "for c in product:\n",
    "    for p in plant:\n",
    "        model += lpSum(x[c,p,j] for j in plant+warehouse+retailer if p!=j) - lpSum(x[c,i,p] for i in plant if i!=p) <= capacity.loc[p][c]"
   ]
  },
  {
   "cell_type": "markdown",
   "id": "e5da102d",
   "metadata": {},
   "source": [
    "#### Constrain 2: Warehouse Cross-Docking\n",
    "Dalam kasus ini gudang bersifat cross docking yang berarti hanya berupa penyimpanan sementara dan tidak ada inventory. Masing-masing produk yang keluar dari gudang harus sama dengan masing-masing produk yang masuk ke gudang. Pada batasan ini dimungkinkan adanya pengiriman produk antar gudang.\n",
    "\n",
    "<img src=\"https://user-images.githubusercontent.com/61647791/147673078-3b0ce19c-223b-4204-83d9-3490de8e1813.png\" />"
   ]
  },
  {
   "cell_type": "code",
   "execution_count": 11,
   "id": "3a5bb013",
   "metadata": {},
   "outputs": [],
   "source": [
    "#Warehouse Cross Docking Constrain\n",
    "for c in product:\n",
    "    for w in warehouse:\n",
    "        model += lpSum(x[c,w,j] for j in warehouse+retailer if w!=j) == lpSum(x[c,i,w] for i in plant+warehouse if i!=w)"
   ]
  },
  {
   "cell_type": "markdown",
   "id": "e8990bf7",
   "metadata": {},
   "source": [
    "#### Constrain 3: Retailer Demand\n",
    "Selisih masing-masing produk yang masuk dan keluar retailer harus lebih dari sama dengan demand-nya. Jika kurang dari sama dengan dikhawatirkan demand tidak dapat terpenuhi. Pada batasan ini dimungkinkan adanya pengiriman produk antar retailer.\n",
    "\n",
    "<img src=\"https://user-images.githubusercontent.com/61647791/147673635-a56f2caa-5dec-425c-b329-21a0275fc1e7.png\" />"
   ]
  },
  {
   "cell_type": "code",
   "execution_count": 12,
   "id": "aa915072",
   "metadata": {},
   "outputs": [],
   "source": [
    "#Retailer Demand\n",
    "for c in product:\n",
    "    for r in retailer:\n",
    "        model += lpSum(x[c,i,r] for i in plant+warehouse+retailer if i!=r) - lpSum(x[c,r,j] for j in retailer if r!=j) >= demand.loc[r][c]"
   ]
  },
  {
   "cell_type": "markdown",
   "id": "d9697a9a",
   "metadata": {},
   "source": [
    "#### Constrain 4: Transportation Capacity\n",
    "Ingat bahwa kedua produk memiliki ukuran yang berbeda dan saling berkompetisi dalam memanfaatkan kapasitas transportasi. \n",
    "\n",
    "<img src=\"https://user-images.githubusercontent.com/61647791/147674325-e241f44e-b893-4f17-bcd7-49bd8eb9734f.png\" />\n"
   ]
  },
  {
   "cell_type": "code",
   "execution_count": 13,
   "id": "1cde5723",
   "metadata": {},
   "outputs": [],
   "source": [
    "#Transportation Capacity Constraint\n",
    "ij_keys = [(i,j) for i in cost.index for j in cost.index if i!=j and (i,j) not in nan_keys]\n",
    "\n",
    "for i,j in ij_keys:\n",
    "    model += lpSum(x[c,i,j]*weight[c] for c in product) <=300"
   ]
  },
  {
   "cell_type": "markdown",
   "id": "f4e89f32",
   "metadata": {},
   "source": [
    "## 5. Menyelesaikan Model dan Melihat Hasil Optimasi"
   ]
  },
  {
   "cell_type": "code",
   "execution_count": 14,
   "id": "50083d63",
   "metadata": {},
   "outputs": [
    {
     "data": {
      "text/plain": [
       "1"
      ]
     },
     "execution_count": 14,
     "metadata": {},
     "output_type": "execute_result"
    }
   ],
   "source": [
    "#Jika hasilnya 1 artinya model sudah optimal\n",
    "model.solve()"
   ]
  },
  {
   "cell_type": "code",
   "execution_count": 15,
   "id": "3805cd22",
   "metadata": {},
   "outputs": [
    {
     "data": {
      "text/plain": [
       "4890.0"
      ]
     },
     "execution_count": 15,
     "metadata": {},
     "output_type": "execute_result"
    }
   ],
   "source": [
    "#Total biaya yang dibutuhkan\n",
    "value(model.objective)"
   ]
  },
  {
   "cell_type": "code",
   "execution_count": 16,
   "id": "746dee74",
   "metadata": {},
   "outputs": [
    {
     "data": {
      "text/html": [
       "<div>\n",
       "<style scoped>\n",
       "    .dataframe tbody tr th:only-of-type {\n",
       "        vertical-align: middle;\n",
       "    }\n",
       "\n",
       "    .dataframe tbody tr th {\n",
       "        vertical-align: top;\n",
       "    }\n",
       "\n",
       "    .dataframe thead th {\n",
       "        text-align: right;\n",
       "    }\n",
       "</style>\n",
       "<table border=\"1\" class=\"dataframe\">\n",
       "  <thead>\n",
       "    <tr style=\"text-align: right;\">\n",
       "      <th></th>\n",
       "      <th>Origin</th>\n",
       "      <th>Destination</th>\n",
       "      <th>Flow A</th>\n",
       "      <th>Flow B</th>\n",
       "      <th>Total Flow</th>\n",
       "    </tr>\n",
       "  </thead>\n",
       "  <tbody>\n",
       "    <tr>\n",
       "      <th>0</th>\n",
       "      <td>Plant 1</td>\n",
       "      <td>Plant 3</td>\n",
       "      <td>90</td>\n",
       "      <td>90</td>\n",
       "      <td>270</td>\n",
       "    </tr>\n",
       "    <tr>\n",
       "      <th>1</th>\n",
       "      <td>Plant 2</td>\n",
       "      <td>Retailer 1</td>\n",
       "      <td>150</td>\n",
       "      <td>60</td>\n",
       "      <td>270</td>\n",
       "    </tr>\n",
       "    <tr>\n",
       "      <th>2</th>\n",
       "      <td>Plant 3</td>\n",
       "      <td>Warehouse 2</td>\n",
       "      <td>140</td>\n",
       "      <td>80</td>\n",
       "      <td>300</td>\n",
       "    </tr>\n",
       "    <tr>\n",
       "      <th>3</th>\n",
       "      <td>Warehouse 2</td>\n",
       "      <td>Retailer 1</td>\n",
       "      <td>140</td>\n",
       "      <td>80</td>\n",
       "      <td>300</td>\n",
       "    </tr>\n",
       "    <tr>\n",
       "      <th>4</th>\n",
       "      <td>Retailer 1</td>\n",
       "      <td>Retailer 2</td>\n",
       "      <td>90</td>\n",
       "      <td>90</td>\n",
       "      <td>270</td>\n",
       "    </tr>\n",
       "    <tr>\n",
       "      <th>5</th>\n",
       "      <td>Plant 2</td>\n",
       "      <td>Warehouse 1</td>\n",
       "      <td>0</td>\n",
       "      <td>90</td>\n",
       "      <td>180</td>\n",
       "    </tr>\n",
       "    <tr>\n",
       "      <th>6</th>\n",
       "      <td>Plant 3</td>\n",
       "      <td>Warehouse 1</td>\n",
       "      <td>0</td>\n",
       "      <td>60</td>\n",
       "      <td>120</td>\n",
       "    </tr>\n",
       "    <tr>\n",
       "      <th>7</th>\n",
       "      <td>Warehouse 1</td>\n",
       "      <td>Retailer 1</td>\n",
       "      <td>0</td>\n",
       "      <td>150</td>\n",
       "      <td>300</td>\n",
       "    </tr>\n",
       "  </tbody>\n",
       "</table>\n",
       "</div>"
      ],
      "text/plain": [
       "        Origin  Destination  Flow A  Flow B  Total Flow\n",
       "0      Plant 1      Plant 3      90      90         270\n",
       "1      Plant 2   Retailer 1     150      60         270\n",
       "2      Plant 3  Warehouse 2     140      80         300\n",
       "3  Warehouse 2   Retailer 1     140      80         300\n",
       "4   Retailer 1   Retailer 2      90      90         270\n",
       "5      Plant 2  Warehouse 1       0      90         180\n",
       "6      Plant 3  Warehouse 1       0      60         120\n",
       "7  Warehouse 1   Retailer 1       0     150         300"
      ]
     },
     "execution_count": 16,
     "metadata": {},
     "output_type": "execute_result"
    }
   ],
   "source": [
    "#Data pengiriman produk\n",
    "origin_A = []\n",
    "destination_A = []\n",
    "flow_A = []\n",
    "\n",
    "origin_B = []\n",
    "destination_B = []\n",
    "flow_B = []\n",
    "\n",
    "for c,i,j in keys:\n",
    "    if x[c,i,j].varValue >0:\n",
    "        if c == \"Product A\":\n",
    "            origin_A.append(i)\n",
    "            destination_A.append(j)\n",
    "            flow_A.append(x[c,i,j].varValue)\n",
    "        else:\n",
    "            origin_B.append(i)\n",
    "            destination_B.append(j)\n",
    "            flow_B.append(x[c,i,j].varValue)\n",
    "        \n",
    "product_A = pd.DataFrame({\"Origin\":origin_A,\n",
    "                          \"Destination\":destination_A,\n",
    "                          \"Flow A\":flow_A})\n",
    "\n",
    "product_B = pd.DataFrame({\"Origin\":origin_B,\n",
    "                          \"Destination\":destination_B,\n",
    "                          \"Flow B\":flow_B})\n",
    "\n",
    "result = pd.merge(product_A, product_B, how=\"outer\", left_on=[\"Origin\",\"Destination\"], right_on=[\"Origin\",\"Destination\"]).fillna(0)\n",
    "result[\"Flow A\"] = result[\"Flow A\"].astype(\"int\")\n",
    "result[\"Total Flow\"] = result[\"Flow A\"] + 2* result[\"Flow B\"]\n",
    "result"
   ]
  },
  {
   "cell_type": "markdown",
   "id": "2efca4ef",
   "metadata": {},
   "source": [
    "## Kesimpulan:\n",
    "Berdasarkan hasil optimasi di atas total biaya pengiriman yang dikeluarkan sebesar $4890 dengan konfigurasi jaringan rantai pasok sebagai berikut:\n"
   ]
  },
  {
   "cell_type": "markdown",
   "id": "d6dde117",
   "metadata": {},
   "source": [
    "\n",
    "\n",
    "<img src=\"https://user-images.githubusercontent.com/61647791/147676517-1a7d268d-1406-44f0-8c09-264f306fcbd1.png\" />"
   ]
  }
 ],
 "metadata": {
  "kernelspec": {
   "display_name": "Python 3 (ipykernel)",
   "language": "python",
   "name": "python3"
  },
  "language_info": {
   "codemirror_mode": {
    "name": "ipython",
    "version": 3
   },
   "file_extension": ".py",
   "mimetype": "text/x-python",
   "name": "python",
   "nbconvert_exporter": "python",
   "pygments_lexer": "ipython3",
   "version": "3.9.9"
  }
 },
 "nbformat": 4,
 "nbformat_minor": 5
}
