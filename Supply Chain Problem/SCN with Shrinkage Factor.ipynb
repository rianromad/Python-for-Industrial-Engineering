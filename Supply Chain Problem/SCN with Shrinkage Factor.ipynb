{
 "cells": [
  {
   "cell_type": "markdown",
   "id": "f297dbe9",
   "metadata": {},
   "source": [
    "# SCN with Shrinkage Factor\n",
    "\n",
    "Pada sesi ini kita akan menyelesaikan salah satu kasus rantai pasok di mana terdapat shrinkage factor yang dalam kasus ini merupakan persentase produk yang tidak cacat/kehilangan kualitas setelah melalui penyimpanan di gudang. Data yang saya gunakan bersumber dari praktikum rantai pasok yang saya dapatkan di semester 5. Saya akan mencoba menyelesaikannya menggunakan PuLP. Diketahui terdapat jaringan rantai pasok sebagai berikut:\n",
    "\n",
    "<img src=\"https://user-images.githubusercontent.com/61647791/147378579-5ce7a4e6-3f82-4446-8751-f15b50402eb2.png\" />\n",
    "\n",
    "\n",
    "Diketahui kapasitas transportasi sebesar 200 unit, shrinkage factor sebesar 80%, biaya transportasi per unit, kapasitas produksi serta permintaan tiap retailer. Berapakah total biaya optimal yang dikeluarkan oleh perusahaan tersebut? Bagaimanakah pengaruh shrinkage factor terhadap total biaya yang dikeluarkan? \n"
   ]
  },
  {
   "cell_type": "markdown",
   "id": "617a8276",
   "metadata": {},
   "source": [
    "## 1. Mengimpor Library dan Data"
   ]
  },
  {
   "cell_type": "code",
   "execution_count": 1,
   "id": "a91cdd95",
   "metadata": {},
   "outputs": [],
   "source": [
    "import numpy as np\n",
    "import pandas as pd\n",
    "from pulp import *"
   ]
  },
  {
   "cell_type": "markdown",
   "id": "138198bc",
   "metadata": {},
   "source": [
    "#### Costs\n",
    "Tabel ini berisikan biaya transportasi per unit dari lokasi i ke j."
   ]
  },
  {
   "cell_type": "code",
   "execution_count": 2,
   "id": "390a91a4",
   "metadata": {},
   "outputs": [
    {
     "data": {
      "text/html": [
       "<div>\n",
       "<style scoped>\n",
       "    .dataframe tbody tr th:only-of-type {\n",
       "        vertical-align: middle;\n",
       "    }\n",
       "\n",
       "    .dataframe tbody tr th {\n",
       "        vertical-align: top;\n",
       "    }\n",
       "\n",
       "    .dataframe thead th {\n",
       "        text-align: right;\n",
       "    }\n",
       "</style>\n",
       "<table border=\"1\" class=\"dataframe\">\n",
       "  <thead>\n",
       "    <tr style=\"text-align: right;\">\n",
       "      <th></th>\n",
       "      <th>Plant 1</th>\n",
       "      <th>Plant 2</th>\n",
       "      <th>Plant 3</th>\n",
       "      <th>Warehouse 1</th>\n",
       "      <th>Warehouse 2</th>\n",
       "      <th>Retailer 1</th>\n",
       "      <th>Retailer 2</th>\n",
       "    </tr>\n",
       "    <tr>\n",
       "      <th>From/To</th>\n",
       "      <th></th>\n",
       "      <th></th>\n",
       "      <th></th>\n",
       "      <th></th>\n",
       "      <th></th>\n",
       "      <th></th>\n",
       "      <th></th>\n",
       "    </tr>\n",
       "  </thead>\n",
       "  <tbody>\n",
       "    <tr>\n",
       "      <th>Plant 1</th>\n",
       "      <td>NaN</td>\n",
       "      <td>5.0</td>\n",
       "      <td>3.0</td>\n",
       "      <td>5.0</td>\n",
       "      <td>5.0</td>\n",
       "      <td>20.0</td>\n",
       "      <td>20.0</td>\n",
       "    </tr>\n",
       "    <tr>\n",
       "      <th>Plant 2</th>\n",
       "      <td>9.0</td>\n",
       "      <td>NaN</td>\n",
       "      <td>9.0</td>\n",
       "      <td>1.0</td>\n",
       "      <td>1.0</td>\n",
       "      <td>8.0</td>\n",
       "      <td>15.0</td>\n",
       "    </tr>\n",
       "    <tr>\n",
       "      <th>Plant 3</th>\n",
       "      <td>0.4</td>\n",
       "      <td>8.0</td>\n",
       "      <td>NaN</td>\n",
       "      <td>1.0</td>\n",
       "      <td>0.5</td>\n",
       "      <td>10.0</td>\n",
       "      <td>12.0</td>\n",
       "    </tr>\n",
       "    <tr>\n",
       "      <th>Warehouse 1</th>\n",
       "      <td>NaN</td>\n",
       "      <td>NaN</td>\n",
       "      <td>NaN</td>\n",
       "      <td>NaN</td>\n",
       "      <td>1.2</td>\n",
       "      <td>2.0</td>\n",
       "      <td>12.0</td>\n",
       "    </tr>\n",
       "    <tr>\n",
       "      <th>Warehouse 2</th>\n",
       "      <td>NaN</td>\n",
       "      <td>NaN</td>\n",
       "      <td>NaN</td>\n",
       "      <td>0.8</td>\n",
       "      <td>NaN</td>\n",
       "      <td>2.0</td>\n",
       "      <td>12.0</td>\n",
       "    </tr>\n",
       "    <tr>\n",
       "      <th>Retailer 1</th>\n",
       "      <td>NaN</td>\n",
       "      <td>NaN</td>\n",
       "      <td>NaN</td>\n",
       "      <td>NaN</td>\n",
       "      <td>NaN</td>\n",
       "      <td>NaN</td>\n",
       "      <td>1.0</td>\n",
       "    </tr>\n",
       "    <tr>\n",
       "      <th>Retailer 2</th>\n",
       "      <td>NaN</td>\n",
       "      <td>NaN</td>\n",
       "      <td>NaN</td>\n",
       "      <td>NaN</td>\n",
       "      <td>NaN</td>\n",
       "      <td>7.0</td>\n",
       "      <td>NaN</td>\n",
       "    </tr>\n",
       "  </tbody>\n",
       "</table>\n",
       "</div>"
      ],
      "text/plain": [
       "             Plant 1  Plant 2  Plant 3  Warehouse 1  Warehouse 2  Retailer 1  \\\n",
       "From/To                                                                        \n",
       "Plant 1          NaN      5.0      3.0          5.0          5.0        20.0   \n",
       "Plant 2          9.0      NaN      9.0          1.0          1.0         8.0   \n",
       "Plant 3          0.4      8.0      NaN          1.0          0.5        10.0   \n",
       "Warehouse 1      NaN      NaN      NaN          NaN          1.2         2.0   \n",
       "Warehouse 2      NaN      NaN      NaN          0.8          NaN         2.0   \n",
       "Retailer 1       NaN      NaN      NaN          NaN          NaN         NaN   \n",
       "Retailer 2       NaN      NaN      NaN          NaN          NaN         7.0   \n",
       "\n",
       "             Retailer 2  \n",
       "From/To                  \n",
       "Plant 1            20.0  \n",
       "Plant 2            15.0  \n",
       "Plant 3            12.0  \n",
       "Warehouse 1        12.0  \n",
       "Warehouse 2        12.0  \n",
       "Retailer 1          1.0  \n",
       "Retailer 2          NaN  "
      ]
     },
     "execution_count": 2,
     "metadata": {},
     "output_type": "execute_result"
    }
   ],
   "source": [
    "cost = pd.read_excel(\"SCN with Shrinkage.xlsx\", sheet_name=\"Cost\").set_index(\"From/To\")\n",
    "cost"
   ]
  },
  {
   "cell_type": "markdown",
   "id": "a558b2cc",
   "metadata": {},
   "source": [
    "#### Capacity\n",
    "Tabel ini berisikan kapasitas produksi yang dimiliki oleh masing-masing pabrik."
   ]
  },
  {
   "cell_type": "code",
   "execution_count": 3,
   "id": "59d58f62",
   "metadata": {},
   "outputs": [
    {
     "data": {
      "text/html": [
       "<div>\n",
       "<style scoped>\n",
       "    .dataframe tbody tr th:only-of-type {\n",
       "        vertical-align: middle;\n",
       "    }\n",
       "\n",
       "    .dataframe tbody tr th {\n",
       "        vertical-align: top;\n",
       "    }\n",
       "\n",
       "    .dataframe thead th {\n",
       "        text-align: right;\n",
       "    }\n",
       "</style>\n",
       "<table border=\"1\" class=\"dataframe\">\n",
       "  <thead>\n",
       "    <tr style=\"text-align: right;\">\n",
       "      <th></th>\n",
       "      <th>Capacity</th>\n",
       "    </tr>\n",
       "    <tr>\n",
       "      <th>Plant</th>\n",
       "      <th></th>\n",
       "    </tr>\n",
       "  </thead>\n",
       "  <tbody>\n",
       "    <tr>\n",
       "      <th>Plant 1</th>\n",
       "      <td>200</td>\n",
       "    </tr>\n",
       "    <tr>\n",
       "      <th>Plant 2</th>\n",
       "      <td>300</td>\n",
       "    </tr>\n",
       "    <tr>\n",
       "      <th>Plant 3</th>\n",
       "      <td>100</td>\n",
       "    </tr>\n",
       "  </tbody>\n",
       "</table>\n",
       "</div>"
      ],
      "text/plain": [
       "         Capacity\n",
       "Plant            \n",
       "Plant 1       200\n",
       "Plant 2       300\n",
       "Plant 3       100"
      ]
     },
     "execution_count": 3,
     "metadata": {},
     "output_type": "execute_result"
    }
   ],
   "source": [
    "capacity = pd.read_excel(\"SCN with Shrinkage.xlsx\", sheet_name=\"Plant Capacity\").set_index(\"Plant\")\n",
    "capacity"
   ]
  },
  {
   "cell_type": "markdown",
   "id": "7003bb75",
   "metadata": {},
   "source": [
    "#### Demand\n",
    "Tabel ini berisikan permintaan produk tiap retailer."
   ]
  },
  {
   "cell_type": "code",
   "execution_count": 4,
   "id": "f777eb03",
   "metadata": {},
   "outputs": [
    {
     "data": {
      "text/html": [
       "<div>\n",
       "<style scoped>\n",
       "    .dataframe tbody tr th:only-of-type {\n",
       "        vertical-align: middle;\n",
       "    }\n",
       "\n",
       "    .dataframe tbody tr th {\n",
       "        vertical-align: top;\n",
       "    }\n",
       "\n",
       "    .dataframe thead th {\n",
       "        text-align: right;\n",
       "    }\n",
       "</style>\n",
       "<table border=\"1\" class=\"dataframe\">\n",
       "  <thead>\n",
       "    <tr style=\"text-align: right;\">\n",
       "      <th></th>\n",
       "      <th>Demand</th>\n",
       "    </tr>\n",
       "    <tr>\n",
       "      <th>Retailer</th>\n",
       "      <th></th>\n",
       "    </tr>\n",
       "  </thead>\n",
       "  <tbody>\n",
       "    <tr>\n",
       "      <th>Retailer 1</th>\n",
       "      <td>400</td>\n",
       "    </tr>\n",
       "    <tr>\n",
       "      <th>Retailer 2</th>\n",
       "      <td>180</td>\n",
       "    </tr>\n",
       "  </tbody>\n",
       "</table>\n",
       "</div>"
      ],
      "text/plain": [
       "            Demand\n",
       "Retailer          \n",
       "Retailer 1     400\n",
       "Retailer 2     180"
      ]
     },
     "execution_count": 4,
     "metadata": {},
     "output_type": "execute_result"
    }
   ],
   "source": [
    "demand = pd.read_excel(\"SCN with Shrinkage.xlsx\", sheet_name=\"Demand\").set_index(\"Retailer\")\n",
    "demand"
   ]
  },
  {
   "cell_type": "markdown",
   "id": "82603cd5",
   "metadata": {},
   "source": [
    "## 2. Inisiasi Model\n",
    "Tujuan dari permasalahan ini adalah meminimalkan biaya sehingga kita akan menggunakan **LpMinimize**."
   ]
  },
  {
   "cell_type": "code",
   "execution_count": 5,
   "id": "231a7156",
   "metadata": {},
   "outputs": [],
   "source": [
    "model = LpProblem(\"SCN_with_shrinkage\", LpMinimize)"
   ]
  },
  {
   "cell_type": "markdown",
   "id": "ba5102c3",
   "metadata": {},
   "source": [
    "## 3. Menambahkan Variabel\n",
    "\n",
    "Variabel keputusan yang ada di model ini yaitu Xij yang menunjukkan jumlah produk yang dikirimkan dari lokasi i ke j. Variabel ini memiliki tipe integer lebih dari sama dengan nol dan kurang dari sama dengan kapasitas transportasi.\n",
    "\n",
    "\n",
    "<img src=\"https://user-images.githubusercontent.com/61647791/147386122-8fa5e09e-d978-4f2b-80e5-b087dbaf2aa7.png\" />\n",
    "\n",
    "### <font color='red'>Hati-hati!</font>\n",
    "Kita harus melakukan filter pada variable Xij terlebih dahulu untuk kemudahan akses pada fungsi tujuan dan constrain dengan beberapa ketentuan sebagai berikut:\n",
    "1. Tidak ada pengiriman dari i ke j di mana i = j\n",
    "2. Tidak ada pengiriman produk dari gudang ke pabrik\n",
    "3. Tidak ada pengiriman produk dari retailer ke pabrik\n",
    "4. Tidak ada pengiriman produk dari retailer ke gudang\n",
    "\n",
    "Pada tabel biaya ditunjukkan dengan adanya null value atau NaN."
   ]
  },
  {
   "cell_type": "code",
   "execution_count": 6,
   "id": "6d599e38",
   "metadata": {},
   "outputs": [
    {
     "data": {
      "text/plain": [
       "[('Plant 1', 'Plant 2'),\n",
       " ('Plant 1', 'Plant 3'),\n",
       " ('Plant 1', 'Warehouse 1'),\n",
       " ('Plant 1', 'Warehouse 2'),\n",
       " ('Plant 1', 'Retailer 1'),\n",
       " ('Plant 1', 'Retailer 2'),\n",
       " ('Plant 2', 'Plant 1'),\n",
       " ('Plant 2', 'Plant 3'),\n",
       " ('Plant 2', 'Warehouse 1'),\n",
       " ('Plant 2', 'Warehouse 2'),\n",
       " ('Plant 2', 'Retailer 1'),\n",
       " ('Plant 2', 'Retailer 2'),\n",
       " ('Plant 3', 'Plant 1'),\n",
       " ('Plant 3', 'Plant 2'),\n",
       " ('Plant 3', 'Warehouse 1'),\n",
       " ('Plant 3', 'Warehouse 2'),\n",
       " ('Plant 3', 'Retailer 1'),\n",
       " ('Plant 3', 'Retailer 2'),\n",
       " ('Warehouse 1', 'Warehouse 2'),\n",
       " ('Warehouse 1', 'Retailer 1'),\n",
       " ('Warehouse 1', 'Retailer 2'),\n",
       " ('Warehouse 2', 'Warehouse 1'),\n",
       " ('Warehouse 2', 'Retailer 1'),\n",
       " ('Warehouse 2', 'Retailer 2'),\n",
       " ('Retailer 1', 'Retailer 2'),\n",
       " ('Retailer 2', 'Retailer 1')]"
      ]
     },
     "execution_count": 6,
     "metadata": {},
     "output_type": "execute_result"
    }
   ],
   "source": [
    "plant = [p for p in cost.index if p[:5]==\"Plant\"]\n",
    "warehouse = [w for w in cost.index if w[:9]==\"Warehouse\"]\n",
    "retailer = [r for r in cost.index if r[:8]==\"Retailer\"]\n",
    "\n",
    "wh_to_p = [(i,j) for i in warehouse for j in plant]\n",
    "r_to_p = [(i,j) for i in retailer for j in plant]\n",
    "r_to_wh = [(i,j) for i in retailer for j in warehouse]\n",
    "\n",
    "nan_keys = wh_to_p + r_to_p + r_to_wh\n",
    "\n",
    "keys = [(i,j) for i in cost.index for j in cost.index if i!=j and (i,j) not in nan_keys]\n",
    "keys"
   ]
  },
  {
   "cell_type": "code",
   "execution_count": 7,
   "id": "34bce892",
   "metadata": {},
   "outputs": [],
   "source": [
    "#Decision Variable\n",
    "#Truk hanya dapat mengangkut sebanyak 200 unit\n",
    "x = LpVariable.dicts(\"x\", keys, lowBound=0, upBound=200, cat=\"Integer\")"
   ]
  },
  {
   "cell_type": "markdown",
   "id": "ecbf0f2c",
   "metadata": {},
   "source": [
    "## 3. Menambahkan Fungsi Tujuan dan Constrain\n",
    "Berikut adalah fungsi tujuan dari permasalahan ini. Pada permasalahan ini diasumsikan tidak terdapat biaya pengoperasian gudang.\n",
    
    "<img src=\"https://user-images.githubusercontent.com/61647791/147386204-1bc2e77d-98d6-4d7a-a646-9fb9f17c3d43.png\" />"
   ]
  },
  {
   "cell_type": "code",
   "execution_count": 8,
   "id": "0834d894",
   "metadata": {},
   "outputs": [],
   "source": [
    "#Objective Function\n",
    "model += lpSum(x[i,j]*cost.loc[i,j] for (i,j) in keys)"
   ]
  },
  {
   "cell_type": "markdown",
   "id": "e767504d",
   "metadata": {},
   "source": [
    "#### Constrain 1: Production Capacity Constrain\n",
    "Selisih produk yang keluar dan masuk sebuah pabrik harus kurang dari atau sama dengan kapasitasnya. Produk yang masuk ke pabrik bisa berasal dari pabrik lainnya. Produk dari pabrik dapat dikirimkan ke pabrik lain, gudang maupun langsung menuju retailer.\n",
    "\n",
    "<img src=\"https://user-images.githubusercontent.com/61647791/147386627-62a9c32c-51e1-449e-b031-24f485c5eb7c.png\" />"
   ]
  },
  {
   "cell_type": "code",
   "execution_count": 9,
   "id": "2cff5bd1",
   "metadata": {},
   "outputs": [],
   "source": [
    "#Production Capacity Constrain\n",
    "for p in plant:\n",
    "    model += lpSum(x[p,j] for j in plant+warehouse+retailer if p!=j) - lpSum(x[i,p] for i in plant if i!=p) <= capacity.loc[p][\"Capacity\"]"
   ]
  },
  {
   "cell_type": "markdown",
   "id": "034bf046",
   "metadata": {},
   "source": [
    "#### Constrain 2: Warehouse Cross-Docking\n",
    "Dalam kasus ini gudang bersifat cross docking yang berarti hanya berupa penyimpanan sementara dan tidak ada inventory. Pada batasan inilah terdapat shrinkage factor. Pada batasan ini dimungkinkan adanya pengiriman produk antar gudang.\n",
    "\n",
    "<img src=\"https://user-images.githubusercontent.com/61647791/147386603-ac139927-17b6-472a-bcb6-e86600d0aad1.png\" />"
   ]
  },
  {
   "cell_type": "code",
   "execution_count": 10,
   "id": "3f9ea1ce",
   "metadata": {},
   "outputs": [],
   "source": [
    "#Warehouse Cross Docking Constrain\n",
    "for w in warehouse:\n",
    "    model += lpSum(x[w,j] for j in warehouse+retailer if w!=j) == 0.8 * lpSum(x[i,w] for i in plant+warehouse if i!=w)"
   ]
  },
  {
   "cell_type": "markdown",
   "id": "4d97d6ec",
   "metadata": {},
   "source": [
    "#### Constrain 3: Retailer Demand\n",
    "Selisih produk yang masuk dan keluar retailer harus lebih dari sama dengan demand nya. Jika kurang dari sama dengan dikhawatirkan demand tidak dapat terpenuhi. Pada batasan ini dimungkinkan adanya pengiriman produk antar retailer.\n",
    "<img src=\"https://user-images.githubusercontent.com/61647791/147387004-8bea0cc9-aa4e-4b86-bb7d-c984b7cb0c6d.png\" />"
   ]
  },
  {
   "cell_type": "code",
   "execution_count": 11,
   "id": "d6865e20",
   "metadata": {},
   "outputs": [],
   "source": [
    "#Retailer Demand\n",
    "for r in retailer:\n",
    "    model += lpSum(x[i,r] for i in plant+warehouse+retailer if i!=r) - lpSum(x[r,j] for j in retailer if r!=j) >= demand.loc[r][\"Demand\"]"
   ]
  },
  {
   "cell_type": "markdown",
   "id": "2e4917db",
   "metadata": {},
   "source": [
    "## 4. Menyelesaikan Model dan Melihat Hasil Optimasi"
   ]
  },
  {
   "cell_type": "code",
   "execution_count": 12,
   "id": "6bfdf47c",
   "metadata": {},
   "outputs": [
    {
     "data": {
      "text/plain": [
       "1"
      ]
     },
     "execution_count": 12,
     "metadata": {},
     "output_type": "execute_result"
    }
   ],
   "source": [
    "#Jika hasilnya 1 artinya model sudah optimal\n",
    "model.solve()"
   ]
  },
  {
   "cell_type": "code",
   "execution_count": 13,
   "id": "1a52a7e1",
   "metadata": {},
   "outputs": [
    {
     "data": {
      "text/plain": [
       "5740.0"
      ]
     },
     "execution_count": 13,
     "metadata": {},
     "output_type": "execute_result"
    }
   ],
   "source": [
    "#Total biaya yang dibutuhkan\n",
    "value(model.objective)"
   ]
  },
  {
   "cell_type": "code",
   "execution_count": 14,
   "id": "e3e1aa50",
   "metadata": {},
   "outputs": [
    {
     "data": {
      "text/html": [
       "<div>\n",
       "<style scoped>\n",
       "    .dataframe tbody tr th:only-of-type {\n",
       "        vertical-align: middle;\n",
       "    }\n",
       "\n",
       "    .dataframe tbody tr th {\n",
       "        vertical-align: top;\n",
       "    }\n",
       "\n",
       "    .dataframe thead th {\n",
       "        text-align: right;\n",
       "    }\n",
       "</style>\n",
       "<table border=\"1\" class=\"dataframe\">\n",
       "  <thead>\n",
       "    <tr style=\"text-align: right;\">\n",
       "      <th></th>\n",
       "      <th>Origin</th>\n",
       "      <th>Destination</th>\n",
       "      <th>Flow</th>\n",
       "    </tr>\n",
       "  </thead>\n",
       "  <tbody>\n",
       "    <tr>\n",
       "      <th>0</th>\n",
       "      <td>Plant 1</td>\n",
       "      <td>Plant 3</td>\n",
       "      <td>200</td>\n",
       "    </tr>\n",
       "    <tr>\n",
       "      <th>1</th>\n",
       "      <td>Plant 2</td>\n",
       "      <td>Warehouse 1</td>\n",
       "      <td>100</td>\n",
       "    </tr>\n",
       "    <tr>\n",
       "      <th>2</th>\n",
       "      <td>Plant 2</td>\n",
       "      <td>Retailer 1</td>\n",
       "      <td>200</td>\n",
       "    </tr>\n",
       "    <tr>\n",
       "      <th>3</th>\n",
       "      <td>Plant 3</td>\n",
       "      <td>Retailer 1</td>\n",
       "      <td>200</td>\n",
       "    </tr>\n",
       "    <tr>\n",
       "      <th>4</th>\n",
       "      <td>Plant 3</td>\n",
       "      <td>Retailer 2</td>\n",
       "      <td>100</td>\n",
       "    </tr>\n",
       "    <tr>\n",
       "      <th>5</th>\n",
       "      <td>Warehouse 1</td>\n",
       "      <td>Retailer 1</td>\n",
       "      <td>80</td>\n",
       "    </tr>\n",
       "    <tr>\n",
       "      <th>6</th>\n",
       "      <td>Retailer 1</td>\n",
       "      <td>Retailer 2</td>\n",
       "      <td>80</td>\n",
       "    </tr>\n",
       "  </tbody>\n",
       "</table>\n",
       "</div>"
      ],
      "text/plain": [
       "        Origin  Destination  Flow\n",
       "0      Plant 1      Plant 3   200\n",
       "1      Plant 2  Warehouse 1   100\n",
       "2      Plant 2   Retailer 1   200\n",
       "3      Plant 3   Retailer 1   200\n",
       "4      Plant 3   Retailer 2   100\n",
       "5  Warehouse 1   Retailer 1    80\n",
       "6   Retailer 1   Retailer 2    80"
      ]
     },
     "execution_count": 14,
     "metadata": {},
     "output_type": "execute_result"
    }
   ],
   "source": [
    "#Data pengiriman produk\n",
    "origin = []\n",
    "destination = []\n",
    "flow = []\n",
    "\n",
    "for i,j in keys:\n",
    "    if x[i,j].varValue >0:\n",
    "        origin.append(i)\n",
    "        destination.append(j)\n",
    "        flow.append(x[i,j].varValue)\n",
    "        \n",
    "result = pd.DataFrame({\"Origin\":origin,\n",
    "                       \"Destination\":destination,\n",
    "                       \"Flow\":flow})\n",
    "result"
   ]
  },
  {
   "cell_type": "markdown",
   "id": "062dbb76",
   "metadata": {},
   "source": [
    "<img src=\"https://user-images.githubusercontent.com/61647791/147378860-dbb974bd-ce44-4968-87b6-f18b790f120a.png\" />\n",
    "\n",
    "Gambar di atas merupakan konfigurasi jaringan rantai pasok hasil optimasi dengan total biaya sebesar $5740. Diketahui pabrik 1 mengirimkan 200 produk menuju pabrik 3. Kemudian pada gudang 2 tidak digunakan untuk penyimpanan sementara. Jika diperhatikan dengan saksama pada gudang 1 terjadi shrinkage yang menyebabkan berkurangnya produk sebanyak 20 unit. Selanjutnya kita akan melihat bagaimanakah pengaruh shrinkage factor terhadap total biaya yang dikeluarkan."
   ]
  },
  {
   "cell_type": "markdown",
   "id": "0cfd26f1",
   "metadata": {},
   "source": [
    "## Pengaruh Shrinkage Factor terhadap Total Biaya"
   ]
  },
  {
   "cell_type": "code",
   "execution_count": 15,
   "id": "1e9fd008",
   "metadata": {},
   "outputs": [],
   "source": [
    "def shrinkage_simulation(s):\n",
    "    model = LpProblem(\"Shrinkage_simulation\", LpMinimize)\n",
    "    x = LpVariable.dicts(\"x\", keys, lowBound=0, upBound=200, cat=\"Integer\")\n",
    "    \n",
    "    #Fungsi Tujuan\n",
    "    model += lpSum(x[i,j]*cost.loc[i,j] for (i,j) in keys)\n",
    "\n",
    "    #Production Capacity Constrain\n",
    "    for p in plant:\n",
    "        model += lpSum(x[p,j] for j in plant+warehouse+retailer if p!=j) - lpSum(x[i,p] for i in plant if i!=p) <= capacity.loc[p][\"Capacity\"]\n",
    "    \n",
    "    #Warehouse Cross Docking Constrain\n",
    "    for w in warehouse:\n",
    "        model += lpSum(x[w,j] for j in warehouse+retailer if w!=j) == s * lpSum(x[i,w] for i in plant+warehouse if i!=w)\n",
    "        \n",
    "    #Retailer Demand\n",
    "    for r in retailer:\n",
    "        model += lpSum(x[i,r] for i in plant+warehouse+retailer if i!=r) - lpSum(x[r,j] for j in retailer if r!=j) >= demand.loc[r][\"Demand\"]\n",
    "        \n",
    "    model.solve()\n",
    "    return value(model.objective)"
   ]
  },
  {
   "cell_type": "code",
   "execution_count": 16,
   "id": "2a7fe66a",
   "metadata": {},
   "outputs": [
    {
     "data": {
      "image/png": "[encoded data removed]",
      "text/plain": [
       "<Figure size 432x288 with 1 Axes>"
      ]
     },
     "metadata": {
      "needs_background": "light"
     },
     "output_type": "display_data"
    }
   ],
   "source": [
    "import matplotlib.pyplot as plt\n",
    "\n",
    "x = [0.5,0.6,0.8,0.9,1]\n",
    "y = [shrinkage_simulation(s) for s in x]\n",
    "\n",
    "plt.plot(x,y)\n",
    "plt.title(\"Shrinkage vs Total Cost\")\n",
    "plt.xlabel(\"Shrinkage Factor\")\n",
    "plt.ylabel(\"Total Cost\")\n",
    "plt.show()"
   ]
  },
  {
   "cell_type": "markdown",
   "id": "7e8630d9",
   "metadata": {},
   "source": [
    "Berdasarkan visualisasi di atas semakin tinggi shrinkage factor maka total biaya yang dikeluarkan untuk mengirimkan produk menjadi lebih murah. Shrinkage factor 100% artinya tidak ada produk cacat setelah melewati gudang. Tingginya total biaya pengiriman akibat shrinkage factor yang rendah diakibatkan oleh kecenderungan pabrik yang mengirimkan produk secara langsung dari pabrik menuju retailer tanpa menggunakan gudang. Hal itu bisa dibuktikan melalui tabel biaya di bawah ini. Misalkan biaya pengiriman dari pabrik 1 ke retailer 1 secara langsung adalah sebesar **20 dolar per unit**. Jika menggunakan gudang 1 misalnya, maka biaya pengiriman akan menjadi **7 dolar per unit**. Namun dikarenakan terjadi shrinkage pada gudang, perusahaan lebih memilih tidak menggunakan gudang."
   ]
  },
  {
   "cell_type": "code",
   "execution_count": 17,
   "id": "c48d99fc",
   "metadata": {},
   "outputs": [
    {
     "data": {
      "text/html": [
       "<div>\n",
       "<style scoped>\n",
       "    .dataframe tbody tr th:only-of-type {\n",
       "        vertical-align: middle;\n",
       "    }\n",
       "\n",
       "    .dataframe tbody tr th {\n",
       "        vertical-align: top;\n",
       "    }\n",
       "\n",
       "    .dataframe thead th {\n",
       "        text-align: right;\n",
       "    }\n",
       "</style>\n",
       "<table border=\"1\" class=\"dataframe\">\n",
       "  <thead>\n",
       "    <tr style=\"text-align: right;\">\n",
       "      <th></th>\n",
       "      <th>Plant 1</th>\n",
       "      <th>Plant 2</th>\n",
       "      <th>Plant 3</th>\n",
       "      <th>Warehouse 1</th>\n",
       "      <th>Warehouse 2</th>\n",
       "      <th>Retailer 1</th>\n",
       "      <th>Retailer 2</th>\n",
       "    </tr>\n",
       "    <tr>\n",
       "      <th>From/To</th>\n",
       "      <th></th>\n",
       "      <th></th>\n",
       "      <th></th>\n",
       "      <th></th>\n",
       "      <th></th>\n",
       "      <th></th>\n",
       "      <th></th>\n",
       "    </tr>\n",
       "  </thead>\n",
       "  <tbody>\n",
       "    <tr>\n",
       "      <th>Plant 1</th>\n",
       "      <td>NaN</td>\n",
       "      <td>5.0</td>\n",
       "      <td>3.0</td>\n",
       "      <td>5.0</td>\n",
       "      <td>5.0</td>\n",
       "      <td>20.0</td>\n",
       "      <td>20.0</td>\n",
       "    </tr>\n",
       "    <tr>\n",
       "      <th>Plant 2</th>\n",
       "      <td>9.0</td>\n",
       "      <td>NaN</td>\n",
       "      <td>9.0</td>\n",
       "      <td>1.0</td>\n",
       "      <td>1.0</td>\n",
       "      <td>8.0</td>\n",
       "      <td>15.0</td>\n",
       "    </tr>\n",
       "    <tr>\n",
       "      <th>Plant 3</th>\n",
       "      <td>0.4</td>\n",
       "      <td>8.0</td>\n",
       "      <td>NaN</td>\n",
       "      <td>1.0</td>\n",
       "      <td>0.5</td>\n",
       "      <td>10.0</td>\n",
       "      <td>12.0</td>\n",
       "    </tr>\n",
       "    <tr>\n",
       "      <th>Warehouse 1</th>\n",
       "      <td>NaN</td>\n",
       "      <td>NaN</td>\n",
       "      <td>NaN</td>\n",
       "      <td>NaN</td>\n",
       "      <td>1.2</td>\n",
       "      <td>2.0</td>\n",
       "      <td>12.0</td>\n",
       "    </tr>\n",
       "    <tr>\n",
       "      <th>Warehouse 2</th>\n",
       "      <td>NaN</td>\n",
       "      <td>NaN</td>\n",
       "      <td>NaN</td>\n",
       "      <td>0.8</td>\n",
       "      <td>NaN</td>\n",
       "      <td>2.0</td>\n",
       "      <td>12.0</td>\n",
       "    </tr>\n",
       "    <tr>\n",
       "      <th>Retailer 1</th>\n",
       "      <td>NaN</td>\n",
       "      <td>NaN</td>\n",
       "      <td>NaN</td>\n",
       "      <td>NaN</td>\n",
       "      <td>NaN</td>\n",
       "      <td>NaN</td>\n",
       "      <td>1.0</td>\n",
       "    </tr>\n",
       "    <tr>\n",
       "      <th>Retailer 2</th>\n",
       "      <td>NaN</td>\n",
       "      <td>NaN</td>\n",
       "      <td>NaN</td>\n",
       "      <td>NaN</td>\n",
       "      <td>NaN</td>\n",
       "      <td>7.0</td>\n",
       "      <td>NaN</td>\n",
       "    </tr>\n",
       "  </tbody>\n",
       "</table>\n",
       "</div>"
      ],
      "text/plain": [
       "             Plant 1  Plant 2  Plant 3  Warehouse 1  Warehouse 2  Retailer 1  \\\n",
       "From/To                                                                        \n",
       "Plant 1          NaN      5.0      3.0          5.0          5.0        20.0   \n",
       "Plant 2          9.0      NaN      9.0          1.0          1.0         8.0   \n",
       "Plant 3          0.4      8.0      NaN          1.0          0.5        10.0   \n",
       "Warehouse 1      NaN      NaN      NaN          NaN          1.2         2.0   \n",
       "Warehouse 2      NaN      NaN      NaN          0.8          NaN         2.0   \n",
       "Retailer 1       NaN      NaN      NaN          NaN          NaN         NaN   \n",
       "Retailer 2       NaN      NaN      NaN          NaN          NaN         7.0   \n",
       "\n",
       "             Retailer 2  \n",
       "From/To                  \n",
       "Plant 1            20.0  \n",
       "Plant 2            15.0  \n",
       "Plant 3            12.0  \n",
       "Warehouse 1        12.0  \n",
       "Warehouse 2        12.0  \n",
       "Retailer 1          1.0  \n",
       "Retailer 2          NaN  "
      ]
     },
     "execution_count": 17,
     "metadata": {},
     "output_type": "execute_result"
    }
   ],
   "source": [
    "cost"
   ]
  }
 ],
 "metadata": {
  "kernelspec": {
   "display_name": "Python 3 (ipykernel)",
   "language": "python",
   "name": "python3"
  },
  "language_info": {
   "codemirror_mode": {
    "name": "ipython",
    "version": 3
   },
   "file_extension": ".py",
   "mimetype": "text/x-python",
   "name": "python",
   "nbconvert_exporter": "python",
   "pygments_lexer": "ipython3",
   "version": "3.9.7"
  }
 },
 "nbformat": 4,
 "nbformat_minor": 5
}
