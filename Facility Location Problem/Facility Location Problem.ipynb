{
 "cells": [
  {
   "cell_type": "markdown",
   "metadata": {},
   "source": [
    "# Facility Location Problem\n",
    "Pada sesi ini kita akan menyelesaikan facility location problem. Adapun tujuan dari permasalahan ini yaitu untuk meminimalkan biaya instalasi dan alokasi demand dari pusat distribusi ke pelanggan (toko). Data yang digunakan berasal dari mata kuliah Matematika Optimasi yang pernah saya ambil waktu kuliah dengan Bpk Setyo Tri Windras Mara. Saya akan menyelesaikan model ini menggunakan bantuan library pulp.\n",
    "\n",
    "**Permasalahan:**\n",
    "\n",
    "Sebuah perusahaan retail berencana melakukan penetrasi pasar ke Kabupaten Kulonprogo karena adanya potensi Bandara NYIA. Perusahaan tersebut hendak membuka sepuluh toko di area Kulonprogo dan saat ini mereka sedang mengevaluasi tiga calon lokasi potensial untuk dibangun pusat distribusi. "
   ]
  },
  {
   "cell_type": "markdown",
   "metadata": {},
   "source": [
    "### 1. Mengimpor Library"
   ]
  },
  {
   "cell_type": "code",
   "execution_count": 3,
   "metadata": {},
   "outputs": [],
   "source": [
    "import pandas as pd\n",
    "import numpy as np\n",
    "from pulp import *"
   ]
  },
  {
   "cell_type": "markdown",
   "metadata": {},
   "source": [
    "### 2. Mengimpor Data\n",
    "Data yang digunakan memiliki tipe file excel dengan 3 sheet. Oleh karena itu kita gunakan pd.read_excel untuk mengimpor data tersebut. Saya menambahkan beberapa parameter seperti header dan usecols serta melakukan transpose (.T) pada sheet *Biaya* untuk kemudahan akses data."
   ]
  },
  {
   "cell_type": "code",
   "execution_count": 4,
   "metadata": {},
   "outputs": [],
   "source": [
    "dist_center = pd.read_excel(\"Facility Location Problem.xlsx\", sheet_name=\"Pusat Distribusi\").set_index(\"Lokasi potensial\")\n",
    "customers = pd.read_excel(\"Facility Location Problem.xlsx\", sheet_name=\"Customer\").set_index(\"Customer\")\n",
    "costs = pd.read_excel(\"Facility Location Problem.xlsx\", sheet_name=\"Biaya\", header=1, usecols=range(1,12)).rename(columns={\"Unnamed: 1\":\"Sites\"}).set_index(\"Sites\").T"
   ]
  },
  {
   "cell_type": "markdown",
   "metadata": {},
   "source": [
    "#### a. Data Pusat Distribusi\n",
    "Tabel ini berisi biaya yang dibutuhkan untuk membangun pusat distribusi serta kapasitas penyimpanan fasilitas tersebut.\n"
   ]
  },
  {
   "cell_type": "code",
   "execution_count": 5,
   "metadata": {},
   "outputs": [
    {
     "data": {
      "text/html": [
       "<div>\n",
       "<style scoped>\n",
       "    .dataframe tbody tr th:only-of-type {\n",
       "        vertical-align: middle;\n",
       "    }\n",
       "\n",
       "    .dataframe tbody tr th {\n",
       "        vertical-align: top;\n",
       "    }\n",
       "\n",
       "    .dataframe thead th {\n",
       "        text-align: right;\n",
       "    }\n",
       "</style>\n",
       "<table border=\"1\" class=\"dataframe\">\n",
       "  <thead>\n",
       "    <tr style=\"text-align: right;\">\n",
       "      <th></th>\n",
       "      <th>Biaya</th>\n",
       "      <th>Kapasitas</th>\n",
       "    </tr>\n",
       "    <tr>\n",
       "      <th>Lokasi potensial</th>\n",
       "      <th></th>\n",
       "      <th></th>\n",
       "    </tr>\n",
       "  </thead>\n",
       "  <tbody>\n",
       "    <tr>\n",
       "      <th>1</th>\n",
       "      <td>300</td>\n",
       "      <td>250</td>\n",
       "    </tr>\n",
       "    <tr>\n",
       "      <th>2</th>\n",
       "      <td>200</td>\n",
       "      <td>150</td>\n",
       "    </tr>\n",
       "    <tr>\n",
       "      <th>3</th>\n",
       "      <td>500</td>\n",
       "      <td>300</td>\n",
       "    </tr>\n",
       "  </tbody>\n",
       "</table>\n",
       "</div>"
      ],
      "text/plain": [
       "                  Biaya  Kapasitas\n",
       "Lokasi potensial                  \n",
       "1                   300        250\n",
       "2                   200        150\n",
       "3                   500        300"
      ]
     },
     "execution_count": 5,
     "metadata": {},
     "output_type": "execute_result"
    }
   ],
   "source": [
    "dist_center"
   ]
  },
  {
   "cell_type": "markdown",
   "metadata": {},
   "source": [
    "#### b. Data Pelanggan\n",
    "Tabel ini berisi 10 toko yang hendak dibuka di Kabupaten Kulonprogo beserta demand per periode "
   ]
  },
  {
   "cell_type": "code",
   "execution_count": 6,
   "metadata": {},
   "outputs": [
    {
     "data": {
      "text/html": [
       "<div>\n",
       "<style scoped>\n",
       "    .dataframe tbody tr th:only-of-type {\n",
       "        vertical-align: middle;\n",
       "    }\n",
       "\n",
       "    .dataframe tbody tr th {\n",
       "        vertical-align: top;\n",
       "    }\n",
       "\n",
       "    .dataframe thead th {\n",
       "        text-align: right;\n",
       "    }\n",
       "</style>\n",
       "<table border=\"1\" class=\"dataframe\">\n",
       "  <thead>\n",
       "    <tr style=\"text-align: right;\">\n",
       "      <th></th>\n",
       "      <th>Demand per Periode</th>\n",
       "    </tr>\n",
       "    <tr>\n",
       "      <th>Customer</th>\n",
       "      <th></th>\n",
       "    </tr>\n",
       "  </thead>\n",
       "  <tbody>\n",
       "    <tr>\n",
       "      <th>1</th>\n",
       "      <td>30</td>\n",
       "    </tr>\n",
       "    <tr>\n",
       "      <th>2</th>\n",
       "      <td>20</td>\n",
       "    </tr>\n",
       "    <tr>\n",
       "      <th>3</th>\n",
       "      <td>40</td>\n",
       "    </tr>\n",
       "    <tr>\n",
       "      <th>4</th>\n",
       "      <td>50</td>\n",
       "    </tr>\n",
       "    <tr>\n",
       "      <th>5</th>\n",
       "      <td>40</td>\n",
       "    </tr>\n",
       "    <tr>\n",
       "      <th>6</th>\n",
       "      <td>60</td>\n",
       "    </tr>\n",
       "    <tr>\n",
       "      <th>7</th>\n",
       "      <td>30</td>\n",
       "    </tr>\n",
       "    <tr>\n",
       "      <th>8</th>\n",
       "      <td>50</td>\n",
       "    </tr>\n",
       "    <tr>\n",
       "      <th>9</th>\n",
       "      <td>40</td>\n",
       "    </tr>\n",
       "    <tr>\n",
       "      <th>10</th>\n",
       "      <td>40</td>\n",
       "    </tr>\n",
       "  </tbody>\n",
       "</table>\n",
       "</div>"
      ],
      "text/plain": [
       "          Demand per Periode\n",
       "Customer                    \n",
       "1                         30\n",
       "2                         20\n",
       "3                         40\n",
       "4                         50\n",
       "5                         40\n",
       "6                         60\n",
       "7                         30\n",
       "8                         50\n",
       "9                         40\n",
       "10                        40"
      ]
     },
     "execution_count": 6,
     "metadata": {},
     "output_type": "execute_result"
    }
   ],
   "source": [
    "customers"
   ]
  },
  {
   "cell_type": "markdown",
   "metadata": {},
   "source": [
    "#### c. Data Biaya\n",
    "Tabel ini berisi biaya yang diperlukan untuk mendistribusikan barang dari pusat distribusi menuju toko"
   ]
  },
  {
   "cell_type": "code",
   "execution_count": 7,
   "metadata": {},
   "outputs": [
    {
     "data": {
      "text/html": [
       "<div>\n",
       "<style scoped>\n",
       "    .dataframe tbody tr th:only-of-type {\n",
       "        vertical-align: middle;\n",
       "    }\n",
       "\n",
       "    .dataframe tbody tr th {\n",
       "        vertical-align: top;\n",
       "    }\n",
       "\n",
       "    .dataframe thead th {\n",
       "        text-align: right;\n",
       "    }\n",
       "</style>\n",
       "<table border=\"1\" class=\"dataframe\">\n",
       "  <thead>\n",
       "    <tr style=\"text-align: right;\">\n",
       "      <th>Sites</th>\n",
       "      <th>1</th>\n",
       "      <th>2</th>\n",
       "      <th>3</th>\n",
       "    </tr>\n",
       "  </thead>\n",
       "  <tbody>\n",
       "    <tr>\n",
       "      <th>1</th>\n",
       "      <td>96</td>\n",
       "      <td>76</td>\n",
       "      <td>58</td>\n",
       "    </tr>\n",
       "    <tr>\n",
       "      <th>2</th>\n",
       "      <td>97</td>\n",
       "      <td>66</td>\n",
       "      <td>68</td>\n",
       "    </tr>\n",
       "    <tr>\n",
       "      <th>3</th>\n",
       "      <td>100</td>\n",
       "      <td>83</td>\n",
       "      <td>100</td>\n",
       "    </tr>\n",
       "    <tr>\n",
       "      <th>4</th>\n",
       "      <td>81</td>\n",
       "      <td>52</td>\n",
       "      <td>52</td>\n",
       "    </tr>\n",
       "    <tr>\n",
       "      <th>5</th>\n",
       "      <td>89</td>\n",
       "      <td>54</td>\n",
       "      <td>83</td>\n",
       "    </tr>\n",
       "    <tr>\n",
       "      <th>6</th>\n",
       "      <td>57</td>\n",
       "      <td>63</td>\n",
       "      <td>74</td>\n",
       "    </tr>\n",
       "    <tr>\n",
       "      <th>7</th>\n",
       "      <td>71</td>\n",
       "      <td>96</td>\n",
       "      <td>66</td>\n",
       "    </tr>\n",
       "    <tr>\n",
       "      <th>8</th>\n",
       "      <td>96</td>\n",
       "      <td>99</td>\n",
       "      <td>64</td>\n",
       "    </tr>\n",
       "    <tr>\n",
       "      <th>9</th>\n",
       "      <td>55</td>\n",
       "      <td>94</td>\n",
       "      <td>63</td>\n",
       "    </tr>\n",
       "    <tr>\n",
       "      <th>10</th>\n",
       "      <td>84</td>\n",
       "      <td>86</td>\n",
       "      <td>83</td>\n",
       "    </tr>\n",
       "  </tbody>\n",
       "</table>\n",
       "</div>"
      ],
      "text/plain": [
       "Sites    1   2    3\n",
       "1       96  76   58\n",
       "2       97  66   68\n",
       "3      100  83  100\n",
       "4       81  52   52\n",
       "5       89  54   83\n",
       "6       57  63   74\n",
       "7       71  96   66\n",
       "8       96  99   64\n",
       "9       55  94   63\n",
       "10      84  86   83"
      ]
     },
     "execution_count": 7,
     "metadata": {},
     "output_type": "execute_result"
    }
   ],
   "source": [
    "costs"
   ]
  },
  {
   "cell_type": "markdown",
   "metadata": {},
   "source": [
    "### 3. Menambahkan Variabel\n",
    "Selain menambahkan variabel, saya juga membuat beberapa parameter yang digunakan yakni:\n",
    "- list_customer: kumpulan toko \n",
    "- list_sites: kumpulan pusat distribusi\n",
    "- keys: kombinasi toko dan pusat distribusi untuk keperluan pembuatan variabel\n",
    "\n",
    "Variabel yang digunakan dalam permasalahan ini yaitu:\n",
    "- yij: alokasi demand dari toko i yang dipenuhi oleh pusat distribusi j. Variabel ini bertipe integer lebih dari 0.\n",
    "- xij: variabel bertipe binary yang menyatakan kondisi pusat distribusi akan dibangun atau tidak\n",
    "\n",
    "<img src=\"https://user-images.githubusercontent.com/61647791/128858577-a3d56c71-ec69-4774-a344-46a860853c7b.PNG\" />\n",
    "\n",
    "*sumber: Sarker and Newton - Optimization Modelling, A Practical Approach*"
   ]
  },
  {
   "cell_type": "code",
   "execution_count": 8,
   "metadata": {},
   "outputs": [],
   "source": [
    "#create parameter\n",
    "list_customers = customers.index\n",
    "list_sites = dist_center.index\n",
    "keys = [(i,j) for i in list_customers for j in list_sites]\n",
    "\n",
    "#create variable\n",
    "y = LpVariable.dicts(\"y\", keys, 0, None, \"Integer\")\n",
    "x = LpVariable.dicts(\"x\", list_sites, 0, None, \"Binary\")"
   ]
  },
  {
   "cell_type": "markdown",
   "metadata": {},
   "source": [
    "### 4. Menginisiasi Model\n",
    "Karena tujuan dari permasalahan ini adalah meminimalkan biaya, gunakan **LpMinimize**"
   ]
  },
  {
   "cell_type": "code",
   "execution_count": 9,
   "metadata": {},
   "outputs": [],
   "source": [
    "model = LpProblem(\"Facility_Location_Problem\", LpMinimize)"
   ]
  },
  {
   "cell_type": "markdown",
   "metadata": {},
   "source": [
    "### 5. Menambahkan Fungsi Tujuan dan Constrain\n",
    "\n",
    "**Fungsi Tujuan:**\n",
    "\n",
    "Tujuan dari permasalahan ini adalah meminimalkan biaya sekaligus biaya yang diperlukan untuk mendistribusikan barang dari pusat distribusi menuju toko\n",
    "\n",
    "**Batasan:**\n",
    " \n",
    " - Demand customer/toko (Di) harus dipenuhi\n",
    " - Toko i tidak dapat dilayani oleh pusat distribusi j kecuali jika fasilitas tersebut dibangun dan jumlah barang yang disalurkan dari pusat distribusi j ke semua toko harus kurang dari sama dengan kapasitasnya (Uj). \n",
    " \n",
    "<img src=\"https://user-images.githubusercontent.com/61647791/128858599-7987d759-af05-4ba0-8295-63b3199e043d.PNG\" />\n",
    "\n",
    "*sumber: Sarker and Newton - Optimization Modelling, A Practical Approach*"
   ]
  },
  {
   "cell_type": "code",
   "execution_count": 10,
   "metadata": {},
   "outputs": [],
   "source": [
    "#fungsi tujuan\n",
    "model += lpSum([dist_center.loc[j,\"Biaya\"]*x[j] for j in list_sites]) +  lpSum([costs.loc[i,j]*y[i,j] for (i,j) in keys])"
   ]
  },
  {
   "cell_type": "code",
   "execution_count": 11,
   "metadata": {},
   "outputs": [],
   "source": [
    "#constrain\n",
    "for i in list_customers:\n",
    "    model += lpSum([y[i,j] for j in list_sites]) == customers.loc[i,\"Demand per Periode\"]\n",
    "    \n",
    "for j in list_sites:\n",
    "    model += lpSum([y[i,j] - dist_center.loc[j,\"Kapasitas\"]*x[j] for i in list_customers]) <=0"
   ]
  },
  {
   "cell_type": "markdown",
   "metadata": {},
   "source": [
    "### 6. Menyelesaikan Model dan Mengecek Hasil Optimasi"
   ]
  },
  {
   "cell_type": "code",
   "execution_count": 12,
   "metadata": {},
   "outputs": [
    {
     "data": {
      "text/plain": [
       "1"
      ]
     },
     "execution_count": 12,
     "metadata": {},
     "output_type": "execute_result"
    }
   ],
   "source": [
    "#cek status model, jika hasilnya 1 artinya model sudah optimal\n",
    "model.solve()"
   ]
  },
  {
   "cell_type": "code",
   "execution_count": 113,
   "metadata": {},
   "outputs": [
    {
     "data": {
      "text/plain": [
       "26260"
      ]
     },
     "execution_count": 113,
     "metadata": {},
     "output_type": "execute_result"
    }
   ],
   "source": [
    "#cek biaya yang harus dikeluarkan\n",
    "model.objective.value()"
   ]
  },
  {
   "cell_type": "markdown",
   "metadata": {},
   "source": [
    "Saya juga membuat tabel yang berisi solusi dari permasalahan di atas supaya lebih mudah dipahami."
   ]
  },
  {
   "cell_type": "code",
   "execution_count": 14,
   "metadata": {},
   "outputs": [
    {
     "data": {
      "text/html": [
       "<div>\n",
       "<style scoped>\n",
       "    .dataframe tbody tr th:only-of-type {\n",
       "        vertical-align: middle;\n",
       "    }\n",
       "\n",
       "    .dataframe tbody tr th {\n",
       "        vertical-align: top;\n",
       "    }\n",
       "\n",
       "    .dataframe thead th {\n",
       "        text-align: right;\n",
       "    }\n",
       "</style>\n",
       "<table border=\"1\" class=\"dataframe\">\n",
       "  <thead>\n",
       "    <tr style=\"text-align: right;\">\n",
       "      <th>Customer</th>\n",
       "      <th>1</th>\n",
       "      <th>2</th>\n",
       "      <th>3</th>\n",
       "      <th>4</th>\n",
       "      <th>5</th>\n",
       "      <th>6</th>\n",
       "      <th>7</th>\n",
       "      <th>8</th>\n",
       "      <th>9</th>\n",
       "      <th>10</th>\n",
       "    </tr>\n",
       "    <tr>\n",
       "      <th>Lokasi potensial</th>\n",
       "      <th></th>\n",
       "      <th></th>\n",
       "      <th></th>\n",
       "      <th></th>\n",
       "      <th></th>\n",
       "      <th></th>\n",
       "      <th></th>\n",
       "      <th></th>\n",
       "      <th></th>\n",
       "      <th></th>\n",
       "    </tr>\n",
       "  </thead>\n",
       "  <tbody>\n",
       "    <tr>\n",
       "      <th>1</th>\n",
       "      <td>0</td>\n",
       "      <td>0</td>\n",
       "      <td>0</td>\n",
       "      <td>0</td>\n",
       "      <td>0</td>\n",
       "      <td>60</td>\n",
       "      <td>0</td>\n",
       "      <td>0</td>\n",
       "      <td>40</td>\n",
       "      <td>0</td>\n",
       "    </tr>\n",
       "    <tr>\n",
       "      <th>2</th>\n",
       "      <td>0</td>\n",
       "      <td>20</td>\n",
       "      <td>40</td>\n",
       "      <td>50</td>\n",
       "      <td>40</td>\n",
       "      <td>0</td>\n",
       "      <td>0</td>\n",
       "      <td>0</td>\n",
       "      <td>0</td>\n",
       "      <td>0</td>\n",
       "    </tr>\n",
       "    <tr>\n",
       "      <th>3</th>\n",
       "      <td>30</td>\n",
       "      <td>0</td>\n",
       "      <td>0</td>\n",
       "      <td>0</td>\n",
       "      <td>0</td>\n",
       "      <td>0</td>\n",
       "      <td>30</td>\n",
       "      <td>50</td>\n",
       "      <td>0</td>\n",
       "      <td>40</td>\n",
       "    </tr>\n",
       "  </tbody>\n",
       "</table>\n",
       "</div>"
      ],
      "text/plain": [
       "Customer          1   2   3   4   5   6   7   8   9   10\n",
       "Lokasi potensial                                        \n",
       "1                  0   0   0   0   0  60   0   0  40   0\n",
       "2                  0  20  40  50  40   0   0   0   0   0\n",
       "3                 30   0   0   0   0   0  30  50   0  40"
      ]
     },
     "execution_count": 14,
     "metadata": {},
     "output_type": "execute_result"
    }
   ],
   "source": [
    "solutions = []\n",
    "for j in list_sites:\n",
    "    for i in list_customers:\n",
    "        solutions.append(y[i,j].varValue)\n",
    "\n",
    "solutions_grouped = [solutions[i:i+10] for i in range(0,len(solutions),10)]\n",
    "df_sol = pd.DataFrame(solutions_grouped, columns=list_customers, index=list_sites)\n",
    "df_sol"
   ]
  },
  {
   "cell_type": "code",
   "execution_count": 15,
   "metadata": {},
   "outputs": [],
   "source": [
    "#export tabel\n",
    "df_sol.to_excel(\"FLP_Solution.xlsx\")"
   ]
  },
  {
   "cell_type": "markdown",
   "metadata": {},
   "source": [
    "Dari tabel di atas, sepuluh toko tersebut mendapatkan pasokan dari tiga pusat distribusi. Tidak ada toko yang tidak mendapatkan bagian. Fasilitas kedua memiliki harga yang lebih murah dengan kapasitas sebesar 150 sehingga terutilisasi sempurna tanpa sisa. Berbeda dengan fasilitas pertama dan ketiga yang masih memiliki sisa kapasitas."
   ]
  },
  {
   "cell_type": "markdown",
   "metadata": {},
   "source": [
    "# Penutup\n",
    "Demikian tutorial singkat menyelesaikan permasalahan facility location problem menggunakan pulp, mohon maaf jika terdapat salah maupun kekurangan. Selamat mencoba :)"
   ]
  }
 ],
 "metadata": {
  "kernelspec": {
   "display_name": "Python 3",
   "language": "python",
   "name": "python3"
  },
  "language_info": {
   "codemirror_mode": {
    "name": "ipython",
    "version": 3
   },
   "file_extension": ".py",
   "mimetype": "text/x-python",
   "name": "python",
   "nbconvert_exporter": "python",
   "pygments_lexer": "ipython3",
   "version": "3.8.3"
  }
 },
 "nbformat": 4,
 "nbformat_minor": 4
}
